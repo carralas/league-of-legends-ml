{
 "cells": [
  {
   "cell_type": "code",
   "execution_count": 1,
   "metadata": {},
   "outputs": [],
   "source": [
    "import pandas as pd\n",
    "import numpy as np"
   ]
  },
  {
   "cell_type": "markdown",
   "metadata": {},
   "source": [
    "# Tratamento de dados"
   ]
  },
  {
   "cell_type": "markdown",
   "metadata": {},
   "source": [
    "### Mescla de datasets, criação de dummies e tratamento de dados."
   ]
  },
  {
   "cell_type": "markdown",
   "metadata": {},
   "source": [
    "Importando e ajustando o dataset já tratado por mim de personagens e suas respectivas classes.\n",
    "Importando o dataset de jogadores associados às personagens e mesclando com o anterior."
   ]
  },
  {
   "cell_type": "code",
   "execution_count": 2,
   "metadata": {},
   "outputs": [
    {
     "data": {
      "text/html": [
       "<div>\n",
       "<style scoped>\n",
       "    .dataframe tbody tr th:only-of-type {\n",
       "        vertical-align: middle;\n",
       "    }\n",
       "\n",
       "    .dataframe tbody tr th {\n",
       "        vertical-align: top;\n",
       "    }\n",
       "\n",
       "    .dataframe thead th {\n",
       "        text-align: right;\n",
       "    }\n",
       "</style>\n",
       "<table border=\"1\" class=\"dataframe\">\n",
       "  <thead>\n",
       "    <tr style=\"text-align: right;\">\n",
       "      <th></th>\n",
       "      <th>name</th>\n",
       "      <th>class1</th>\n",
       "      <th>class2</th>\n",
       "      <th>class3</th>\n",
       "    </tr>\n",
       "    <tr>\n",
       "      <th>id</th>\n",
       "      <th></th>\n",
       "      <th></th>\n",
       "      <th></th>\n",
       "      <th></th>\n",
       "    </tr>\n",
       "  </thead>\n",
       "  <tbody>\n",
       "    <tr>\n",
       "      <td>24</td>\n",
       "      <td>Jax</td>\n",
       "      <td>Skirmisher</td>\n",
       "      <td>NaN</td>\n",
       "      <td>NaN</td>\n",
       "    </tr>\n",
       "    <tr>\n",
       "      <td>37</td>\n",
       "      <td>Sona</td>\n",
       "      <td>Enchanter</td>\n",
       "      <td>NaN</td>\n",
       "      <td>NaN</td>\n",
       "    </tr>\n",
       "    <tr>\n",
       "      <td>18</td>\n",
       "      <td>Tristana</td>\n",
       "      <td>Marksman</td>\n",
       "      <td>NaN</td>\n",
       "      <td>NaN</td>\n",
       "    </tr>\n",
       "    <tr>\n",
       "      <td>110</td>\n",
       "      <td>Varus</td>\n",
       "      <td>Artillery</td>\n",
       "      <td>Marksman</td>\n",
       "      <td>NaN</td>\n",
       "    </tr>\n",
       "    <tr>\n",
       "      <td>114</td>\n",
       "      <td>Fiora</td>\n",
       "      <td>Skirmisher</td>\n",
       "      <td>NaN</td>\n",
       "      <td>NaN</td>\n",
       "    </tr>\n",
       "  </tbody>\n",
       "</table>\n",
       "</div>"
      ],
      "text/plain": [
       "         name      class1    class2 class3\n",
       "id                                        \n",
       "24        Jax  Skirmisher       NaN    NaN\n",
       "37       Sona   Enchanter       NaN    NaN\n",
       "18   Tristana    Marksman       NaN    NaN\n",
       "110     Varus   Artillery  Marksman    NaN\n",
       "114     Fiora  Skirmisher       NaN    NaN"
      ]
     },
     "execution_count": 2,
     "metadata": {},
     "output_type": "execute_result"
    }
   ],
   "source": [
    "df_champions = pd.read_csv('data/champsclass.csv', index_col='id')\n",
    "df_champions.head()"
   ]
  },
  {
   "cell_type": "code",
   "execution_count": 3,
   "metadata": {},
   "outputs": [],
   "source": [
    "df_champions.fillna('',inplace=True)"
   ]
  },
  {
   "cell_type": "code",
   "execution_count": 4,
   "metadata": {},
   "outputs": [
    {
     "data": {
      "text/html": [
       "<div>\n",
       "<style scoped>\n",
       "    .dataframe tbody tr th:only-of-type {\n",
       "        vertical-align: middle;\n",
       "    }\n",
       "\n",
       "    .dataframe tbody tr th {\n",
       "        vertical-align: top;\n",
       "    }\n",
       "\n",
       "    .dataframe thead th {\n",
       "        text-align: right;\n",
       "    }\n",
       "</style>\n",
       "<table border=\"1\" class=\"dataframe\">\n",
       "  <thead>\n",
       "    <tr style=\"text-align: right;\">\n",
       "      <th></th>\n",
       "      <th>name</th>\n",
       "      <th>class1</th>\n",
       "      <th>class2</th>\n",
       "      <th>class3</th>\n",
       "      <th>classes</th>\n",
       "    </tr>\n",
       "    <tr>\n",
       "      <th>id</th>\n",
       "      <th></th>\n",
       "      <th></th>\n",
       "      <th></th>\n",
       "      <th></th>\n",
       "      <th></th>\n",
       "    </tr>\n",
       "  </thead>\n",
       "  <tbody>\n",
       "    <tr>\n",
       "      <td>24</td>\n",
       "      <td>Jax</td>\n",
       "      <td>Skirmisher</td>\n",
       "      <td></td>\n",
       "      <td></td>\n",
       "      <td>Skirmisher--</td>\n",
       "    </tr>\n",
       "    <tr>\n",
       "      <td>37</td>\n",
       "      <td>Sona</td>\n",
       "      <td>Enchanter</td>\n",
       "      <td></td>\n",
       "      <td></td>\n",
       "      <td>Enchanter--</td>\n",
       "    </tr>\n",
       "    <tr>\n",
       "      <td>18</td>\n",
       "      <td>Tristana</td>\n",
       "      <td>Marksman</td>\n",
       "      <td></td>\n",
       "      <td></td>\n",
       "      <td>Marksman--</td>\n",
       "    </tr>\n",
       "    <tr>\n",
       "      <td>110</td>\n",
       "      <td>Varus</td>\n",
       "      <td>Artillery</td>\n",
       "      <td>Marksman</td>\n",
       "      <td></td>\n",
       "      <td>Artillery-Marksman-</td>\n",
       "    </tr>\n",
       "    <tr>\n",
       "      <td>114</td>\n",
       "      <td>Fiora</td>\n",
       "      <td>Skirmisher</td>\n",
       "      <td></td>\n",
       "      <td></td>\n",
       "      <td>Skirmisher--</td>\n",
       "    </tr>\n",
       "  </tbody>\n",
       "</table>\n",
       "</div>"
      ],
      "text/plain": [
       "         name      class1    class2 class3              classes\n",
       "id                                                             \n",
       "24        Jax  Skirmisher                          Skirmisher--\n",
       "37       Sona   Enchanter                           Enchanter--\n",
       "18   Tristana    Marksman                            Marksman--\n",
       "110     Varus   Artillery  Marksman         Artillery-Marksman-\n",
       "114     Fiora  Skirmisher                          Skirmisher--"
      ]
     },
     "execution_count": 4,
     "metadata": {},
     "output_type": "execute_result"
    }
   ],
   "source": [
    "df_champions['classes'] = df_champions['class1']+'-'+df_champions['class2']+'-'+df_champions['class3']\n",
    "df_champions.head()"
   ]
  },
  {
   "cell_type": "code",
   "execution_count": 5,
   "metadata": {},
   "outputs": [],
   "source": [
    "names = list(df_champions['name'].sort_values().unique())"
   ]
  },
  {
   "cell_type": "code",
   "execution_count": 6,
   "metadata": {},
   "outputs": [
    {
     "data": {
      "text/html": [
       "<div>\n",
       "<style scoped>\n",
       "    .dataframe tbody tr th:only-of-type {\n",
       "        vertical-align: middle;\n",
       "    }\n",
       "\n",
       "    .dataframe tbody tr th {\n",
       "        vertical-align: top;\n",
       "    }\n",
       "\n",
       "    .dataframe thead th {\n",
       "        text-align: right;\n",
       "    }\n",
       "</style>\n",
       "<table border=\"1\" class=\"dataframe\">\n",
       "  <thead>\n",
       "    <tr style=\"text-align: right;\">\n",
       "      <th></th>\n",
       "      <th>name</th>\n",
       "      <th>Artillery</th>\n",
       "      <th>Assassin</th>\n",
       "      <th>Battlemage</th>\n",
       "      <th>Burst</th>\n",
       "      <th>Catcher</th>\n",
       "      <th>Diver</th>\n",
       "      <th>Enchanter</th>\n",
       "      <th>Juggernaut</th>\n",
       "      <th>Marksman</th>\n",
       "      <th>Skirmisher</th>\n",
       "      <th>Specialist</th>\n",
       "      <th>Vanguard</th>\n",
       "      <th>Warden</th>\n",
       "    </tr>\n",
       "    <tr>\n",
       "      <th>id</th>\n",
       "      <th></th>\n",
       "      <th></th>\n",
       "      <th></th>\n",
       "      <th></th>\n",
       "      <th></th>\n",
       "      <th></th>\n",
       "      <th></th>\n",
       "      <th></th>\n",
       "      <th></th>\n",
       "      <th></th>\n",
       "      <th></th>\n",
       "      <th></th>\n",
       "      <th></th>\n",
       "      <th></th>\n",
       "    </tr>\n",
       "  </thead>\n",
       "  <tbody>\n",
       "    <tr>\n",
       "      <td>24</td>\n",
       "      <td>Jax</td>\n",
       "      <td>0</td>\n",
       "      <td>0</td>\n",
       "      <td>0</td>\n",
       "      <td>0</td>\n",
       "      <td>0</td>\n",
       "      <td>0</td>\n",
       "      <td>0</td>\n",
       "      <td>0</td>\n",
       "      <td>0</td>\n",
       "      <td>1</td>\n",
       "      <td>0</td>\n",
       "      <td>0</td>\n",
       "      <td>0</td>\n",
       "    </tr>\n",
       "    <tr>\n",
       "      <td>37</td>\n",
       "      <td>Sona</td>\n",
       "      <td>0</td>\n",
       "      <td>0</td>\n",
       "      <td>0</td>\n",
       "      <td>0</td>\n",
       "      <td>0</td>\n",
       "      <td>0</td>\n",
       "      <td>1</td>\n",
       "      <td>0</td>\n",
       "      <td>0</td>\n",
       "      <td>0</td>\n",
       "      <td>0</td>\n",
       "      <td>0</td>\n",
       "      <td>0</td>\n",
       "    </tr>\n",
       "    <tr>\n",
       "      <td>18</td>\n",
       "      <td>Tristana</td>\n",
       "      <td>0</td>\n",
       "      <td>0</td>\n",
       "      <td>0</td>\n",
       "      <td>0</td>\n",
       "      <td>0</td>\n",
       "      <td>0</td>\n",
       "      <td>0</td>\n",
       "      <td>0</td>\n",
       "      <td>1</td>\n",
       "      <td>0</td>\n",
       "      <td>0</td>\n",
       "      <td>0</td>\n",
       "      <td>0</td>\n",
       "    </tr>\n",
       "    <tr>\n",
       "      <td>110</td>\n",
       "      <td>Varus</td>\n",
       "      <td>1</td>\n",
       "      <td>0</td>\n",
       "      <td>0</td>\n",
       "      <td>0</td>\n",
       "      <td>0</td>\n",
       "      <td>0</td>\n",
       "      <td>0</td>\n",
       "      <td>0</td>\n",
       "      <td>1</td>\n",
       "      <td>0</td>\n",
       "      <td>0</td>\n",
       "      <td>0</td>\n",
       "      <td>0</td>\n",
       "    </tr>\n",
       "    <tr>\n",
       "      <td>114</td>\n",
       "      <td>Fiora</td>\n",
       "      <td>0</td>\n",
       "      <td>0</td>\n",
       "      <td>0</td>\n",
       "      <td>0</td>\n",
       "      <td>0</td>\n",
       "      <td>0</td>\n",
       "      <td>0</td>\n",
       "      <td>0</td>\n",
       "      <td>0</td>\n",
       "      <td>1</td>\n",
       "      <td>0</td>\n",
       "      <td>0</td>\n",
       "      <td>0</td>\n",
       "    </tr>\n",
       "  </tbody>\n",
       "</table>\n",
       "</div>"
      ],
      "text/plain": [
       "         name  Artillery  Assassin  Battlemage  Burst  Catcher  Diver  \\\n",
       "id                                                                      \n",
       "24        Jax          0         0           0      0        0      0   \n",
       "37       Sona          0         0           0      0        0      0   \n",
       "18   Tristana          0         0           0      0        0      0   \n",
       "110     Varus          1         0           0      0        0      0   \n",
       "114     Fiora          0         0           0      0        0      0   \n",
       "\n",
       "     Enchanter  Juggernaut  Marksman  Skirmisher  Specialist  Vanguard  Warden  \n",
       "id                                                                              \n",
       "24           0           0         0           1           0         0       0  \n",
       "37           1           0         0           0           0         0       0  \n",
       "18           0           0         1           0           0         0       0  \n",
       "110          0           0         1           0           0         0       0  \n",
       "114          0           0         0           1           0         0       0  "
      ]
     },
     "execution_count": 6,
     "metadata": {},
     "output_type": "execute_result"
    }
   ],
   "source": [
    "championsdata = df_champions.join(df_champions['classes'].str.get_dummies(sep='-')).drop(columns=['class1',\n",
    "                                                                                                  'class2',\n",
    "                                                                                                  'class3',\n",
    "                                                                                                  'classes'])\n",
    "championsdata.head()"
   ]
  },
  {
   "cell_type": "code",
   "execution_count": 7,
   "metadata": {
    "scrolled": true
   },
   "outputs": [
    {
     "name": "stderr",
     "output_type": "stream",
     "text": [
      "/usr/local/lib/python3.7/site-packages/numpy/lib/arraysetops.py:568: FutureWarning: elementwise comparison failed; returning scalar instead, but in the future will perform elementwise comparison\n",
      "  mask |= (ar1 == a)\n"
     ]
    },
    {
     "data": {
      "text/html": [
       "<div>\n",
       "<style scoped>\n",
       "    .dataframe tbody tr th:only-of-type {\n",
       "        vertical-align: middle;\n",
       "    }\n",
       "\n",
       "    .dataframe tbody tr th {\n",
       "        vertical-align: top;\n",
       "    }\n",
       "\n",
       "    .dataframe thead th {\n",
       "        text-align: right;\n",
       "    }\n",
       "</style>\n",
       "<table border=\"1\" class=\"dataframe\">\n",
       "  <thead>\n",
       "    <tr style=\"text-align: right;\">\n",
       "      <th></th>\n",
       "      <th>matchid</th>\n",
       "      <th>player</th>\n",
       "      <th>championid</th>\n",
       "      <th>ss1</th>\n",
       "      <th>ss2</th>\n",
       "      <th>role</th>\n",
       "      <th>position</th>\n",
       "    </tr>\n",
       "    <tr>\n",
       "      <th>id</th>\n",
       "      <th></th>\n",
       "      <th></th>\n",
       "      <th></th>\n",
       "      <th></th>\n",
       "      <th></th>\n",
       "      <th></th>\n",
       "      <th></th>\n",
       "    </tr>\n",
       "  </thead>\n",
       "  <tbody>\n",
       "    <tr>\n",
       "      <td>9</td>\n",
       "      <td>10</td>\n",
       "      <td>1</td>\n",
       "      <td>19</td>\n",
       "      <td>4</td>\n",
       "      <td>11</td>\n",
       "      <td>NONE</td>\n",
       "      <td>JUNGLE</td>\n",
       "    </tr>\n",
       "    <tr>\n",
       "      <td>10</td>\n",
       "      <td>10</td>\n",
       "      <td>2</td>\n",
       "      <td>267</td>\n",
       "      <td>3</td>\n",
       "      <td>4</td>\n",
       "      <td>DUO_SUPPORT</td>\n",
       "      <td>BOT</td>\n",
       "    </tr>\n",
       "    <tr>\n",
       "      <td>11</td>\n",
       "      <td>10</td>\n",
       "      <td>3</td>\n",
       "      <td>119</td>\n",
       "      <td>7</td>\n",
       "      <td>4</td>\n",
       "      <td>DUO_CARRY</td>\n",
       "      <td>BOT</td>\n",
       "    </tr>\n",
       "    <tr>\n",
       "      <td>12</td>\n",
       "      <td>10</td>\n",
       "      <td>4</td>\n",
       "      <td>114</td>\n",
       "      <td>12</td>\n",
       "      <td>4</td>\n",
       "      <td>SOLO</td>\n",
       "      <td>TOP</td>\n",
       "    </tr>\n",
       "    <tr>\n",
       "      <td>13</td>\n",
       "      <td>10</td>\n",
       "      <td>5</td>\n",
       "      <td>112</td>\n",
       "      <td>4</td>\n",
       "      <td>3</td>\n",
       "      <td>SOLO</td>\n",
       "      <td>MID</td>\n",
       "    </tr>\n",
       "  </tbody>\n",
       "</table>\n",
       "</div>"
      ],
      "text/plain": [
       "    matchid  player  championid  ss1  ss2         role position\n",
       "id                                                             \n",
       "9        10       1          19    4   11         NONE   JUNGLE\n",
       "10       10       2         267    3    4  DUO_SUPPORT      BOT\n",
       "11       10       3         119    7    4    DUO_CARRY      BOT\n",
       "12       10       4         114   12    4         SOLO      TOP\n",
       "13       10       5         112    4    3         SOLO      MID"
      ]
     },
     "execution_count": 7,
     "metadata": {},
     "output_type": "execute_result"
    }
   ],
   "source": [
    "df_participants = pd.read_csv('data/participants.csv', index_col='id')\n",
    "df_participants.head()"
   ]
  },
  {
   "cell_type": "markdown",
   "metadata": {},
   "source": [
    "Importando e concatenando os datasets de informações de jogo para cada jogador em cada partida e selecionando apenas a coluna de vitória para então mesclar com o dataset anterior."
   ]
  },
  {
   "cell_type": "code",
   "execution_count": 8,
   "metadata": {},
   "outputs": [
    {
     "name": "stderr",
     "output_type": "stream",
     "text": [
      "/usr/local/Cellar/ipython/7.7.0/libexec/lib/python3.7/site-packages/IPython/core/interactiveshell.py:3058: DtypeWarning: Columns (52) have mixed types. Specify dtype option on import or set low_memory=False.\n",
      "  interactivity=interactivity, compiler=compiler, result=result)\n"
     ]
    },
    {
     "data": {
      "text/html": [
       "<div>\n",
       "<style scoped>\n",
       "    .dataframe tbody tr th:only-of-type {\n",
       "        vertical-align: middle;\n",
       "    }\n",
       "\n",
       "    .dataframe tbody tr th {\n",
       "        vertical-align: top;\n",
       "    }\n",
       "\n",
       "    .dataframe thead th {\n",
       "        text-align: right;\n",
       "    }\n",
       "</style>\n",
       "<table border=\"1\" class=\"dataframe\">\n",
       "  <thead>\n",
       "    <tr style=\"text-align: right;\">\n",
       "      <th></th>\n",
       "      <th>win</th>\n",
       "    </tr>\n",
       "    <tr>\n",
       "      <th>id</th>\n",
       "      <th></th>\n",
       "    </tr>\n",
       "  </thead>\n",
       "  <tbody>\n",
       "    <tr>\n",
       "      <td>9</td>\n",
       "      <td>0</td>\n",
       "    </tr>\n",
       "    <tr>\n",
       "      <td>10</td>\n",
       "      <td>0</td>\n",
       "    </tr>\n",
       "    <tr>\n",
       "      <td>11</td>\n",
       "      <td>0</td>\n",
       "    </tr>\n",
       "    <tr>\n",
       "      <td>12</td>\n",
       "      <td>0</td>\n",
       "    </tr>\n",
       "    <tr>\n",
       "      <td>13</td>\n",
       "      <td>0</td>\n",
       "    </tr>\n",
       "  </tbody>\n",
       "</table>\n",
       "</div>"
      ],
      "text/plain": [
       "    win\n",
       "id     \n",
       "9     0\n",
       "10    0\n",
       "11    0\n",
       "12    0\n",
       "13    0"
      ]
     },
     "execution_count": 8,
     "metadata": {},
     "output_type": "execute_result"
    }
   ],
   "source": [
    "df_participants_stats = pd.concat([pd.read_csv('data/stats1.csv', index_col='id')['win'],\n",
    "                                   pd.read_csv('data/stats2.csv', index_col='id')['win']])\n",
    "df_participants_stats.to_frame().head()"
   ]
  },
  {
   "cell_type": "code",
   "execution_count": 9,
   "metadata": {},
   "outputs": [
    {
     "data": {
      "text/html": [
       "<div>\n",
       "<style scoped>\n",
       "    .dataframe tbody tr th:only-of-type {\n",
       "        vertical-align: middle;\n",
       "    }\n",
       "\n",
       "    .dataframe tbody tr th {\n",
       "        vertical-align: top;\n",
       "    }\n",
       "\n",
       "    .dataframe thead th {\n",
       "        text-align: right;\n",
       "    }\n",
       "</style>\n",
       "<table border=\"1\" class=\"dataframe\">\n",
       "  <thead>\n",
       "    <tr style=\"text-align: right;\">\n",
       "      <th></th>\n",
       "      <th>matchid</th>\n",
       "      <th>player</th>\n",
       "      <th>championid</th>\n",
       "      <th>ss1</th>\n",
       "      <th>ss2</th>\n",
       "      <th>role</th>\n",
       "      <th>position</th>\n",
       "      <th>win</th>\n",
       "    </tr>\n",
       "    <tr>\n",
       "      <th>id</th>\n",
       "      <th></th>\n",
       "      <th></th>\n",
       "      <th></th>\n",
       "      <th></th>\n",
       "      <th></th>\n",
       "      <th></th>\n",
       "      <th></th>\n",
       "      <th></th>\n",
       "    </tr>\n",
       "  </thead>\n",
       "  <tbody>\n",
       "    <tr>\n",
       "      <td>9</td>\n",
       "      <td>10</td>\n",
       "      <td>1</td>\n",
       "      <td>19</td>\n",
       "      <td>4</td>\n",
       "      <td>11</td>\n",
       "      <td>NONE</td>\n",
       "      <td>JUNGLE</td>\n",
       "      <td>0.0</td>\n",
       "    </tr>\n",
       "    <tr>\n",
       "      <td>10</td>\n",
       "      <td>10</td>\n",
       "      <td>2</td>\n",
       "      <td>267</td>\n",
       "      <td>3</td>\n",
       "      <td>4</td>\n",
       "      <td>DUO_SUPPORT</td>\n",
       "      <td>BOT</td>\n",
       "      <td>0.0</td>\n",
       "    </tr>\n",
       "    <tr>\n",
       "      <td>11</td>\n",
       "      <td>10</td>\n",
       "      <td>3</td>\n",
       "      <td>119</td>\n",
       "      <td>7</td>\n",
       "      <td>4</td>\n",
       "      <td>DUO_CARRY</td>\n",
       "      <td>BOT</td>\n",
       "      <td>0.0</td>\n",
       "    </tr>\n",
       "    <tr>\n",
       "      <td>12</td>\n",
       "      <td>10</td>\n",
       "      <td>4</td>\n",
       "      <td>114</td>\n",
       "      <td>12</td>\n",
       "      <td>4</td>\n",
       "      <td>SOLO</td>\n",
       "      <td>TOP</td>\n",
       "      <td>0.0</td>\n",
       "    </tr>\n",
       "    <tr>\n",
       "      <td>13</td>\n",
       "      <td>10</td>\n",
       "      <td>5</td>\n",
       "      <td>112</td>\n",
       "      <td>4</td>\n",
       "      <td>3</td>\n",
       "      <td>SOLO</td>\n",
       "      <td>MID</td>\n",
       "      <td>0.0</td>\n",
       "    </tr>\n",
       "  </tbody>\n",
       "</table>\n",
       "</div>"
      ],
      "text/plain": [
       "    matchid  player  championid  ss1  ss2         role position  win\n",
       "id                                                                  \n",
       "9        10       1          19    4   11         NONE   JUNGLE  0.0\n",
       "10       10       2         267    3    4  DUO_SUPPORT      BOT  0.0\n",
       "11       10       3         119    7    4    DUO_CARRY      BOT  0.0\n",
       "12       10       4         114   12    4         SOLO      TOP  0.0\n",
       "13       10       5         112    4    3         SOLO      MID  0.0"
      ]
     },
     "execution_count": 9,
     "metadata": {},
     "output_type": "execute_result"
    }
   ],
   "source": [
    "df_participants = df_participants.join(df_participants_stats)\n",
    "df_participants.head()"
   ]
  },
  {
   "cell_type": "markdown",
   "metadata": {},
   "source": [
    "Associando a cada jogador o time ao qual faz parte e criando uma chave única para partida e time."
   ]
  },
  {
   "cell_type": "code",
   "execution_count": 10,
   "metadata": {},
   "outputs": [
    {
     "data": {
      "text/html": [
       "<div>\n",
       "<style scoped>\n",
       "    .dataframe tbody tr th:only-of-type {\n",
       "        vertical-align: middle;\n",
       "    }\n",
       "\n",
       "    .dataframe tbody tr th {\n",
       "        vertical-align: top;\n",
       "    }\n",
       "\n",
       "    .dataframe thead th {\n",
       "        text-align: right;\n",
       "    }\n",
       "</style>\n",
       "<table border=\"1\" class=\"dataframe\">\n",
       "  <thead>\n",
       "    <tr style=\"text-align: right;\">\n",
       "      <th></th>\n",
       "      <th>matchid</th>\n",
       "      <th>player</th>\n",
       "      <th>championid</th>\n",
       "      <th>win</th>\n",
       "      <th>name</th>\n",
       "      <th>Artillery</th>\n",
       "      <th>Assassin</th>\n",
       "      <th>Battlemage</th>\n",
       "      <th>Burst</th>\n",
       "      <th>Catcher</th>\n",
       "      <th>Diver</th>\n",
       "      <th>Enchanter</th>\n",
       "      <th>Juggernaut</th>\n",
       "      <th>Marksman</th>\n",
       "      <th>Skirmisher</th>\n",
       "      <th>Specialist</th>\n",
       "      <th>Vanguard</th>\n",
       "      <th>Warden</th>\n",
       "    </tr>\n",
       "    <tr>\n",
       "      <th>id</th>\n",
       "      <th></th>\n",
       "      <th></th>\n",
       "      <th></th>\n",
       "      <th></th>\n",
       "      <th></th>\n",
       "      <th></th>\n",
       "      <th></th>\n",
       "      <th></th>\n",
       "      <th></th>\n",
       "      <th></th>\n",
       "      <th></th>\n",
       "      <th></th>\n",
       "      <th></th>\n",
       "      <th></th>\n",
       "      <th></th>\n",
       "      <th></th>\n",
       "      <th></th>\n",
       "      <th></th>\n",
       "    </tr>\n",
       "  </thead>\n",
       "  <tbody>\n",
       "    <tr>\n",
       "      <td>9</td>\n",
       "      <td>10</td>\n",
       "      <td>1</td>\n",
       "      <td>19</td>\n",
       "      <td>0.0</td>\n",
       "      <td>Warwick</td>\n",
       "      <td>0</td>\n",
       "      <td>0</td>\n",
       "      <td>0</td>\n",
       "      <td>0</td>\n",
       "      <td>0</td>\n",
       "      <td>1</td>\n",
       "      <td>0</td>\n",
       "      <td>0</td>\n",
       "      <td>0</td>\n",
       "      <td>0</td>\n",
       "      <td>0</td>\n",
       "      <td>0</td>\n",
       "      <td>0</td>\n",
       "    </tr>\n",
       "    <tr>\n",
       "      <td>10</td>\n",
       "      <td>10</td>\n",
       "      <td>2</td>\n",
       "      <td>267</td>\n",
       "      <td>0.0</td>\n",
       "      <td>Nami</td>\n",
       "      <td>0</td>\n",
       "      <td>0</td>\n",
       "      <td>0</td>\n",
       "      <td>0</td>\n",
       "      <td>0</td>\n",
       "      <td>0</td>\n",
       "      <td>1</td>\n",
       "      <td>0</td>\n",
       "      <td>0</td>\n",
       "      <td>0</td>\n",
       "      <td>0</td>\n",
       "      <td>0</td>\n",
       "      <td>0</td>\n",
       "    </tr>\n",
       "    <tr>\n",
       "      <td>11</td>\n",
       "      <td>10</td>\n",
       "      <td>3</td>\n",
       "      <td>119</td>\n",
       "      <td>0.0</td>\n",
       "      <td>Draven</td>\n",
       "      <td>0</td>\n",
       "      <td>0</td>\n",
       "      <td>0</td>\n",
       "      <td>0</td>\n",
       "      <td>0</td>\n",
       "      <td>0</td>\n",
       "      <td>0</td>\n",
       "      <td>0</td>\n",
       "      <td>1</td>\n",
       "      <td>0</td>\n",
       "      <td>0</td>\n",
       "      <td>0</td>\n",
       "      <td>0</td>\n",
       "    </tr>\n",
       "    <tr>\n",
       "      <td>12</td>\n",
       "      <td>10</td>\n",
       "      <td>4</td>\n",
       "      <td>114</td>\n",
       "      <td>0.0</td>\n",
       "      <td>Fiora</td>\n",
       "      <td>0</td>\n",
       "      <td>0</td>\n",
       "      <td>0</td>\n",
       "      <td>0</td>\n",
       "      <td>0</td>\n",
       "      <td>0</td>\n",
       "      <td>0</td>\n",
       "      <td>0</td>\n",
       "      <td>0</td>\n",
       "      <td>1</td>\n",
       "      <td>0</td>\n",
       "      <td>0</td>\n",
       "      <td>0</td>\n",
       "    </tr>\n",
       "    <tr>\n",
       "      <td>13</td>\n",
       "      <td>10</td>\n",
       "      <td>5</td>\n",
       "      <td>112</td>\n",
       "      <td>0.0</td>\n",
       "      <td>Viktor</td>\n",
       "      <td>0</td>\n",
       "      <td>0</td>\n",
       "      <td>1</td>\n",
       "      <td>0</td>\n",
       "      <td>0</td>\n",
       "      <td>0</td>\n",
       "      <td>0</td>\n",
       "      <td>0</td>\n",
       "      <td>0</td>\n",
       "      <td>0</td>\n",
       "      <td>0</td>\n",
       "      <td>0</td>\n",
       "      <td>0</td>\n",
       "    </tr>\n",
       "  </tbody>\n",
       "</table>\n",
       "</div>"
      ],
      "text/plain": [
       "    matchid  player  championid  win     name  Artillery  Assassin  \\\n",
       "id                                                                   \n",
       "9        10       1          19  0.0  Warwick          0         0   \n",
       "10       10       2         267  0.0     Nami          0         0   \n",
       "11       10       3         119  0.0   Draven          0         0   \n",
       "12       10       4         114  0.0    Fiora          0         0   \n",
       "13       10       5         112  0.0   Viktor          0         0   \n",
       "\n",
       "    Battlemage  Burst  Catcher  Diver  Enchanter  Juggernaut  Marksman  \\\n",
       "id                                                                       \n",
       "9            0      0        0      1          0           0         0   \n",
       "10           0      0        0      0          1           0         0   \n",
       "11           0      0        0      0          0           0         1   \n",
       "12           0      0        0      0          0           0         0   \n",
       "13           1      0        0      0          0           0         0   \n",
       "\n",
       "    Skirmisher  Specialist  Vanguard  Warden  \n",
       "id                                            \n",
       "9            0           0         0       0  \n",
       "10           0           0         0       0  \n",
       "11           0           0         0       0  \n",
       "12           1           0         0       0  \n",
       "13           0           0         0       0  "
      ]
     },
     "execution_count": 10,
     "metadata": {},
     "output_type": "execute_result"
    }
   ],
   "source": [
    "playerdata = df_participants.join(championsdata, on='championid').drop(columns=['ss1', 'ss2',\n",
    "                                                                                'role', 'position'])\n",
    "playerdata.head()"
   ]
  },
  {
   "cell_type": "code",
   "execution_count": 11,
   "metadata": {},
   "outputs": [
    {
     "data": {
      "text/html": [
       "<div>\n",
       "<style scoped>\n",
       "    .dataframe tbody tr th:only-of-type {\n",
       "        vertical-align: middle;\n",
       "    }\n",
       "\n",
       "    .dataframe tbody tr th {\n",
       "        vertical-align: top;\n",
       "    }\n",
       "\n",
       "    .dataframe thead th {\n",
       "        text-align: right;\n",
       "    }\n",
       "</style>\n",
       "<table border=\"1\" class=\"dataframe\">\n",
       "  <thead>\n",
       "    <tr style=\"text-align: right;\">\n",
       "      <th></th>\n",
       "      <th>matchid</th>\n",
       "      <th>player</th>\n",
       "      <th>championid</th>\n",
       "      <th>win</th>\n",
       "      <th>name</th>\n",
       "      <th>Artillery</th>\n",
       "      <th>Assassin</th>\n",
       "      <th>Battlemage</th>\n",
       "      <th>Burst</th>\n",
       "      <th>Catcher</th>\n",
       "      <th>Diver</th>\n",
       "      <th>Enchanter</th>\n",
       "      <th>Juggernaut</th>\n",
       "      <th>Marksman</th>\n",
       "      <th>Skirmisher</th>\n",
       "      <th>Specialist</th>\n",
       "      <th>Vanguard</th>\n",
       "      <th>Warden</th>\n",
       "      <th>teamid</th>\n",
       "      <th>absid</th>\n",
       "    </tr>\n",
       "    <tr>\n",
       "      <th>id</th>\n",
       "      <th></th>\n",
       "      <th></th>\n",
       "      <th></th>\n",
       "      <th></th>\n",
       "      <th></th>\n",
       "      <th></th>\n",
       "      <th></th>\n",
       "      <th></th>\n",
       "      <th></th>\n",
       "      <th></th>\n",
       "      <th></th>\n",
       "      <th></th>\n",
       "      <th></th>\n",
       "      <th></th>\n",
       "      <th></th>\n",
       "      <th></th>\n",
       "      <th></th>\n",
       "      <th></th>\n",
       "      <th></th>\n",
       "      <th></th>\n",
       "    </tr>\n",
       "  </thead>\n",
       "  <tbody>\n",
       "    <tr>\n",
       "      <td>9</td>\n",
       "      <td>10</td>\n",
       "      <td>1</td>\n",
       "      <td>19</td>\n",
       "      <td>0.0</td>\n",
       "      <td>Warwick</td>\n",
       "      <td>0</td>\n",
       "      <td>0</td>\n",
       "      <td>0</td>\n",
       "      <td>0</td>\n",
       "      <td>0</td>\n",
       "      <td>1</td>\n",
       "      <td>0</td>\n",
       "      <td>0</td>\n",
       "      <td>0</td>\n",
       "      <td>0</td>\n",
       "      <td>0</td>\n",
       "      <td>0</td>\n",
       "      <td>0</td>\n",
       "      <td>100</td>\n",
       "      <td>10100</td>\n",
       "    </tr>\n",
       "    <tr>\n",
       "      <td>10</td>\n",
       "      <td>10</td>\n",
       "      <td>2</td>\n",
       "      <td>267</td>\n",
       "      <td>0.0</td>\n",
       "      <td>Nami</td>\n",
       "      <td>0</td>\n",
       "      <td>0</td>\n",
       "      <td>0</td>\n",
       "      <td>0</td>\n",
       "      <td>0</td>\n",
       "      <td>0</td>\n",
       "      <td>1</td>\n",
       "      <td>0</td>\n",
       "      <td>0</td>\n",
       "      <td>0</td>\n",
       "      <td>0</td>\n",
       "      <td>0</td>\n",
       "      <td>0</td>\n",
       "      <td>100</td>\n",
       "      <td>10100</td>\n",
       "    </tr>\n",
       "    <tr>\n",
       "      <td>11</td>\n",
       "      <td>10</td>\n",
       "      <td>3</td>\n",
       "      <td>119</td>\n",
       "      <td>0.0</td>\n",
       "      <td>Draven</td>\n",
       "      <td>0</td>\n",
       "      <td>0</td>\n",
       "      <td>0</td>\n",
       "      <td>0</td>\n",
       "      <td>0</td>\n",
       "      <td>0</td>\n",
       "      <td>0</td>\n",
       "      <td>0</td>\n",
       "      <td>1</td>\n",
       "      <td>0</td>\n",
       "      <td>0</td>\n",
       "      <td>0</td>\n",
       "      <td>0</td>\n",
       "      <td>100</td>\n",
       "      <td>10100</td>\n",
       "    </tr>\n",
       "    <tr>\n",
       "      <td>12</td>\n",
       "      <td>10</td>\n",
       "      <td>4</td>\n",
       "      <td>114</td>\n",
       "      <td>0.0</td>\n",
       "      <td>Fiora</td>\n",
       "      <td>0</td>\n",
       "      <td>0</td>\n",
       "      <td>0</td>\n",
       "      <td>0</td>\n",
       "      <td>0</td>\n",
       "      <td>0</td>\n",
       "      <td>0</td>\n",
       "      <td>0</td>\n",
       "      <td>0</td>\n",
       "      <td>1</td>\n",
       "      <td>0</td>\n",
       "      <td>0</td>\n",
       "      <td>0</td>\n",
       "      <td>100</td>\n",
       "      <td>10100</td>\n",
       "    </tr>\n",
       "    <tr>\n",
       "      <td>13</td>\n",
       "      <td>10</td>\n",
       "      <td>5</td>\n",
       "      <td>112</td>\n",
       "      <td>0.0</td>\n",
       "      <td>Viktor</td>\n",
       "      <td>0</td>\n",
       "      <td>0</td>\n",
       "      <td>1</td>\n",
       "      <td>0</td>\n",
       "      <td>0</td>\n",
       "      <td>0</td>\n",
       "      <td>0</td>\n",
       "      <td>0</td>\n",
       "      <td>0</td>\n",
       "      <td>0</td>\n",
       "      <td>0</td>\n",
       "      <td>0</td>\n",
       "      <td>0</td>\n",
       "      <td>100</td>\n",
       "      <td>10100</td>\n",
       "    </tr>\n",
       "  </tbody>\n",
       "</table>\n",
       "</div>"
      ],
      "text/plain": [
       "    matchid  player  championid  win     name  Artillery  Assassin  \\\n",
       "id                                                                   \n",
       "9        10       1          19  0.0  Warwick          0         0   \n",
       "10       10       2         267  0.0     Nami          0         0   \n",
       "11       10       3         119  0.0   Draven          0         0   \n",
       "12       10       4         114  0.0    Fiora          0         0   \n",
       "13       10       5         112  0.0   Viktor          0         0   \n",
       "\n",
       "    Battlemage  Burst  Catcher  Diver  Enchanter  Juggernaut  Marksman  \\\n",
       "id                                                                       \n",
       "9            0      0        0      1          0           0         0   \n",
       "10           0      0        0      0          1           0         0   \n",
       "11           0      0        0      0          0           0         1   \n",
       "12           0      0        0      0          0           0         0   \n",
       "13           1      0        0      0          0           0         0   \n",
       "\n",
       "    Skirmisher  Specialist  Vanguard  Warden  teamid  absid  \n",
       "id                                                           \n",
       "9            0           0         0       0     100  10100  \n",
       "10           0           0         0       0     100  10100  \n",
       "11           0           0         0       0     100  10100  \n",
       "12           1           0         0       0     100  10100  \n",
       "13           0           0         0       0     100  10100  "
      ]
     },
     "execution_count": 11,
     "metadata": {},
     "output_type": "execute_result"
    }
   ],
   "source": [
    "playerdata['teamid'] = playerdata['player'].apply(lambda x: 200 if x > 5 else 100)\n",
    "playerdata['absid'] = playerdata['matchid'].apply(lambda x: str(x))+playerdata['teamid'].apply(lambda x: str(x))\n",
    "playerdata['absid'] = playerdata['absid'].apply(lambda x: int(x))\n",
    "playerdata.head()"
   ]
  },
  {
   "cell_type": "markdown",
   "metadata": {},
   "source": [
    "Criando o dataset de dados para cada time que consiste no agrupamento pela chave única criada no passo anterior."
   ]
  },
  {
   "cell_type": "code",
   "execution_count": 12,
   "metadata": {},
   "outputs": [
    {
     "data": {
      "text/html": [
       "<div>\n",
       "<style scoped>\n",
       "    .dataframe tbody tr th:only-of-type {\n",
       "        vertical-align: middle;\n",
       "    }\n",
       "\n",
       "    .dataframe tbody tr th {\n",
       "        vertical-align: top;\n",
       "    }\n",
       "\n",
       "    .dataframe thead th {\n",
       "        text-align: right;\n",
       "    }\n",
       "</style>\n",
       "<table border=\"1\" class=\"dataframe\">\n",
       "  <thead>\n",
       "    <tr style=\"text-align: right;\">\n",
       "      <th></th>\n",
       "      <th>win</th>\n",
       "      <th>Artillery</th>\n",
       "      <th>Assassin</th>\n",
       "      <th>Battlemage</th>\n",
       "      <th>Burst</th>\n",
       "      <th>Catcher</th>\n",
       "      <th>Diver</th>\n",
       "      <th>Enchanter</th>\n",
       "      <th>Juggernaut</th>\n",
       "      <th>Marksman</th>\n",
       "      <th>Skirmisher</th>\n",
       "      <th>Specialist</th>\n",
       "      <th>Vanguard</th>\n",
       "      <th>Warden</th>\n",
       "    </tr>\n",
       "    <tr>\n",
       "      <th>absid</th>\n",
       "      <th></th>\n",
       "      <th></th>\n",
       "      <th></th>\n",
       "      <th></th>\n",
       "      <th></th>\n",
       "      <th></th>\n",
       "      <th></th>\n",
       "      <th></th>\n",
       "      <th></th>\n",
       "      <th></th>\n",
       "      <th></th>\n",
       "      <th></th>\n",
       "      <th></th>\n",
       "      <th></th>\n",
       "    </tr>\n",
       "  </thead>\n",
       "  <tbody>\n",
       "    <tr>\n",
       "      <td>10100</td>\n",
       "      <td>0.0</td>\n",
       "      <td>0</td>\n",
       "      <td>0</td>\n",
       "      <td>1</td>\n",
       "      <td>0</td>\n",
       "      <td>0</td>\n",
       "      <td>1</td>\n",
       "      <td>1</td>\n",
       "      <td>0</td>\n",
       "      <td>1</td>\n",
       "      <td>1</td>\n",
       "      <td>0</td>\n",
       "      <td>0</td>\n",
       "      <td>0</td>\n",
       "    </tr>\n",
       "    <tr>\n",
       "      <td>10200</td>\n",
       "      <td>5.0</td>\n",
       "      <td>1</td>\n",
       "      <td>1</td>\n",
       "      <td>0</td>\n",
       "      <td>1</td>\n",
       "      <td>0</td>\n",
       "      <td>1</td>\n",
       "      <td>0</td>\n",
       "      <td>0</td>\n",
       "      <td>1</td>\n",
       "      <td>0</td>\n",
       "      <td>0</td>\n",
       "      <td>0</td>\n",
       "      <td>1</td>\n",
       "    </tr>\n",
       "    <tr>\n",
       "      <td>11100</td>\n",
       "      <td>0.0</td>\n",
       "      <td>1</td>\n",
       "      <td>1</td>\n",
       "      <td>1</td>\n",
       "      <td>1</td>\n",
       "      <td>0</td>\n",
       "      <td>0</td>\n",
       "      <td>0</td>\n",
       "      <td>0</td>\n",
       "      <td>0</td>\n",
       "      <td>1</td>\n",
       "      <td>0</td>\n",
       "      <td>0</td>\n",
       "      <td>0</td>\n",
       "    </tr>\n",
       "    <tr>\n",
       "      <td>11200</td>\n",
       "      <td>5.0</td>\n",
       "      <td>0</td>\n",
       "      <td>0</td>\n",
       "      <td>0</td>\n",
       "      <td>2</td>\n",
       "      <td>0</td>\n",
       "      <td>2</td>\n",
       "      <td>0</td>\n",
       "      <td>0</td>\n",
       "      <td>1</td>\n",
       "      <td>0</td>\n",
       "      <td>0</td>\n",
       "      <td>0</td>\n",
       "      <td>0</td>\n",
       "    </tr>\n",
       "    <tr>\n",
       "      <td>12100</td>\n",
       "      <td>0.0</td>\n",
       "      <td>1</td>\n",
       "      <td>0</td>\n",
       "      <td>0</td>\n",
       "      <td>1</td>\n",
       "      <td>1</td>\n",
       "      <td>0</td>\n",
       "      <td>1</td>\n",
       "      <td>0</td>\n",
       "      <td>2</td>\n",
       "      <td>0</td>\n",
       "      <td>0</td>\n",
       "      <td>1</td>\n",
       "      <td>0</td>\n",
       "    </tr>\n",
       "  </tbody>\n",
       "</table>\n",
       "</div>"
      ],
      "text/plain": [
       "       win  Artillery  Assassin  Battlemage  Burst  Catcher  Diver  Enchanter  \\\n",
       "absid                                                                           \n",
       "10100  0.0          0         0           1      0        0      1          1   \n",
       "10200  5.0          1         1           0      1        0      1          0   \n",
       "11100  0.0          1         1           1      1        0      0          0   \n",
       "11200  5.0          0         0           0      2        0      2          0   \n",
       "12100  0.0          1         0           0      1        1      0          1   \n",
       "\n",
       "       Juggernaut  Marksman  Skirmisher  Specialist  Vanguard  Warden  \n",
       "absid                                                                  \n",
       "10100           0         1           1           0         0       0  \n",
       "10200           0         1           0           0         0       1  \n",
       "11100           0         0           1           0         0       0  \n",
       "11200           0         1           0           0         0       0  \n",
       "12100           0         2           0           0         1       0  "
      ]
     },
     "execution_count": 12,
     "metadata": {},
     "output_type": "execute_result"
    }
   ],
   "source": [
    "teamdata = playerdata.groupby('absid').sum().drop(columns=['matchid', 'player', 'championid', 'teamid'])\n",
    "teamdata.head()"
   ]
  },
  {
   "cell_type": "markdown",
   "metadata": {},
   "source": [
    "Importando o dataset de informações do jogo para cada time, criando a chave de identificação e mesclando com o dataset de dados para cada time."
   ]
  },
  {
   "cell_type": "code",
   "execution_count": 13,
   "metadata": {},
   "outputs": [
    {
     "data": {
      "text/html": [
       "<div>\n",
       "<style scoped>\n",
       "    .dataframe tbody tr th:only-of-type {\n",
       "        vertical-align: middle;\n",
       "    }\n",
       "\n",
       "    .dataframe tbody tr th {\n",
       "        vertical-align: top;\n",
       "    }\n",
       "\n",
       "    .dataframe thead th {\n",
       "        text-align: right;\n",
       "    }\n",
       "</style>\n",
       "<table border=\"1\" class=\"dataframe\">\n",
       "  <thead>\n",
       "    <tr style=\"text-align: right;\">\n",
       "      <th></th>\n",
       "      <th>matchid</th>\n",
       "      <th>teamid</th>\n",
       "      <th>firstblood</th>\n",
       "      <th>firsttower</th>\n",
       "      <th>firstinhib</th>\n",
       "      <th>firstbaron</th>\n",
       "      <th>firstdragon</th>\n",
       "      <th>firstharry</th>\n",
       "      <th>towerkills</th>\n",
       "      <th>inhibkills</th>\n",
       "      <th>baronkills</th>\n",
       "      <th>dragonkills</th>\n",
       "      <th>harrykills</th>\n",
       "    </tr>\n",
       "  </thead>\n",
       "  <tbody>\n",
       "    <tr>\n",
       "      <td>0</td>\n",
       "      <td>10</td>\n",
       "      <td>100</td>\n",
       "      <td>0</td>\n",
       "      <td>1</td>\n",
       "      <td>0</td>\n",
       "      <td>0</td>\n",
       "      <td>0</td>\n",
       "      <td>0</td>\n",
       "      <td>5</td>\n",
       "      <td>0</td>\n",
       "      <td>0</td>\n",
       "      <td>0</td>\n",
       "      <td>0</td>\n",
       "    </tr>\n",
       "    <tr>\n",
       "      <td>1</td>\n",
       "      <td>10</td>\n",
       "      <td>200</td>\n",
       "      <td>1</td>\n",
       "      <td>0</td>\n",
       "      <td>1</td>\n",
       "      <td>1</td>\n",
       "      <td>1</td>\n",
       "      <td>1</td>\n",
       "      <td>10</td>\n",
       "      <td>3</td>\n",
       "      <td>1</td>\n",
       "      <td>3</td>\n",
       "      <td>1</td>\n",
       "    </tr>\n",
       "    <tr>\n",
       "      <td>2</td>\n",
       "      <td>11</td>\n",
       "      <td>100</td>\n",
       "      <td>1</td>\n",
       "      <td>0</td>\n",
       "      <td>0</td>\n",
       "      <td>0</td>\n",
       "      <td>0</td>\n",
       "      <td>0</td>\n",
       "      <td>2</td>\n",
       "      <td>0</td>\n",
       "      <td>0</td>\n",
       "      <td>0</td>\n",
       "      <td>0</td>\n",
       "    </tr>\n",
       "    <tr>\n",
       "      <td>3</td>\n",
       "      <td>11</td>\n",
       "      <td>200</td>\n",
       "      <td>0</td>\n",
       "      <td>1</td>\n",
       "      <td>1</td>\n",
       "      <td>0</td>\n",
       "      <td>1</td>\n",
       "      <td>0</td>\n",
       "      <td>10</td>\n",
       "      <td>3</td>\n",
       "      <td>0</td>\n",
       "      <td>2</td>\n",
       "      <td>0</td>\n",
       "    </tr>\n",
       "    <tr>\n",
       "      <td>4</td>\n",
       "      <td>12</td>\n",
       "      <td>100</td>\n",
       "      <td>1</td>\n",
       "      <td>0</td>\n",
       "      <td>0</td>\n",
       "      <td>0</td>\n",
       "      <td>0</td>\n",
       "      <td>0</td>\n",
       "      <td>1</td>\n",
       "      <td>0</td>\n",
       "      <td>0</td>\n",
       "      <td>0</td>\n",
       "      <td>0</td>\n",
       "    </tr>\n",
       "  </tbody>\n",
       "</table>\n",
       "</div>"
      ],
      "text/plain": [
       "   matchid  teamid  firstblood  firsttower  firstinhib  firstbaron  \\\n",
       "0       10     100           0           1           0           0   \n",
       "1       10     200           1           0           1           1   \n",
       "2       11     100           1           0           0           0   \n",
       "3       11     200           0           1           1           0   \n",
       "4       12     100           1           0           0           0   \n",
       "\n",
       "   firstdragon  firstharry  towerkills  inhibkills  baronkills  dragonkills  \\\n",
       "0            0           0           5           0           0            0   \n",
       "1            1           1          10           3           1            3   \n",
       "2            0           0           2           0           0            0   \n",
       "3            1           0          10           3           0            2   \n",
       "4            0           0           1           0           0            0   \n",
       "\n",
       "   harrykills  \n",
       "0           0  \n",
       "1           1  \n",
       "2           0  \n",
       "3           0  \n",
       "4           0  "
      ]
     },
     "execution_count": 13,
     "metadata": {},
     "output_type": "execute_result"
    }
   ],
   "source": [
    "df_teamstats = pd.read_csv('data/teamstats.csv')\n",
    "df_teamstats.head()"
   ]
  },
  {
   "cell_type": "code",
   "execution_count": 14,
   "metadata": {},
   "outputs": [
    {
     "data": {
      "text/html": [
       "<div>\n",
       "<style scoped>\n",
       "    .dataframe tbody tr th:only-of-type {\n",
       "        vertical-align: middle;\n",
       "    }\n",
       "\n",
       "    .dataframe tbody tr th {\n",
       "        vertical-align: top;\n",
       "    }\n",
       "\n",
       "    .dataframe thead th {\n",
       "        text-align: right;\n",
       "    }\n",
       "</style>\n",
       "<table border=\"1\" class=\"dataframe\">\n",
       "  <thead>\n",
       "    <tr style=\"text-align: right;\">\n",
       "      <th></th>\n",
       "      <th>matchid</th>\n",
       "      <th>teamid</th>\n",
       "      <th>firstblood</th>\n",
       "      <th>firsttower</th>\n",
       "      <th>firstinhib</th>\n",
       "      <th>firstbaron</th>\n",
       "      <th>firstdragon</th>\n",
       "      <th>firstharry</th>\n",
       "      <th>towerkills</th>\n",
       "      <th>inhibkills</th>\n",
       "      <th>baronkills</th>\n",
       "      <th>dragonkills</th>\n",
       "      <th>harrykills</th>\n",
       "    </tr>\n",
       "    <tr>\n",
       "      <th>absid</th>\n",
       "      <th></th>\n",
       "      <th></th>\n",
       "      <th></th>\n",
       "      <th></th>\n",
       "      <th></th>\n",
       "      <th></th>\n",
       "      <th></th>\n",
       "      <th></th>\n",
       "      <th></th>\n",
       "      <th></th>\n",
       "      <th></th>\n",
       "      <th></th>\n",
       "      <th></th>\n",
       "    </tr>\n",
       "  </thead>\n",
       "  <tbody>\n",
       "    <tr>\n",
       "      <td>10100</td>\n",
       "      <td>10</td>\n",
       "      <td>100</td>\n",
       "      <td>0</td>\n",
       "      <td>1</td>\n",
       "      <td>0</td>\n",
       "      <td>0</td>\n",
       "      <td>0</td>\n",
       "      <td>0</td>\n",
       "      <td>5</td>\n",
       "      <td>0</td>\n",
       "      <td>0</td>\n",
       "      <td>0</td>\n",
       "      <td>0</td>\n",
       "    </tr>\n",
       "    <tr>\n",
       "      <td>10200</td>\n",
       "      <td>10</td>\n",
       "      <td>200</td>\n",
       "      <td>1</td>\n",
       "      <td>0</td>\n",
       "      <td>1</td>\n",
       "      <td>1</td>\n",
       "      <td>1</td>\n",
       "      <td>1</td>\n",
       "      <td>10</td>\n",
       "      <td>3</td>\n",
       "      <td>1</td>\n",
       "      <td>3</td>\n",
       "      <td>1</td>\n",
       "    </tr>\n",
       "    <tr>\n",
       "      <td>11100</td>\n",
       "      <td>11</td>\n",
       "      <td>100</td>\n",
       "      <td>1</td>\n",
       "      <td>0</td>\n",
       "      <td>0</td>\n",
       "      <td>0</td>\n",
       "      <td>0</td>\n",
       "      <td>0</td>\n",
       "      <td>2</td>\n",
       "      <td>0</td>\n",
       "      <td>0</td>\n",
       "      <td>0</td>\n",
       "      <td>0</td>\n",
       "    </tr>\n",
       "    <tr>\n",
       "      <td>11200</td>\n",
       "      <td>11</td>\n",
       "      <td>200</td>\n",
       "      <td>0</td>\n",
       "      <td>1</td>\n",
       "      <td>1</td>\n",
       "      <td>0</td>\n",
       "      <td>1</td>\n",
       "      <td>0</td>\n",
       "      <td>10</td>\n",
       "      <td>3</td>\n",
       "      <td>0</td>\n",
       "      <td>2</td>\n",
       "      <td>0</td>\n",
       "    </tr>\n",
       "    <tr>\n",
       "      <td>12100</td>\n",
       "      <td>12</td>\n",
       "      <td>100</td>\n",
       "      <td>1</td>\n",
       "      <td>0</td>\n",
       "      <td>0</td>\n",
       "      <td>0</td>\n",
       "      <td>0</td>\n",
       "      <td>0</td>\n",
       "      <td>1</td>\n",
       "      <td>0</td>\n",
       "      <td>0</td>\n",
       "      <td>0</td>\n",
       "      <td>0</td>\n",
       "    </tr>\n",
       "  </tbody>\n",
       "</table>\n",
       "</div>"
      ],
      "text/plain": [
       "       matchid  teamid  firstblood  firsttower  firstinhib  firstbaron  \\\n",
       "absid                                                                    \n",
       "10100       10     100           0           1           0           0   \n",
       "10200       10     200           1           0           1           1   \n",
       "11100       11     100           1           0           0           0   \n",
       "11200       11     200           0           1           1           0   \n",
       "12100       12     100           1           0           0           0   \n",
       "\n",
       "       firstdragon  firstharry  towerkills  inhibkills  baronkills  \\\n",
       "absid                                                                \n",
       "10100            0           0           5           0           0   \n",
       "10200            1           1          10           3           1   \n",
       "11100            0           0           2           0           0   \n",
       "11200            1           0          10           3           0   \n",
       "12100            0           0           1           0           0   \n",
       "\n",
       "       dragonkills  harrykills  \n",
       "absid                           \n",
       "10100            0           0  \n",
       "10200            3           1  \n",
       "11100            0           0  \n",
       "11200            2           0  \n",
       "12100            0           0  "
      ]
     },
     "execution_count": 14,
     "metadata": {},
     "output_type": "execute_result"
    }
   ],
   "source": [
    "df_teamstats['absid'] = df_teamstats['matchid'].apply(lambda x: str(x))+df_teamstats['teamid'].apply(lambda x: str(x))\n",
    "df_teamstats['absid'] = df_teamstats['absid'].apply(lambda x: int(x))\n",
    "df_teamstats.set_index('absid', inplace=True)\n",
    "df_teamstats.head()"
   ]
  },
  {
   "cell_type": "code",
   "execution_count": 15,
   "metadata": {},
   "outputs": [
    {
     "data": {
      "text/html": [
       "<div>\n",
       "<style scoped>\n",
       "    .dataframe tbody tr th:only-of-type {\n",
       "        vertical-align: middle;\n",
       "    }\n",
       "\n",
       "    .dataframe tbody tr th {\n",
       "        vertical-align: top;\n",
       "    }\n",
       "\n",
       "    .dataframe thead th {\n",
       "        text-align: right;\n",
       "    }\n",
       "</style>\n",
       "<table border=\"1\" class=\"dataframe\">\n",
       "  <thead>\n",
       "    <tr style=\"text-align: right;\">\n",
       "      <th></th>\n",
       "      <th>win</th>\n",
       "      <th>Artillery</th>\n",
       "      <th>Assassin</th>\n",
       "      <th>Battlemage</th>\n",
       "      <th>Burst</th>\n",
       "      <th>Catcher</th>\n",
       "      <th>Diver</th>\n",
       "      <th>Enchanter</th>\n",
       "      <th>Juggernaut</th>\n",
       "      <th>Marksman</th>\n",
       "      <th>...</th>\n",
       "      <th>firsttower</th>\n",
       "      <th>firstinhib</th>\n",
       "      <th>firstbaron</th>\n",
       "      <th>firstdragon</th>\n",
       "      <th>firstharry</th>\n",
       "      <th>towerkills</th>\n",
       "      <th>inhibkills</th>\n",
       "      <th>baronkills</th>\n",
       "      <th>dragonkills</th>\n",
       "      <th>harrykills</th>\n",
       "    </tr>\n",
       "    <tr>\n",
       "      <th>absid</th>\n",
       "      <th></th>\n",
       "      <th></th>\n",
       "      <th></th>\n",
       "      <th></th>\n",
       "      <th></th>\n",
       "      <th></th>\n",
       "      <th></th>\n",
       "      <th></th>\n",
       "      <th></th>\n",
       "      <th></th>\n",
       "      <th></th>\n",
       "      <th></th>\n",
       "      <th></th>\n",
       "      <th></th>\n",
       "      <th></th>\n",
       "      <th></th>\n",
       "      <th></th>\n",
       "      <th></th>\n",
       "      <th></th>\n",
       "      <th></th>\n",
       "      <th></th>\n",
       "    </tr>\n",
       "  </thead>\n",
       "  <tbody>\n",
       "    <tr>\n",
       "      <td>10100</td>\n",
       "      <td>0.0</td>\n",
       "      <td>0</td>\n",
       "      <td>0</td>\n",
       "      <td>1</td>\n",
       "      <td>0</td>\n",
       "      <td>0</td>\n",
       "      <td>1</td>\n",
       "      <td>1</td>\n",
       "      <td>0</td>\n",
       "      <td>1</td>\n",
       "      <td>...</td>\n",
       "      <td>1</td>\n",
       "      <td>0</td>\n",
       "      <td>0</td>\n",
       "      <td>0</td>\n",
       "      <td>0</td>\n",
       "      <td>5</td>\n",
       "      <td>0</td>\n",
       "      <td>0</td>\n",
       "      <td>0</td>\n",
       "      <td>0</td>\n",
       "    </tr>\n",
       "    <tr>\n",
       "      <td>10200</td>\n",
       "      <td>5.0</td>\n",
       "      <td>1</td>\n",
       "      <td>1</td>\n",
       "      <td>0</td>\n",
       "      <td>1</td>\n",
       "      <td>0</td>\n",
       "      <td>1</td>\n",
       "      <td>0</td>\n",
       "      <td>0</td>\n",
       "      <td>1</td>\n",
       "      <td>...</td>\n",
       "      <td>0</td>\n",
       "      <td>1</td>\n",
       "      <td>1</td>\n",
       "      <td>1</td>\n",
       "      <td>1</td>\n",
       "      <td>10</td>\n",
       "      <td>3</td>\n",
       "      <td>1</td>\n",
       "      <td>3</td>\n",
       "      <td>1</td>\n",
       "    </tr>\n",
       "    <tr>\n",
       "      <td>11100</td>\n",
       "      <td>0.0</td>\n",
       "      <td>1</td>\n",
       "      <td>1</td>\n",
       "      <td>1</td>\n",
       "      <td>1</td>\n",
       "      <td>0</td>\n",
       "      <td>0</td>\n",
       "      <td>0</td>\n",
       "      <td>0</td>\n",
       "      <td>0</td>\n",
       "      <td>...</td>\n",
       "      <td>0</td>\n",
       "      <td>0</td>\n",
       "      <td>0</td>\n",
       "      <td>0</td>\n",
       "      <td>0</td>\n",
       "      <td>2</td>\n",
       "      <td>0</td>\n",
       "      <td>0</td>\n",
       "      <td>0</td>\n",
       "      <td>0</td>\n",
       "    </tr>\n",
       "    <tr>\n",
       "      <td>11200</td>\n",
       "      <td>5.0</td>\n",
       "      <td>0</td>\n",
       "      <td>0</td>\n",
       "      <td>0</td>\n",
       "      <td>2</td>\n",
       "      <td>0</td>\n",
       "      <td>2</td>\n",
       "      <td>0</td>\n",
       "      <td>0</td>\n",
       "      <td>1</td>\n",
       "      <td>...</td>\n",
       "      <td>1</td>\n",
       "      <td>1</td>\n",
       "      <td>0</td>\n",
       "      <td>1</td>\n",
       "      <td>0</td>\n",
       "      <td>10</td>\n",
       "      <td>3</td>\n",
       "      <td>0</td>\n",
       "      <td>2</td>\n",
       "      <td>0</td>\n",
       "    </tr>\n",
       "    <tr>\n",
       "      <td>12100</td>\n",
       "      <td>0.0</td>\n",
       "      <td>1</td>\n",
       "      <td>0</td>\n",
       "      <td>0</td>\n",
       "      <td>1</td>\n",
       "      <td>1</td>\n",
       "      <td>0</td>\n",
       "      <td>1</td>\n",
       "      <td>0</td>\n",
       "      <td>2</td>\n",
       "      <td>...</td>\n",
       "      <td>0</td>\n",
       "      <td>0</td>\n",
       "      <td>0</td>\n",
       "      <td>0</td>\n",
       "      <td>0</td>\n",
       "      <td>1</td>\n",
       "      <td>0</td>\n",
       "      <td>0</td>\n",
       "      <td>0</td>\n",
       "      <td>0</td>\n",
       "    </tr>\n",
       "  </tbody>\n",
       "</table>\n",
       "<p>5 rows × 25 columns</p>\n",
       "</div>"
      ],
      "text/plain": [
       "       win  Artillery  Assassin  Battlemage  Burst  Catcher  Diver  Enchanter  \\\n",
       "absid                                                                           \n",
       "10100  0.0          0         0           1      0        0      1          1   \n",
       "10200  5.0          1         1           0      1        0      1          0   \n",
       "11100  0.0          1         1           1      1        0      0          0   \n",
       "11200  5.0          0         0           0      2        0      2          0   \n",
       "12100  0.0          1         0           0      1        1      0          1   \n",
       "\n",
       "       Juggernaut  Marksman  ...  firsttower  firstinhib  firstbaron  \\\n",
       "absid                        ...                                       \n",
       "10100           0         1  ...           1           0           0   \n",
       "10200           0         1  ...           0           1           1   \n",
       "11100           0         0  ...           0           0           0   \n",
       "11200           0         1  ...           1           1           0   \n",
       "12100           0         2  ...           0           0           0   \n",
       "\n",
       "       firstdragon  firstharry  towerkills  inhibkills  baronkills  \\\n",
       "absid                                                                \n",
       "10100            0           0           5           0           0   \n",
       "10200            1           1          10           3           1   \n",
       "11100            0           0           2           0           0   \n",
       "11200            1           0          10           3           0   \n",
       "12100            0           0           1           0           0   \n",
       "\n",
       "       dragonkills  harrykills  \n",
       "absid                           \n",
       "10100            0           0  \n",
       "10200            3           1  \n",
       "11100            0           0  \n",
       "11200            2           0  \n",
       "12100            0           0  \n",
       "\n",
       "[5 rows x 25 columns]"
      ]
     },
     "execution_count": 15,
     "metadata": {},
     "output_type": "execute_result"
    }
   ],
   "source": [
    "teamdata = teamdata.join(df_teamstats.drop(columns=['matchid', 'teamid']))\n",
    "teamdata.head()"
   ]
  },
  {
   "cell_type": "markdown",
   "metadata": {},
   "source": [
    "Tratando os dados e dividindo as colunas em categorias."
   ]
  },
  {
   "cell_type": "code",
   "execution_count": 16,
   "metadata": {},
   "outputs": [],
   "source": [
    "teamdata.columns = [col_name.lower() for col_name in teamdata.columns]"
   ]
  },
  {
   "cell_type": "code",
   "execution_count": 17,
   "metadata": {},
   "outputs": [],
   "source": [
    "classes = ['artillery', 'assassin', 'battlemage', 'burst', 'catcher', 'diver', 'enchanter', 'juggernaut',\n",
    "           'marksman', 'skirmisher', 'specialist', 'vanguard', 'warden']\n",
    "attributes = ['firstblood', 'firsttower', 'firstinhib', 'firstbaron', 'firstdragon', 'firstharry']\n",
    "totals = ['towerkills', 'inhibkills', 'baronkills', 'dragonkills', 'harrykills']\n",
    "\n",
    "for item in classes:\n",
    "    teamdata[item] = teamdata[item].apply(lambda x: 1 if x > 0 else 0)\n",
    "\n",
    "teamdata['win'] = teamdata['win'].apply(lambda x: 1 if x > 0 else 0)"
   ]
  },
  {
   "cell_type": "code",
   "execution_count": 18,
   "metadata": {},
   "outputs": [
    {
     "data": {
      "text/html": [
       "<div>\n",
       "<style scoped>\n",
       "    .dataframe tbody tr th:only-of-type {\n",
       "        vertical-align: middle;\n",
       "    }\n",
       "\n",
       "    .dataframe tbody tr th {\n",
       "        vertical-align: top;\n",
       "    }\n",
       "\n",
       "    .dataframe thead th {\n",
       "        text-align: right;\n",
       "    }\n",
       "</style>\n",
       "<table border=\"1\" class=\"dataframe\">\n",
       "  <thead>\n",
       "    <tr style=\"text-align: right;\">\n",
       "      <th></th>\n",
       "      <th>win</th>\n",
       "      <th>artillery</th>\n",
       "      <th>assassin</th>\n",
       "      <th>battlemage</th>\n",
       "      <th>burst</th>\n",
       "      <th>catcher</th>\n",
       "      <th>diver</th>\n",
       "      <th>enchanter</th>\n",
       "      <th>juggernaut</th>\n",
       "      <th>marksman</th>\n",
       "      <th>...</th>\n",
       "      <th>firsttower</th>\n",
       "      <th>firstinhib</th>\n",
       "      <th>firstbaron</th>\n",
       "      <th>firstdragon</th>\n",
       "      <th>firstharry</th>\n",
       "      <th>towerkills</th>\n",
       "      <th>inhibkills</th>\n",
       "      <th>baronkills</th>\n",
       "      <th>dragonkills</th>\n",
       "      <th>harrykills</th>\n",
       "    </tr>\n",
       "    <tr>\n",
       "      <th>absid</th>\n",
       "      <th></th>\n",
       "      <th></th>\n",
       "      <th></th>\n",
       "      <th></th>\n",
       "      <th></th>\n",
       "      <th></th>\n",
       "      <th></th>\n",
       "      <th></th>\n",
       "      <th></th>\n",
       "      <th></th>\n",
       "      <th></th>\n",
       "      <th></th>\n",
       "      <th></th>\n",
       "      <th></th>\n",
       "      <th></th>\n",
       "      <th></th>\n",
       "      <th></th>\n",
       "      <th></th>\n",
       "      <th></th>\n",
       "      <th></th>\n",
       "      <th></th>\n",
       "    </tr>\n",
       "  </thead>\n",
       "  <tbody>\n",
       "    <tr>\n",
       "      <td>10100</td>\n",
       "      <td>0</td>\n",
       "      <td>0</td>\n",
       "      <td>0</td>\n",
       "      <td>1</td>\n",
       "      <td>0</td>\n",
       "      <td>0</td>\n",
       "      <td>1</td>\n",
       "      <td>1</td>\n",
       "      <td>0</td>\n",
       "      <td>1</td>\n",
       "      <td>...</td>\n",
       "      <td>1</td>\n",
       "      <td>0</td>\n",
       "      <td>0</td>\n",
       "      <td>0</td>\n",
       "      <td>0</td>\n",
       "      <td>5</td>\n",
       "      <td>0</td>\n",
       "      <td>0</td>\n",
       "      <td>0</td>\n",
       "      <td>0</td>\n",
       "    </tr>\n",
       "    <tr>\n",
       "      <td>10200</td>\n",
       "      <td>1</td>\n",
       "      <td>1</td>\n",
       "      <td>1</td>\n",
       "      <td>0</td>\n",
       "      <td>1</td>\n",
       "      <td>0</td>\n",
       "      <td>1</td>\n",
       "      <td>0</td>\n",
       "      <td>0</td>\n",
       "      <td>1</td>\n",
       "      <td>...</td>\n",
       "      <td>0</td>\n",
       "      <td>1</td>\n",
       "      <td>1</td>\n",
       "      <td>1</td>\n",
       "      <td>1</td>\n",
       "      <td>10</td>\n",
       "      <td>3</td>\n",
       "      <td>1</td>\n",
       "      <td>3</td>\n",
       "      <td>1</td>\n",
       "    </tr>\n",
       "    <tr>\n",
       "      <td>11100</td>\n",
       "      <td>0</td>\n",
       "      <td>1</td>\n",
       "      <td>1</td>\n",
       "      <td>1</td>\n",
       "      <td>1</td>\n",
       "      <td>0</td>\n",
       "      <td>0</td>\n",
       "      <td>0</td>\n",
       "      <td>0</td>\n",
       "      <td>0</td>\n",
       "      <td>...</td>\n",
       "      <td>0</td>\n",
       "      <td>0</td>\n",
       "      <td>0</td>\n",
       "      <td>0</td>\n",
       "      <td>0</td>\n",
       "      <td>2</td>\n",
       "      <td>0</td>\n",
       "      <td>0</td>\n",
       "      <td>0</td>\n",
       "      <td>0</td>\n",
       "    </tr>\n",
       "    <tr>\n",
       "      <td>11200</td>\n",
       "      <td>1</td>\n",
       "      <td>0</td>\n",
       "      <td>0</td>\n",
       "      <td>0</td>\n",
       "      <td>1</td>\n",
       "      <td>0</td>\n",
       "      <td>1</td>\n",
       "      <td>0</td>\n",
       "      <td>0</td>\n",
       "      <td>1</td>\n",
       "      <td>...</td>\n",
       "      <td>1</td>\n",
       "      <td>1</td>\n",
       "      <td>0</td>\n",
       "      <td>1</td>\n",
       "      <td>0</td>\n",
       "      <td>10</td>\n",
       "      <td>3</td>\n",
       "      <td>0</td>\n",
       "      <td>2</td>\n",
       "      <td>0</td>\n",
       "    </tr>\n",
       "    <tr>\n",
       "      <td>12100</td>\n",
       "      <td>0</td>\n",
       "      <td>1</td>\n",
       "      <td>0</td>\n",
       "      <td>0</td>\n",
       "      <td>1</td>\n",
       "      <td>1</td>\n",
       "      <td>0</td>\n",
       "      <td>1</td>\n",
       "      <td>0</td>\n",
       "      <td>1</td>\n",
       "      <td>...</td>\n",
       "      <td>0</td>\n",
       "      <td>0</td>\n",
       "      <td>0</td>\n",
       "      <td>0</td>\n",
       "      <td>0</td>\n",
       "      <td>1</td>\n",
       "      <td>0</td>\n",
       "      <td>0</td>\n",
       "      <td>0</td>\n",
       "      <td>0</td>\n",
       "    </tr>\n",
       "  </tbody>\n",
       "</table>\n",
       "<p>5 rows × 25 columns</p>\n",
       "</div>"
      ],
      "text/plain": [
       "       win  artillery  assassin  battlemage  burst  catcher  diver  enchanter  \\\n",
       "absid                                                                           \n",
       "10100    0          0         0           1      0        0      1          1   \n",
       "10200    1          1         1           0      1        0      1          0   \n",
       "11100    0          1         1           1      1        0      0          0   \n",
       "11200    1          0         0           0      1        0      1          0   \n",
       "12100    0          1         0           0      1        1      0          1   \n",
       "\n",
       "       juggernaut  marksman  ...  firsttower  firstinhib  firstbaron  \\\n",
       "absid                        ...                                       \n",
       "10100           0         1  ...           1           0           0   \n",
       "10200           0         1  ...           0           1           1   \n",
       "11100           0         0  ...           0           0           0   \n",
       "11200           0         1  ...           1           1           0   \n",
       "12100           0         1  ...           0           0           0   \n",
       "\n",
       "       firstdragon  firstharry  towerkills  inhibkills  baronkills  \\\n",
       "absid                                                                \n",
       "10100            0           0           5           0           0   \n",
       "10200            1           1          10           3           1   \n",
       "11100            0           0           2           0           0   \n",
       "11200            1           0          10           3           0   \n",
       "12100            0           0           1           0           0   \n",
       "\n",
       "       dragonkills  harrykills  \n",
       "absid                           \n",
       "10100            0           0  \n",
       "10200            3           1  \n",
       "11100            0           0  \n",
       "11200            2           0  \n",
       "12100            0           0  \n",
       "\n",
       "[5 rows x 25 columns]"
      ]
     },
     "execution_count": 18,
     "metadata": {},
     "output_type": "execute_result"
    }
   ],
   "source": [
    "teamdata.head()"
   ]
  },
  {
   "cell_type": "markdown",
   "metadata": {},
   "source": [
    "# Visualização de Dados"
   ]
  },
  {
   "cell_type": "code",
   "execution_count": 19,
   "metadata": {},
   "outputs": [],
   "source": [
    "import matplotlib.pyplot as plt\n",
    "import seaborn as sns"
   ]
  },
  {
   "cell_type": "code",
   "execution_count": 20,
   "metadata": {},
   "outputs": [
    {
     "data": {
      "image/png": "[encoded data removed]",
      "text/plain": [
       "<Figure size 1440x720 with 8 Axes>"
      ]
     },
     "metadata": {},
     "output_type": "display_data"
    }
   ],
   "source": [
    "sns.set_style('darkgrid')\n",
    "fig, ax = plt.subplots(2, 4, figsize=(20, 10))\n",
    "k = 0\n",
    "j = 0\n",
    "i = 0\n",
    "bins = [16, 13, 5, 7, 2]\n",
    "for item in totals:\n",
    "    sns.distplot(teamdata[item], bins=bins[i], kde=False, ax=ax[k][j]);\n",
    "    j += 1\n",
    "    i += 1\n",
    "    if j == 4:\n",
    "        k += 1\n",
    "        j = 0"
   ]
  },
  {
   "cell_type": "code",
   "execution_count": 21,
   "metadata": {},
   "outputs": [
    {
     "data": {
      "image/png": "[encoded data removed]",
      "text/plain": [
       "<Figure size 1440x720 with 8 Axes>"
      ]
     },
     "metadata": {},
     "output_type": "display_data"
    }
   ],
   "source": [
    "fig, ax = plt.subplots(2, 4, figsize=(20, 10))\n",
    "k = 0\n",
    "j = 0\n",
    "i = 0\n",
    "bins = [(15, 16), (10, 13), (5, 5), (7, 7), (2, 2)]\n",
    "for item in totals:\n",
    "    sns.distplot(teamdata[teamdata['win'] == 0][item], bins=bins[i][0], kde=False, ax=ax[k][j])\n",
    "    sns.distplot(teamdata[teamdata['win'] == 1][item], bins=bins[i][1], kde=False, ax=ax[k][j]);\n",
    "    j += 1\n",
    "    i += 1\n",
    "    if j == 4:\n",
    "        k += 1\n",
    "        j = 0"
   ]
  },
  {
   "cell_type": "code",
   "execution_count": 22,
   "metadata": {},
   "outputs": [
    {
     "data": {
      "image/png": "[encoded data removed]",
      "text/plain": [
       "<Figure size 1440x1440 with 16 Axes>"
      ]
     },
     "metadata": {},
     "output_type": "display_data"
    }
   ],
   "source": [
    "fig, ax = plt.subplots(4, 4, figsize=(20, 20))\n",
    "k = 0\n",
    "j = 0\n",
    "for item in classes:\n",
    "    sns.countplot(teamdata[item].replace([0, 1], ['No', 'Yes']), order=['No', 'Yes'],\n",
    "                  ax=ax[k][j]);\n",
    "    ax[k][j].set_ylabel('')\n",
    "    j += 1\n",
    "    if j == 4:\n",
    "        k += 1\n",
    "        j = 0"
   ]
  },
  {
   "cell_type": "code",
   "execution_count": 23,
   "metadata": {},
   "outputs": [
    {
     "data": {
      "image/png": "[encoded data removed]",
      "text/plain": [
       "<Figure size 1440x1440 with 16 Axes>"
      ]
     },
     "metadata": {},
     "output_type": "display_data"
    }
   ],
   "source": [
    "fig, ax = plt.subplots(4, 4, figsize=(20, 20))\n",
    "k = 0\n",
    "j = 0\n",
    "for item in classes:\n",
    "    sns.countplot(teamdata[item].replace([0, 1], ['No', 'Yes']), order=['No', 'Yes'],\n",
    "                  hue=teamdata['win'].replace([0, 1], ['Lost', 'Won']), ax=ax[k][j]);\n",
    "    ax[k][j].set_ylabel('')\n",
    "    j += 1\n",
    "    if j == 4:\n",
    "        k += 1\n",
    "        j = 0"
   ]
  },
  {
   "cell_type": "code",
   "execution_count": 24,
   "metadata": {},
   "outputs": [
    {
     "data": {
      "image/png": "[encoded data removed]",
      "text/plain": [
       "<Figure size 1440x720 with 8 Axes>"
      ]
     },
     "metadata": {},
     "output_type": "display_data"
    }
   ],
   "source": [
    "fig, ax = plt.subplots(2, 4, figsize=(20, 10))\n",
    "k = 0\n",
    "j = 0\n",
    "for item in attributes:\n",
    "    sns.countplot(teamdata[item].replace([0, 1], ['No', 'Yes']), order=['No', 'Yes'],\n",
    "                  ax=ax[k][j]);\n",
    "    ax[k][j].set_ylabel('')\n",
    "    j += 1\n",
    "    if j == 4:\n",
    "        k += 1\n",
    "        j = 0"
   ]
  },
  {
   "cell_type": "markdown",
   "metadata": {},
   "source": [
    "# Modelagem e Ajuste"
   ]
  },
  {
   "cell_type": "code",
   "execution_count": 25,
   "metadata": {},
   "outputs": [],
   "source": [
    "from sklearn.model_selection import train_test_split as tts\n",
    "from sklearn.linear_model import LogisticRegression\n",
    "from sklearn.tree import DecisionTreeClassifier\n",
    "from sklearn.ensemble import RandomForestClassifier\n",
    "from sklearn.metrics import confusion_matrix, accuracy_score"
   ]
  },
  {
   "cell_type": "code",
   "execution_count": 26,
   "metadata": {},
   "outputs": [],
   "source": [
    "booleans = classes+attributes"
   ]
  },
  {
   "cell_type": "markdown",
   "metadata": {},
   "source": [
    "Definindo quatro modelos:\n",
    "- Todas as variáveis\n",
    "- Apenas variáveis booleanas (excluindo aqui total de torres/inibidores)\n",
    "- Apenas variáveis de classes\n",
    "- Apenas variáveis booleanas de início de jogo (excluindo tudo que não seja classes, primeiro abate e primeira torre"
   ]
  },
  {
   "cell_type": "code",
   "execution_count": 27,
   "metadata": {},
   "outputs": [],
   "source": [
    "xtrain, xtest, ytrain, ytest = tts(teamdata.drop(columns='win'), teamdata['win'], test_size=0.25)\n",
    "xtrainb, xtestb, ytrainb, ytestb = tts(teamdata[booleans], teamdata['win'], test_size=0.25)\n",
    "xtrainc, xtestc, ytrainc, ytestc = tts(teamdata[classes], teamdata['win'], test_size=0.25)\n",
    "xtraini, xtesti, ytraini, ytesti = tts(teamdata[booleans[:-4]], teamdata['win'], test_size=0.25)"
   ]
  },
  {
   "cell_type": "markdown",
   "metadata": {},
   "source": [
    "## Regressão Logística"
   ]
  },
  {
   "cell_type": "markdown",
   "metadata": {},
   "source": [
    "### Todas as variáveis"
   ]
  },
  {
   "cell_type": "code",
   "execution_count": 28,
   "metadata": {},
   "outputs": [
    {
     "name": "stderr",
     "output_type": "stream",
     "text": [
      "/usr/local/lib/python3.7/site-packages/sklearn/linear_model/logistic.py:432: FutureWarning: Default solver will be changed to 'lbfgs' in 0.22. Specify a solver to silence this warning.\n",
      "  FutureWarning)\n"
     ]
    }
   ],
   "source": [
    "teammodel = LogisticRegression(random_state=19)\n",
    "teammodel.fit(xtrain, ytrain)\n",
    "ypred = teammodel.predict(xtest)"
   ]
  },
  {
   "cell_type": "code",
   "execution_count": 29,
   "metadata": {},
   "outputs": [
    {
     "data": {
      "text/plain": [
       "array([[41480,  4300],\n",
       "       [ 4414, 41840]])"
      ]
     },
     "execution_count": 29,
     "metadata": {},
     "output_type": "execute_result"
    }
   ],
   "source": [
    "confusion_matrix(ytest, ypred)"
   ]
  },
  {
   "cell_type": "code",
   "execution_count": 30,
   "metadata": {},
   "outputs": [
    {
     "data": {
      "text/plain": [
       "0.9053176000173849"
      ]
     },
     "execution_count": 30,
     "metadata": {},
     "output_type": "execute_result"
    }
   ],
   "source": [
    "accuracy_score(ytest, ypred)"
   ]
  },
  {
   "cell_type": "markdown",
   "metadata": {},
   "source": [
    "### Todas as variáveis booleanas"
   ]
  },
  {
   "cell_type": "code",
   "execution_count": 31,
   "metadata": {},
   "outputs": [
    {
     "name": "stderr",
     "output_type": "stream",
     "text": [
      "/usr/local/lib/python3.7/site-packages/sklearn/linear_model/logistic.py:432: FutureWarning: Default solver will be changed to 'lbfgs' in 0.22. Specify a solver to silence this warning.\n",
      "  FutureWarning)\n"
     ]
    }
   ],
   "source": [
    "teammodelb = LogisticRegression(random_state=19)\n",
    "teammodelb.fit(xtrainb, ytrainb)\n",
    "ypredb = teammodelb.predict(xtestb)"
   ]
  },
  {
   "cell_type": "code",
   "execution_count": 32,
   "metadata": {},
   "outputs": [
    {
     "data": {
      "text/plain": [
       "array([[41964,  3843],\n",
       "       [ 7395, 38832]])"
      ]
     },
     "execution_count": 32,
     "metadata": {},
     "output_type": "execute_result"
    }
   ],
   "source": [
    "confusion_matrix(ytestb, ypredb)"
   ]
  },
  {
   "cell_type": "code",
   "execution_count": 33,
   "metadata": {},
   "outputs": [
    {
     "data": {
      "text/plain": [
       "0.8778929526044723"
      ]
     },
     "execution_count": 33,
     "metadata": {},
     "output_type": "execute_result"
    }
   ],
   "source": [
    "accuracy_score(ytestb, ypredb)"
   ]
  },
  {
   "cell_type": "markdown",
   "metadata": {},
   "source": [
    "### Apenas indicadores de classe"
   ]
  },
  {
   "cell_type": "code",
   "execution_count": 34,
   "metadata": {},
   "outputs": [
    {
     "name": "stderr",
     "output_type": "stream",
     "text": [
      "/usr/local/lib/python3.7/site-packages/sklearn/linear_model/logistic.py:432: FutureWarning: Default solver will be changed to 'lbfgs' in 0.22. Specify a solver to silence this warning.\n",
      "  FutureWarning)\n"
     ]
    }
   ],
   "source": [
    "teammodelc = LogisticRegression(random_state=19)\n",
    "teammodelc.fit(xtrainc, ytrainc)\n",
    "ypredc = teammodelc.predict(xtestc)"
   ]
  },
  {
   "cell_type": "code",
   "execution_count": 35,
   "metadata": {},
   "outputs": [
    {
     "data": {
      "text/plain": [
       "array([[23629, 22193],\n",
       "       [22785, 23427]])"
      ]
     },
     "execution_count": 35,
     "metadata": {},
     "output_type": "execute_result"
    }
   ],
   "source": [
    "confusion_matrix(ytestc, ypredc)"
   ]
  },
  {
   "cell_type": "code",
   "execution_count": 36,
   "metadata": {},
   "outputs": [
    {
     "data": {
      "text/plain": [
       "0.5112893061259969"
      ]
     },
     "execution_count": 36,
     "metadata": {},
     "output_type": "execute_result"
    }
   ],
   "source": [
    "accuracy_score(ytestc, ypredc)"
   ]
  },
  {
   "cell_type": "markdown",
   "metadata": {},
   "source": [
    "### Indicadores de classe e conquistas de começo de partida"
   ]
  },
  {
   "cell_type": "code",
   "execution_count": 37,
   "metadata": {},
   "outputs": [
    {
     "name": "stderr",
     "output_type": "stream",
     "text": [
      "/usr/local/lib/python3.7/site-packages/sklearn/linear_model/logistic.py:432: FutureWarning: Default solver will be changed to 'lbfgs' in 0.22. Specify a solver to silence this warning.\n",
      "  FutureWarning)\n"
     ]
    }
   ],
   "source": [
    "teammodeli = LogisticRegression(random_state=19)\n",
    "teammodeli.fit(xtraini, ytraini)\n",
    "ypredi = teammodeli.predict(xtesti)"
   ]
  },
  {
   "cell_type": "code",
   "execution_count": 38,
   "metadata": {},
   "outputs": [
    {
     "data": {
      "text/plain": [
       "array([[33030, 12845],\n",
       "       [14204, 31955]])"
      ]
     },
     "execution_count": 38,
     "metadata": {},
     "output_type": "execute_result"
    }
   ],
   "source": [
    "confusion_matrix(ytesti, ypredi)"
   ]
  },
  {
   "cell_type": "code",
   "execution_count": 39,
   "metadata": {},
   "outputs": [
    {
     "data": {
      "text/plain": [
       "0.7060977464849947"
      ]
     },
     "execution_count": 39,
     "metadata": {},
     "output_type": "execute_result"
    }
   ],
   "source": [
    "accuracy_score(ytesti, ypredi)"
   ]
  },
  {
   "cell_type": "markdown",
   "metadata": {},
   "source": [
    "## Árvore de Decisão"
   ]
  },
  {
   "cell_type": "markdown",
   "metadata": {},
   "source": [
    "### Todas as variáveis booleanas"
   ]
  },
  {
   "cell_type": "code",
   "execution_count": 40,
   "metadata": {},
   "outputs": [],
   "source": [
    "teamtreeb = DecisionTreeClassifier(min_samples_split=100, random_state=19)\n",
    "teamtreeb.fit(xtrainb, ytrainb)\n",
    "ypredb = teamtreeb.predict(xtestb)"
   ]
  },
  {
   "cell_type": "code",
   "execution_count": 41,
   "metadata": {},
   "outputs": [
    {
     "data": {
      "text/plain": [
       "array([[41647,  4160],\n",
       "       [ 7195, 39032]])"
      ]
     },
     "execution_count": 41,
     "metadata": {},
     "output_type": "execute_result"
    }
   ],
   "source": [
    "confusion_matrix(ytestb, ypredb)"
   ]
  },
  {
   "cell_type": "code",
   "execution_count": 42,
   "metadata": {},
   "outputs": [
    {
     "data": {
      "text/plain": [
       "0.8766216832909577"
      ]
     },
     "execution_count": 42,
     "metadata": {},
     "output_type": "execute_result"
    }
   ],
   "source": [
    "accuracy_score(ytestb, ypredb)"
   ]
  },
  {
   "cell_type": "markdown",
   "metadata": {},
   "source": [
    "### Apenas indicadores de classe"
   ]
  },
  {
   "cell_type": "code",
   "execution_count": 43,
   "metadata": {},
   "outputs": [],
   "source": [
    "teamtreec = DecisionTreeClassifier(min_samples_leaf=100, random_state=19)\n",
    "teamtreec.fit(xtrainc, ytrainc)\n",
    "ypredc = teamtreec.predict(xtestc)"
   ]
  },
  {
   "cell_type": "code",
   "execution_count": 44,
   "metadata": {},
   "outputs": [
    {
     "data": {
      "text/plain": [
       "array([[21372, 24450],\n",
       "       [20575, 25637]])"
      ]
     },
     "execution_count": 44,
     "metadata": {},
     "output_type": "execute_result"
    }
   ],
   "source": [
    "confusion_matrix(ytestc, ypredc)"
   ]
  },
  {
   "cell_type": "code",
   "execution_count": 45,
   "metadata": {},
   "outputs": [
    {
     "data": {
      "text/plain": [
       "0.5107786252906534"
      ]
     },
     "execution_count": 45,
     "metadata": {},
     "output_type": "execute_result"
    }
   ],
   "source": [
    "accuracy_score(ytestc, ypredc)"
   ]
  },
  {
   "cell_type": "markdown",
   "metadata": {},
   "source": [
    "### Indicadores de classe e conquistas de começo de partida"
   ]
  },
  {
   "cell_type": "code",
   "execution_count": 46,
   "metadata": {},
   "outputs": [],
   "source": [
    "teamtreei = DecisionTreeClassifier(min_samples_leaf=100, random_state=19)\n",
    "teamtreei.fit(xtraini, ytraini)\n",
    "ypredi = teamtreei.predict(xtesti)"
   ]
  },
  {
   "cell_type": "code",
   "execution_count": 47,
   "metadata": {},
   "outputs": [
    {
     "data": {
      "text/plain": [
       "array([[33008, 12867],\n",
       "       [14179, 31980]])"
      ]
     },
     "execution_count": 47,
     "metadata": {},
     "output_type": "execute_result"
    }
   ],
   "source": [
    "confusion_matrix(ytesti, ypredi)"
   ]
  },
  {
   "cell_type": "code",
   "execution_count": 48,
   "metadata": {},
   "outputs": [
    {
     "data": {
      "text/plain": [
       "0.7061303431340592"
      ]
     },
     "execution_count": 48,
     "metadata": {},
     "output_type": "execute_result"
    }
   ],
   "source": [
    "accuracy_score(ytesti, ypredi)"
   ]
  },
  {
   "cell_type": "markdown",
   "metadata": {},
   "source": [
    "## Floresta Randômica"
   ]
  },
  {
   "cell_type": "code",
   "execution_count": 49,
   "metadata": {},
   "outputs": [],
   "source": [
    "teamforesti = RandomForestClassifier(100, min_samples_leaf=100, random_state=19)\n",
    "teamforesti.fit(xtraini, ytraini)\n",
    "ypredi = teamforesti.predict(xtesti)"
   ]
  },
  {
   "cell_type": "code",
   "execution_count": 50,
   "metadata": {},
   "outputs": [
    {
     "data": {
      "text/plain": [
       "array([[33030, 12845],\n",
       "       [14204, 31955]])"
      ]
     },
     "execution_count": 50,
     "metadata": {},
     "output_type": "execute_result"
    }
   ],
   "source": [
    "confusion_matrix(ytesti, ypredi)"
   ]
  },
  {
   "cell_type": "code",
   "execution_count": 51,
   "metadata": {},
   "outputs": [
    {
     "data": {
      "text/plain": [
       "0.7060977464849947"
      ]
     },
     "execution_count": 51,
     "metadata": {},
     "output_type": "execute_result"
    }
   ],
   "source": [
    "accuracy_score(ytesti, ypredi)"
   ]
  },
  {
   "cell_type": "markdown",
   "metadata": {},
   "source": [
    "A mudança para um modelo mais complexo não aumenta significativamente o resultado obtido."
   ]
  },
  {
   "cell_type": "markdown",
   "metadata": {},
   "source": [
    "# Avaliação dos dois times simultaneamente"
   ]
  },
  {
   "cell_type": "markdown",
   "metadata": {},
   "source": [
    "Praticamente todos os passos anteriores de previsão são refeitos mas agora o dataset confronta dois times e informa qual venceu ao invés de analisar cada time individualmente."
   ]
  },
  {
   "cell_type": "code",
   "execution_count": 52,
   "metadata": {},
   "outputs": [],
   "source": [
    "blueteam = teamdata.iloc[[x for x in range(teamdata.shape[0]) if x%2 == 0]]\n",
    "redteam = teamdata.iloc[[x for x in range(teamdata.shape[0]) if x%2 == 1]]"
   ]
  },
  {
   "cell_type": "code",
   "execution_count": 53,
   "metadata": {},
   "outputs": [],
   "source": [
    "blueteam.columns = ['blue_'+col_name.lower() for col_name in blueteam.columns]\n",
    "redteam.columns = ['red_'+col_name.lower() for col_name in redteam.columns]"
   ]
  },
  {
   "cell_type": "code",
   "execution_count": 54,
   "metadata": {},
   "outputs": [
    {
     "data": {
      "text/html": [
       "<div>\n",
       "<style scoped>\n",
       "    .dataframe tbody tr th:only-of-type {\n",
       "        vertical-align: middle;\n",
       "    }\n",
       "\n",
       "    .dataframe tbody tr th {\n",
       "        vertical-align: top;\n",
       "    }\n",
       "\n",
       "    .dataframe thead th {\n",
       "        text-align: right;\n",
       "    }\n",
       "</style>\n",
       "<table border=\"1\" class=\"dataframe\">\n",
       "  <thead>\n",
       "    <tr style=\"text-align: right;\">\n",
       "      <th></th>\n",
       "      <th>blue_win</th>\n",
       "      <th>blue_artillery</th>\n",
       "      <th>blue_assassin</th>\n",
       "      <th>blue_battlemage</th>\n",
       "      <th>blue_burst</th>\n",
       "      <th>blue_catcher</th>\n",
       "      <th>blue_diver</th>\n",
       "      <th>blue_enchanter</th>\n",
       "      <th>blue_juggernaut</th>\n",
       "      <th>blue_marksman</th>\n",
       "      <th>...</th>\n",
       "      <th>blue_firsttower</th>\n",
       "      <th>blue_firstinhib</th>\n",
       "      <th>blue_firstbaron</th>\n",
       "      <th>blue_firstdragon</th>\n",
       "      <th>blue_firstharry</th>\n",
       "      <th>blue_towerkills</th>\n",
       "      <th>blue_inhibkills</th>\n",
       "      <th>blue_baronkills</th>\n",
       "      <th>blue_dragonkills</th>\n",
       "      <th>blue_harrykills</th>\n",
       "    </tr>\n",
       "    <tr>\n",
       "      <th>absid</th>\n",
       "      <th></th>\n",
       "      <th></th>\n",
       "      <th></th>\n",
       "      <th></th>\n",
       "      <th></th>\n",
       "      <th></th>\n",
       "      <th></th>\n",
       "      <th></th>\n",
       "      <th></th>\n",
       "      <th></th>\n",
       "      <th></th>\n",
       "      <th></th>\n",
       "      <th></th>\n",
       "      <th></th>\n",
       "      <th></th>\n",
       "      <th></th>\n",
       "      <th></th>\n",
       "      <th></th>\n",
       "      <th></th>\n",
       "      <th></th>\n",
       "      <th></th>\n",
       "    </tr>\n",
       "  </thead>\n",
       "  <tbody>\n",
       "    <tr>\n",
       "      <td>10100</td>\n",
       "      <td>0</td>\n",
       "      <td>0</td>\n",
       "      <td>0</td>\n",
       "      <td>1</td>\n",
       "      <td>0</td>\n",
       "      <td>0</td>\n",
       "      <td>1</td>\n",
       "      <td>1</td>\n",
       "      <td>0</td>\n",
       "      <td>1</td>\n",
       "      <td>...</td>\n",
       "      <td>1</td>\n",
       "      <td>0</td>\n",
       "      <td>0</td>\n",
       "      <td>0</td>\n",
       "      <td>0</td>\n",
       "      <td>5</td>\n",
       "      <td>0</td>\n",
       "      <td>0</td>\n",
       "      <td>0</td>\n",
       "      <td>0</td>\n",
       "    </tr>\n",
       "    <tr>\n",
       "      <td>11100</td>\n",
       "      <td>0</td>\n",
       "      <td>1</td>\n",
       "      <td>1</td>\n",
       "      <td>1</td>\n",
       "      <td>1</td>\n",
       "      <td>0</td>\n",
       "      <td>0</td>\n",
       "      <td>0</td>\n",
       "      <td>0</td>\n",
       "      <td>0</td>\n",
       "      <td>...</td>\n",
       "      <td>0</td>\n",
       "      <td>0</td>\n",
       "      <td>0</td>\n",
       "      <td>0</td>\n",
       "      <td>0</td>\n",
       "      <td>2</td>\n",
       "      <td>0</td>\n",
       "      <td>0</td>\n",
       "      <td>0</td>\n",
       "      <td>0</td>\n",
       "    </tr>\n",
       "    <tr>\n",
       "      <td>12100</td>\n",
       "      <td>0</td>\n",
       "      <td>1</td>\n",
       "      <td>0</td>\n",
       "      <td>0</td>\n",
       "      <td>1</td>\n",
       "      <td>1</td>\n",
       "      <td>0</td>\n",
       "      <td>1</td>\n",
       "      <td>0</td>\n",
       "      <td>1</td>\n",
       "      <td>...</td>\n",
       "      <td>0</td>\n",
       "      <td>0</td>\n",
       "      <td>0</td>\n",
       "      <td>0</td>\n",
       "      <td>0</td>\n",
       "      <td>1</td>\n",
       "      <td>0</td>\n",
       "      <td>0</td>\n",
       "      <td>0</td>\n",
       "      <td>0</td>\n",
       "    </tr>\n",
       "    <tr>\n",
       "      <td>13100</td>\n",
       "      <td>0</td>\n",
       "      <td>0</td>\n",
       "      <td>1</td>\n",
       "      <td>0</td>\n",
       "      <td>1</td>\n",
       "      <td>0</td>\n",
       "      <td>1</td>\n",
       "      <td>0</td>\n",
       "      <td>0</td>\n",
       "      <td>1</td>\n",
       "      <td>...</td>\n",
       "      <td>1</td>\n",
       "      <td>0</td>\n",
       "      <td>0</td>\n",
       "      <td>1</td>\n",
       "      <td>1</td>\n",
       "      <td>6</td>\n",
       "      <td>0</td>\n",
       "      <td>0</td>\n",
       "      <td>2</td>\n",
       "      <td>1</td>\n",
       "    </tr>\n",
       "    <tr>\n",
       "      <td>14100</td>\n",
       "      <td>0</td>\n",
       "      <td>0</td>\n",
       "      <td>0</td>\n",
       "      <td>0</td>\n",
       "      <td>1</td>\n",
       "      <td>0</td>\n",
       "      <td>1</td>\n",
       "      <td>0</td>\n",
       "      <td>1</td>\n",
       "      <td>1</td>\n",
       "      <td>...</td>\n",
       "      <td>0</td>\n",
       "      <td>0</td>\n",
       "      <td>0</td>\n",
       "      <td>0</td>\n",
       "      <td>1</td>\n",
       "      <td>5</td>\n",
       "      <td>0</td>\n",
       "      <td>0</td>\n",
       "      <td>0</td>\n",
       "      <td>1</td>\n",
       "    </tr>\n",
       "  </tbody>\n",
       "</table>\n",
       "<p>5 rows × 25 columns</p>\n",
       "</div>"
      ],
      "text/plain": [
       "       blue_win  blue_artillery  blue_assassin  blue_battlemage  blue_burst  \\\n",
       "absid                                                                         \n",
       "10100         0               0              0                1           0   \n",
       "11100         0               1              1                1           1   \n",
       "12100         0               1              0                0           1   \n",
       "13100         0               0              1                0           1   \n",
       "14100         0               0              0                0           1   \n",
       "\n",
       "       blue_catcher  blue_diver  blue_enchanter  blue_juggernaut  \\\n",
       "absid                                                              \n",
       "10100             0           1               1                0   \n",
       "11100             0           0               0                0   \n",
       "12100             1           0               1                0   \n",
       "13100             0           1               0                0   \n",
       "14100             0           1               0                1   \n",
       "\n",
       "       blue_marksman  ...  blue_firsttower  blue_firstinhib  blue_firstbaron  \\\n",
       "absid                 ...                                                      \n",
       "10100              1  ...                1                0                0   \n",
       "11100              0  ...                0                0                0   \n",
       "12100              1  ...                0                0                0   \n",
       "13100              1  ...                1                0                0   \n",
       "14100              1  ...                0                0                0   \n",
       "\n",
       "       blue_firstdragon  blue_firstharry  blue_towerkills  blue_inhibkills  \\\n",
       "absid                                                                        \n",
       "10100                 0                0                5                0   \n",
       "11100                 0                0                2                0   \n",
       "12100                 0                0                1                0   \n",
       "13100                 1                1                6                0   \n",
       "14100                 0                1                5                0   \n",
       "\n",
       "       blue_baronkills  blue_dragonkills  blue_harrykills  \n",
       "absid                                                      \n",
       "10100                0                 0                0  \n",
       "11100                0                 0                0  \n",
       "12100                0                 0                0  \n",
       "13100                0                 2                1  \n",
       "14100                0                 0                1  \n",
       "\n",
       "[5 rows x 25 columns]"
      ]
     },
     "execution_count": 54,
     "metadata": {},
     "output_type": "execute_result"
    }
   ],
   "source": [
    "blueteam.head()"
   ]
  },
  {
   "cell_type": "code",
   "execution_count": 55,
   "metadata": {},
   "outputs": [
    {
     "data": {
      "text/html": [
       "<div>\n",
       "<style scoped>\n",
       "    .dataframe tbody tr th:only-of-type {\n",
       "        vertical-align: middle;\n",
       "    }\n",
       "\n",
       "    .dataframe tbody tr th {\n",
       "        vertical-align: top;\n",
       "    }\n",
       "\n",
       "    .dataframe thead th {\n",
       "        text-align: right;\n",
       "    }\n",
       "</style>\n",
       "<table border=\"1\" class=\"dataframe\">\n",
       "  <thead>\n",
       "    <tr style=\"text-align: right;\">\n",
       "      <th></th>\n",
       "      <th>red_win</th>\n",
       "      <th>red_artillery</th>\n",
       "      <th>red_assassin</th>\n",
       "      <th>red_battlemage</th>\n",
       "      <th>red_burst</th>\n",
       "      <th>red_catcher</th>\n",
       "      <th>red_diver</th>\n",
       "      <th>red_enchanter</th>\n",
       "      <th>red_juggernaut</th>\n",
       "      <th>red_marksman</th>\n",
       "      <th>...</th>\n",
       "      <th>red_firsttower</th>\n",
       "      <th>red_firstinhib</th>\n",
       "      <th>red_firstbaron</th>\n",
       "      <th>red_firstdragon</th>\n",
       "      <th>red_firstharry</th>\n",
       "      <th>red_towerkills</th>\n",
       "      <th>red_inhibkills</th>\n",
       "      <th>red_baronkills</th>\n",
       "      <th>red_dragonkills</th>\n",
       "      <th>red_harrykills</th>\n",
       "    </tr>\n",
       "    <tr>\n",
       "      <th>absid</th>\n",
       "      <th></th>\n",
       "      <th></th>\n",
       "      <th></th>\n",
       "      <th></th>\n",
       "      <th></th>\n",
       "      <th></th>\n",
       "      <th></th>\n",
       "      <th></th>\n",
       "      <th></th>\n",
       "      <th></th>\n",
       "      <th></th>\n",
       "      <th></th>\n",
       "      <th></th>\n",
       "      <th></th>\n",
       "      <th></th>\n",
       "      <th></th>\n",
       "      <th></th>\n",
       "      <th></th>\n",
       "      <th></th>\n",
       "      <th></th>\n",
       "      <th></th>\n",
       "    </tr>\n",
       "  </thead>\n",
       "  <tbody>\n",
       "    <tr>\n",
       "      <td>10200</td>\n",
       "      <td>1</td>\n",
       "      <td>1</td>\n",
       "      <td>1</td>\n",
       "      <td>0</td>\n",
       "      <td>1</td>\n",
       "      <td>0</td>\n",
       "      <td>1</td>\n",
       "      <td>0</td>\n",
       "      <td>0</td>\n",
       "      <td>1</td>\n",
       "      <td>...</td>\n",
       "      <td>0</td>\n",
       "      <td>1</td>\n",
       "      <td>1</td>\n",
       "      <td>1</td>\n",
       "      <td>1</td>\n",
       "      <td>10</td>\n",
       "      <td>3</td>\n",
       "      <td>1</td>\n",
       "      <td>3</td>\n",
       "      <td>1</td>\n",
       "    </tr>\n",
       "    <tr>\n",
       "      <td>11200</td>\n",
       "      <td>1</td>\n",
       "      <td>0</td>\n",
       "      <td>0</td>\n",
       "      <td>0</td>\n",
       "      <td>1</td>\n",
       "      <td>0</td>\n",
       "      <td>1</td>\n",
       "      <td>0</td>\n",
       "      <td>0</td>\n",
       "      <td>1</td>\n",
       "      <td>...</td>\n",
       "      <td>1</td>\n",
       "      <td>1</td>\n",
       "      <td>0</td>\n",
       "      <td>1</td>\n",
       "      <td>0</td>\n",
       "      <td>10</td>\n",
       "      <td>3</td>\n",
       "      <td>0</td>\n",
       "      <td>2</td>\n",
       "      <td>0</td>\n",
       "    </tr>\n",
       "    <tr>\n",
       "      <td>12200</td>\n",
       "      <td>1</td>\n",
       "      <td>0</td>\n",
       "      <td>1</td>\n",
       "      <td>0</td>\n",
       "      <td>1</td>\n",
       "      <td>0</td>\n",
       "      <td>1</td>\n",
       "      <td>1</td>\n",
       "      <td>0</td>\n",
       "      <td>1</td>\n",
       "      <td>...</td>\n",
       "      <td>1</td>\n",
       "      <td>1</td>\n",
       "      <td>0</td>\n",
       "      <td>1</td>\n",
       "      <td>0</td>\n",
       "      <td>11</td>\n",
       "      <td>3</td>\n",
       "      <td>0</td>\n",
       "      <td>2</td>\n",
       "      <td>0</td>\n",
       "    </tr>\n",
       "    <tr>\n",
       "      <td>13200</td>\n",
       "      <td>1</td>\n",
       "      <td>0</td>\n",
       "      <td>0</td>\n",
       "      <td>0</td>\n",
       "      <td>1</td>\n",
       "      <td>1</td>\n",
       "      <td>0</td>\n",
       "      <td>0</td>\n",
       "      <td>0</td>\n",
       "      <td>1</td>\n",
       "      <td>...</td>\n",
       "      <td>0</td>\n",
       "      <td>1</td>\n",
       "      <td>1</td>\n",
       "      <td>0</td>\n",
       "      <td>0</td>\n",
       "      <td>9</td>\n",
       "      <td>2</td>\n",
       "      <td>1</td>\n",
       "      <td>2</td>\n",
       "      <td>0</td>\n",
       "    </tr>\n",
       "    <tr>\n",
       "      <td>14200</td>\n",
       "      <td>1</td>\n",
       "      <td>0</td>\n",
       "      <td>0</td>\n",
       "      <td>1</td>\n",
       "      <td>1</td>\n",
       "      <td>1</td>\n",
       "      <td>1</td>\n",
       "      <td>0</td>\n",
       "      <td>1</td>\n",
       "      <td>1</td>\n",
       "      <td>...</td>\n",
       "      <td>1</td>\n",
       "      <td>1</td>\n",
       "      <td>1</td>\n",
       "      <td>1</td>\n",
       "      <td>0</td>\n",
       "      <td>7</td>\n",
       "      <td>1</td>\n",
       "      <td>1</td>\n",
       "      <td>3</td>\n",
       "      <td>0</td>\n",
       "    </tr>\n",
       "  </tbody>\n",
       "</table>\n",
       "<p>5 rows × 25 columns</p>\n",
       "</div>"
      ],
      "text/plain": [
       "       red_win  red_artillery  red_assassin  red_battlemage  red_burst  \\\n",
       "absid                                                                    \n",
       "10200        1              1             1               0          1   \n",
       "11200        1              0             0               0          1   \n",
       "12200        1              0             1               0          1   \n",
       "13200        1              0             0               0          1   \n",
       "14200        1              0             0               1          1   \n",
       "\n",
       "       red_catcher  red_diver  red_enchanter  red_juggernaut  red_marksman  \\\n",
       "absid                                                                        \n",
       "10200            0          1              0               0             1   \n",
       "11200            0          1              0               0             1   \n",
       "12200            0          1              1               0             1   \n",
       "13200            1          0              0               0             1   \n",
       "14200            1          1              0               1             1   \n",
       "\n",
       "       ...  red_firsttower  red_firstinhib  red_firstbaron  red_firstdragon  \\\n",
       "absid  ...                                                                    \n",
       "10200  ...               0               1               1                1   \n",
       "11200  ...               1               1               0                1   \n",
       "12200  ...               1               1               0                1   \n",
       "13200  ...               0               1               1                0   \n",
       "14200  ...               1               1               1                1   \n",
       "\n",
       "       red_firstharry  red_towerkills  red_inhibkills  red_baronkills  \\\n",
       "absid                                                                   \n",
       "10200               1              10               3               1   \n",
       "11200               0              10               3               0   \n",
       "12200               0              11               3               0   \n",
       "13200               0               9               2               1   \n",
       "14200               0               7               1               1   \n",
       "\n",
       "       red_dragonkills  red_harrykills  \n",
       "absid                                   \n",
       "10200                3               1  \n",
       "11200                2               0  \n",
       "12200                2               0  \n",
       "13200                2               0  \n",
       "14200                3               0  \n",
       "\n",
       "[5 rows x 25 columns]"
      ]
     },
     "execution_count": 55,
     "metadata": {},
     "output_type": "execute_result"
    }
   ],
   "source": [
    "redteam.head()"
   ]
  },
  {
   "cell_type": "code",
   "execution_count": 56,
   "metadata": {},
   "outputs": [
    {
     "data": {
      "text/html": [
       "<div>\n",
       "<style scoped>\n",
       "    .dataframe tbody tr th:only-of-type {\n",
       "        vertical-align: middle;\n",
       "    }\n",
       "\n",
       "    .dataframe tbody tr th {\n",
       "        vertical-align: top;\n",
       "    }\n",
       "\n",
       "    .dataframe thead th {\n",
       "        text-align: right;\n",
       "    }\n",
       "</style>\n",
       "<table border=\"1\" class=\"dataframe\">\n",
       "  <thead>\n",
       "    <tr style=\"text-align: right;\">\n",
       "      <th></th>\n",
       "      <th>blue_win</th>\n",
       "      <th>blue_artillery</th>\n",
       "      <th>blue_assassin</th>\n",
       "      <th>blue_battlemage</th>\n",
       "      <th>blue_burst</th>\n",
       "      <th>blue_catcher</th>\n",
       "      <th>blue_diver</th>\n",
       "      <th>blue_enchanter</th>\n",
       "      <th>blue_juggernaut</th>\n",
       "      <th>blue_marksman</th>\n",
       "      <th>...</th>\n",
       "      <th>red_firsttower</th>\n",
       "      <th>red_firstinhib</th>\n",
       "      <th>red_firstbaron</th>\n",
       "      <th>red_firstdragon</th>\n",
       "      <th>red_firstharry</th>\n",
       "      <th>red_towerkills</th>\n",
       "      <th>red_inhibkills</th>\n",
       "      <th>red_baronkills</th>\n",
       "      <th>red_dragonkills</th>\n",
       "      <th>red_harrykills</th>\n",
       "    </tr>\n",
       "  </thead>\n",
       "  <tbody>\n",
       "    <tr>\n",
       "      <td>0</td>\n",
       "      <td>0</td>\n",
       "      <td>0</td>\n",
       "      <td>0</td>\n",
       "      <td>1</td>\n",
       "      <td>0</td>\n",
       "      <td>0</td>\n",
       "      <td>1</td>\n",
       "      <td>1</td>\n",
       "      <td>0</td>\n",
       "      <td>1</td>\n",
       "      <td>...</td>\n",
       "      <td>0</td>\n",
       "      <td>1</td>\n",
       "      <td>1</td>\n",
       "      <td>1</td>\n",
       "      <td>1</td>\n",
       "      <td>10</td>\n",
       "      <td>3</td>\n",
       "      <td>1</td>\n",
       "      <td>3</td>\n",
       "      <td>1</td>\n",
       "    </tr>\n",
       "    <tr>\n",
       "      <td>1</td>\n",
       "      <td>0</td>\n",
       "      <td>1</td>\n",
       "      <td>1</td>\n",
       "      <td>1</td>\n",
       "      <td>1</td>\n",
       "      <td>0</td>\n",
       "      <td>0</td>\n",
       "      <td>0</td>\n",
       "      <td>0</td>\n",
       "      <td>0</td>\n",
       "      <td>...</td>\n",
       "      <td>1</td>\n",
       "      <td>1</td>\n",
       "      <td>0</td>\n",
       "      <td>1</td>\n",
       "      <td>0</td>\n",
       "      <td>10</td>\n",
       "      <td>3</td>\n",
       "      <td>0</td>\n",
       "      <td>2</td>\n",
       "      <td>0</td>\n",
       "    </tr>\n",
       "    <tr>\n",
       "      <td>2</td>\n",
       "      <td>0</td>\n",
       "      <td>1</td>\n",
       "      <td>0</td>\n",
       "      <td>0</td>\n",
       "      <td>1</td>\n",
       "      <td>1</td>\n",
       "      <td>0</td>\n",
       "      <td>1</td>\n",
       "      <td>0</td>\n",
       "      <td>1</td>\n",
       "      <td>...</td>\n",
       "      <td>1</td>\n",
       "      <td>1</td>\n",
       "      <td>0</td>\n",
       "      <td>1</td>\n",
       "      <td>0</td>\n",
       "      <td>11</td>\n",
       "      <td>3</td>\n",
       "      <td>0</td>\n",
       "      <td>2</td>\n",
       "      <td>0</td>\n",
       "    </tr>\n",
       "    <tr>\n",
       "      <td>3</td>\n",
       "      <td>0</td>\n",
       "      <td>0</td>\n",
       "      <td>1</td>\n",
       "      <td>0</td>\n",
       "      <td>1</td>\n",
       "      <td>0</td>\n",
       "      <td>1</td>\n",
       "      <td>0</td>\n",
       "      <td>0</td>\n",
       "      <td>1</td>\n",
       "      <td>...</td>\n",
       "      <td>0</td>\n",
       "      <td>1</td>\n",
       "      <td>1</td>\n",
       "      <td>0</td>\n",
       "      <td>0</td>\n",
       "      <td>9</td>\n",
       "      <td>2</td>\n",
       "      <td>1</td>\n",
       "      <td>2</td>\n",
       "      <td>0</td>\n",
       "    </tr>\n",
       "    <tr>\n",
       "      <td>4</td>\n",
       "      <td>0</td>\n",
       "      <td>0</td>\n",
       "      <td>0</td>\n",
       "      <td>0</td>\n",
       "      <td>1</td>\n",
       "      <td>0</td>\n",
       "      <td>1</td>\n",
       "      <td>0</td>\n",
       "      <td>1</td>\n",
       "      <td>1</td>\n",
       "      <td>...</td>\n",
       "      <td>1</td>\n",
       "      <td>1</td>\n",
       "      <td>1</td>\n",
       "      <td>1</td>\n",
       "      <td>0</td>\n",
       "      <td>7</td>\n",
       "      <td>1</td>\n",
       "      <td>1</td>\n",
       "      <td>3</td>\n",
       "      <td>0</td>\n",
       "    </tr>\n",
       "  </tbody>\n",
       "</table>\n",
       "<p>5 rows × 49 columns</p>\n",
       "</div>"
      ],
      "text/plain": [
       "   blue_win  blue_artillery  blue_assassin  blue_battlemage  blue_burst  \\\n",
       "0         0               0              0                1           0   \n",
       "1         0               1              1                1           1   \n",
       "2         0               1              0                0           1   \n",
       "3         0               0              1                0           1   \n",
       "4         0               0              0                0           1   \n",
       "\n",
       "   blue_catcher  blue_diver  blue_enchanter  blue_juggernaut  blue_marksman  \\\n",
       "0             0           1               1                0              1   \n",
       "1             0           0               0                0              0   \n",
       "2             1           0               1                0              1   \n",
       "3             0           1               0                0              1   \n",
       "4             0           1               0                1              1   \n",
       "\n",
       "   ...  red_firsttower  red_firstinhib  red_firstbaron  red_firstdragon  \\\n",
       "0  ...               0               1               1                1   \n",
       "1  ...               1               1               0                1   \n",
       "2  ...               1               1               0                1   \n",
       "3  ...               0               1               1                0   \n",
       "4  ...               1               1               1                1   \n",
       "\n",
       "   red_firstharry  red_towerkills  red_inhibkills  red_baronkills  \\\n",
       "0               1              10               3               1   \n",
       "1               0              10               3               0   \n",
       "2               0              11               3               0   \n",
       "3               0               9               2               1   \n",
       "4               0               7               1               1   \n",
       "\n",
       "   red_dragonkills  red_harrykills  \n",
       "0                3               1  \n",
       "1                2               0  \n",
       "2                2               0  \n",
       "3                2               0  \n",
       "4                3               0  \n",
       "\n",
       "[5 rows x 49 columns]"
      ]
     },
     "execution_count": 56,
     "metadata": {},
     "output_type": "execute_result"
    }
   ],
   "source": [
    "matchdata = pd.concat([blueteam.reset_index(drop=True),redteam.reset_index(drop=True)],\n",
    "                      axis=1).drop(columns='red_win')\n",
    "matchdata.head()"
   ]
  },
  {
   "cell_type": "code",
   "execution_count": 57,
   "metadata": {},
   "outputs": [],
   "source": [
    "classes = ['blue_artillery', 'blue_assassin', 'blue_battlemage','blue_burst', 'blue_catcher', 'blue_diver',\n",
    "           'blue_enchanter', 'blue_juggernaut', 'blue_marksman', 'blue_skirmisher', 'blue_specialist',\n",
    "           'blue_vanguard', 'blue_warden', 'red_artillery', 'red_assassin', 'red_battlemage', 'red_burst',\n",
    "           'red_catcher', 'red_diver', 'red_enchanter', 'red_juggernaut', 'red_marksman', 'red_skirmisher',\n",
    "           'red_specialist', 'red_vanguard', 'red_warden']\n",
    "attributes = ['blue_firstblood', 'blue_firsttower', 'blue_firstinhib', 'blue_firstbaron', 'blue_firstdragon',\n",
    "              'blue_firstharry', 'red_firstblood', 'red_firsttower', 'red_firstinhib', 'red_firstbaron',\n",
    "              'red_firstdragon', 'red_firstharry']"
   ]
  },
  {
   "cell_type": "code",
   "execution_count": 58,
   "metadata": {},
   "outputs": [],
   "source": [
    "init = classes+attributes[:2]+attributes[6:8]"
   ]
  },
  {
   "cell_type": "code",
   "execution_count": 59,
   "metadata": {},
   "outputs": [
    {
     "data": {
      "image/png": "[encoded data removed]",
      "text/plain": [
       "<Figure size 432x288 with 1 Axes>"
      ]
     },
     "metadata": {},
     "output_type": "display_data"
    }
   ],
   "source": [
    "sns.countplot(matchdata['blue_win'].replace([0, 1], ['No', 'Yes']), order=['No', 'Yes']);"
   ]
  },
  {
   "cell_type": "code",
   "execution_count": 60,
   "metadata": {},
   "outputs": [],
   "source": [
    "xtrain, xtest, ytrain, ytest = tts(matchdata.drop(columns='blue_win'), matchdata['blue_win'], test_size=0.25)\n",
    "xtrainc, xtestc, ytrainc, ytestc = tts(matchdata[classes], matchdata['blue_win'], test_size=0.25)\n",
    "xtraini, xtesti, ytraini, ytesti = tts(matchdata[init], matchdata['blue_win'], test_size=0.25)"
   ]
  },
  {
   "cell_type": "code",
   "execution_count": 61,
   "metadata": {},
   "outputs": [
    {
     "name": "stderr",
     "output_type": "stream",
     "text": [
      "/usr/local/lib/python3.7/site-packages/sklearn/linear_model/logistic.py:432: FutureWarning: Default solver will be changed to 'lbfgs' in 0.22. Specify a solver to silence this warning.\n",
      "  FutureWarning)\n"
     ]
    }
   ],
   "source": [
    "leaguemodel = LogisticRegression(random_state=19)\n",
    "leaguemodel.fit(xtrain, ytrain)\n",
    "ypred = leaguemodel.predict(xtest)"
   ]
  },
  {
   "cell_type": "code",
   "execution_count": 62,
   "metadata": {},
   "outputs": [
    {
     "data": {
      "text/plain": [
       "array([[21352,   807],\n",
       "       [  852, 23006]])"
      ]
     },
     "execution_count": 62,
     "metadata": {},
     "output_type": "execute_result"
    }
   ],
   "source": [
    "confusion_matrix(ytest, ypred)"
   ]
  },
  {
   "cell_type": "code",
   "execution_count": 63,
   "metadata": {},
   "outputs": [
    {
     "data": {
      "text/plain": [
       "0.9639481061346894"
      ]
     },
     "execution_count": 63,
     "metadata": {},
     "output_type": "execute_result"
    }
   ],
   "source": [
    "accuracy_score(ytest, ypred)"
   ]
  },
  {
   "cell_type": "code",
   "execution_count": 64,
   "metadata": {},
   "outputs": [
    {
     "name": "stderr",
     "output_type": "stream",
     "text": [
      "/usr/local/lib/python3.7/site-packages/sklearn/linear_model/logistic.py:432: FutureWarning: Default solver will be changed to 'lbfgs' in 0.22. Specify a solver to silence this warning.\n",
      "  FutureWarning)\n"
     ]
    }
   ],
   "source": [
    "leaguemodelc = LogisticRegression(random_state=19)\n",
    "leaguemodelc.fit(xtrainc, ytrainc)\n",
    "ypredc = leaguemodelc.predict(xtestc)"
   ]
  },
  {
   "cell_type": "code",
   "execution_count": 65,
   "metadata": {},
   "outputs": [
    {
     "data": {
      "text/plain": [
       "array([[ 7347, 14802],\n",
       "       [ 7007, 16861]])"
      ]
     },
     "execution_count": 65,
     "metadata": {},
     "output_type": "execute_result"
    }
   ],
   "source": [
    "confusion_matrix(ytestc, ypredc)"
   ]
  },
  {
   "cell_type": "code",
   "execution_count": 66,
   "metadata": {},
   "outputs": [
    {
     "data": {
      "text/plain": [
       "0.5260664537018928"
      ]
     },
     "execution_count": 66,
     "metadata": {},
     "output_type": "execute_result"
    }
   ],
   "source": [
    "accuracy_score(ytestc, ypredc)"
   ]
  },
  {
   "cell_type": "code",
   "execution_count": 67,
   "metadata": {},
   "outputs": [
    {
     "name": "stderr",
     "output_type": "stream",
     "text": [
      "/usr/local/lib/python3.7/site-packages/sklearn/linear_model/logistic.py:432: FutureWarning: Default solver will be changed to 'lbfgs' in 0.22. Specify a solver to silence this warning.\n",
      "  FutureWarning)\n"
     ]
    }
   ],
   "source": [
    "leaguemodeli = LogisticRegression(random_state=19)\n",
    "leaguemodeli.fit(xtraini, ytraini)\n",
    "ypredi = leaguemodeli.predict(xtesti)"
   ]
  },
  {
   "cell_type": "code",
   "execution_count": 68,
   "metadata": {},
   "outputs": [
    {
     "data": {
      "text/plain": [
       "array([[15478,  6707],\n",
       "       [ 6592, 17240]])"
      ]
     },
     "execution_count": 68,
     "metadata": {},
     "output_type": "execute_result"
    }
   ],
   "source": [
    "confusion_matrix(ytesti, ypredi)"
   ]
  },
  {
   "cell_type": "code",
   "execution_count": 69,
   "metadata": {},
   "outputs": [
    {
     "data": {
      "text/plain": [
       "0.7109981093943543"
      ]
     },
     "execution_count": 69,
     "metadata": {},
     "output_type": "execute_result"
    }
   ],
   "source": [
    "accuracy_score(ytesti, ypredi)"
   ]
  },
  {
   "cell_type": "markdown",
   "metadata": {},
   "source": [
    "# Reclassificando personagens"
   ]
  },
  {
   "cell_type": "markdown",
   "metadata": {},
   "source": [
    "### Raspagem e tratamento de dados"
   ]
  },
  {
   "cell_type": "markdown",
   "metadata": {},
   "source": [
    "Os dados raspados aqui estão no dataset `champsstats.csv`.\n",
    "\n",
    "Para obter o mesmo resultado ao fim dessa sessão basta utilizar o seguinte comando:\n",
    "\n",
    "`df_champions2 = pd.read_csv('data/champsstats.csv')`"
   ]
  },
  {
   "cell_type": "code",
   "execution_count": 70,
   "metadata": {},
   "outputs": [],
   "source": [
    "#df_champions2 = pd.read_csv('data/champsstats.csv')"
   ]
  },
  {
   "cell_type": "code",
   "execution_count": 122,
   "metadata": {},
   "outputs": [],
   "source": [
    "import requests\n",
    "from bs4 import BeautifulSoup as bs"
   ]
  },
  {
   "cell_type": "code",
   "execution_count": 123,
   "metadata": {},
   "outputs": [
    {
     "data": {
      "text/plain": [
       "<Response [200]>"
      ]
     },
     "execution_count": 123,
     "metadata": {},
     "output_type": "execute_result"
    }
   ],
   "source": [
    "response = requests.get('https://leagueoflegends.fandom.com/wiki/List_of_champions/Base_statistics')\n",
    "response"
   ]
  },
  {
   "cell_type": "code",
   "execution_count": 124,
   "metadata": {},
   "outputs": [],
   "source": [
    "soup = bs(response.content)"
   ]
  },
  {
   "cell_type": "code",
   "execution_count": 125,
   "metadata": {},
   "outputs": [],
   "source": [
    "stats = soup.find_all('tr')[1:-3]"
   ]
  },
  {
   "cell_type": "code",
   "execution_count": 126,
   "metadata": {},
   "outputs": [],
   "source": [
    "info = []\n",
    "k = 0\n",
    "\n",
    "for champ in stats:\n",
    "    info.append([])\n",
    "    for stat in champ.find_all('td'):\n",
    "        info[k].append(stat.get_text()[1:-1])\n",
    "    k += 1"
   ]
  },
  {
   "cell_type": "code",
   "execution_count": 127,
   "metadata": {},
   "outputs": [],
   "source": [
    "df_champions2 = pd.DataFrame(info, columns=['name', 'hp', 'hp+', 'hp5', 'hp5+', 'mp', 'mp+', 'mp5', 'mp5+',\n",
    "                                            'ad', 'ad+', 'as', 'as+', 'ar', 'ar+', 'mr', 'mr+', 'ms', 'rng'])"
   ]
  },
  {
   "cell_type": "code",
   "execution_count": 128,
   "metadata": {},
   "outputs": [],
   "source": [
    "df_champions2['name'] = df_champions2['name'].apply(lambda name: name.split(' ')[0].replace('\\'', '')\n",
    "                                                    if name.split(' ')[0] == name.split(' ')[1]\n",
    "                                                    else name.split(' ')[0]+' '+name.split(' ')[1])\n",
    "df_champions2['name'] = df_champions2['name'].apply(lambda name: name.replace('. ', ''))"
   ]
  },
  {
   "cell_type": "code",
   "execution_count": 129,
   "metadata": {},
   "outputs": [
    {
     "data": {
      "text/html": [
       "<div>\n",
       "<style scoped>\n",
       "    .dataframe tbody tr th:only-of-type {\n",
       "        vertical-align: middle;\n",
       "    }\n",
       "\n",
       "    .dataframe tbody tr th {\n",
       "        vertical-align: top;\n",
       "    }\n",
       "\n",
       "    .dataframe thead th {\n",
       "        text-align: right;\n",
       "    }\n",
       "</style>\n",
       "<table border=\"1\" class=\"dataframe\">\n",
       "  <thead>\n",
       "    <tr style=\"text-align: right;\">\n",
       "      <th></th>\n",
       "      <th>name</th>\n",
       "      <th>hp</th>\n",
       "      <th>hp+</th>\n",
       "      <th>hp5</th>\n",
       "      <th>hp5+</th>\n",
       "      <th>mp</th>\n",
       "      <th>mp+</th>\n",
       "      <th>mp5</th>\n",
       "      <th>mp5+</th>\n",
       "      <th>ad</th>\n",
       "      <th>ad+</th>\n",
       "      <th>as</th>\n",
       "      <th>as+</th>\n",
       "      <th>ar</th>\n",
       "      <th>ar+</th>\n",
       "      <th>mr</th>\n",
       "      <th>mr+</th>\n",
       "      <th>ms</th>\n",
       "      <th>rng</th>\n",
       "    </tr>\n",
       "  </thead>\n",
       "  <tbody>\n",
       "    <tr>\n",
       "      <td>0</td>\n",
       "      <td>Aatrox</td>\n",
       "      <td>580</td>\n",
       "      <td>+90</td>\n",
       "      <td>3</td>\n",
       "      <td>+1</td>\n",
       "      <td>0</td>\n",
       "      <td>+0</td>\n",
       "      <td>0</td>\n",
       "      <td>+0</td>\n",
       "      <td>60</td>\n",
       "      <td>+5</td>\n",
       "      <td>0.651</td>\n",
       "      <td>+2.5%</td>\n",
       "      <td>38</td>\n",
       "      <td>+3.25</td>\n",
       "      <td>32.1</td>\n",
       "      <td>+1.25</td>\n",
       "      <td>345</td>\n",
       "      <td>175</td>\n",
       "    </tr>\n",
       "    <tr>\n",
       "      <td>1</td>\n",
       "      <td>Ahri</td>\n",
       "      <td>526</td>\n",
       "      <td>+92</td>\n",
       "      <td>6.5</td>\n",
       "      <td>+0.6</td>\n",
       "      <td>418</td>\n",
       "      <td>+25</td>\n",
       "      <td>8</td>\n",
       "      <td>+0.8</td>\n",
       "      <td>53.04</td>\n",
       "      <td>+3</td>\n",
       "      <td>0.668</td>\n",
       "      <td>+2%</td>\n",
       "      <td>20.88</td>\n",
       "      <td>+3.5</td>\n",
       "      <td>30</td>\n",
       "      <td>+0.5</td>\n",
       "      <td>330</td>\n",
       "      <td>550</td>\n",
       "    </tr>\n",
       "    <tr>\n",
       "      <td>2</td>\n",
       "      <td>Akali</td>\n",
       "      <td>575</td>\n",
       "      <td>+95</td>\n",
       "      <td>8</td>\n",
       "      <td>+0.5</td>\n",
       "      <td>200</td>\n",
       "      <td>+0</td>\n",
       "      <td>50</td>\n",
       "      <td>+0</td>\n",
       "      <td>62.4</td>\n",
       "      <td>+3.3</td>\n",
       "      <td>0.625</td>\n",
       "      <td>+3.2%</td>\n",
       "      <td>23</td>\n",
       "      <td>+3.5</td>\n",
       "      <td>37</td>\n",
       "      <td>+1.25</td>\n",
       "      <td>345</td>\n",
       "      <td>125</td>\n",
       "    </tr>\n",
       "    <tr>\n",
       "      <td>3</td>\n",
       "      <td>Alistar</td>\n",
       "      <td>573.36</td>\n",
       "      <td>+106</td>\n",
       "      <td>8.5</td>\n",
       "      <td>+0.85</td>\n",
       "      <td>350</td>\n",
       "      <td>+40</td>\n",
       "      <td>8.5</td>\n",
       "      <td>+0.8</td>\n",
       "      <td>61.1116</td>\n",
       "      <td>+3.62</td>\n",
       "      <td>0.625</td>\n",
       "      <td>+2.125%</td>\n",
       "      <td>44</td>\n",
       "      <td>+3.5</td>\n",
       "      <td>32.1</td>\n",
       "      <td>+1.25</td>\n",
       "      <td>330</td>\n",
       "      <td>125</td>\n",
       "    </tr>\n",
       "    <tr>\n",
       "      <td>4</td>\n",
       "      <td>Amumu</td>\n",
       "      <td>613.12</td>\n",
       "      <td>+84</td>\n",
       "      <td>9</td>\n",
       "      <td>+0.85</td>\n",
       "      <td>287.2</td>\n",
       "      <td>+40</td>\n",
       "      <td>7.382</td>\n",
       "      <td>+0.525</td>\n",
       "      <td>53.38</td>\n",
       "      <td>+3.8</td>\n",
       "      <td>0.638</td>\n",
       "      <td>+2.18%</td>\n",
       "      <td>33</td>\n",
       "      <td>+3.8</td>\n",
       "      <td>32.1</td>\n",
       "      <td>+1.25</td>\n",
       "      <td>335</td>\n",
       "      <td>125</td>\n",
       "    </tr>\n",
       "  </tbody>\n",
       "</table>\n",
       "</div>"
      ],
      "text/plain": [
       "      name      hp   hp+  hp5   hp5+     mp  mp+    mp5    mp5+       ad  \\\n",
       "0   Aatrox     580   +90    3     +1      0   +0      0      +0       60   \n",
       "1     Ahri     526   +92  6.5   +0.6    418  +25      8    +0.8    53.04   \n",
       "2    Akali     575   +95    8   +0.5    200   +0     50      +0     62.4   \n",
       "3  Alistar  573.36  +106  8.5  +0.85    350  +40    8.5    +0.8  61.1116   \n",
       "4    Amumu  613.12   +84    9  +0.85  287.2  +40  7.382  +0.525    53.38   \n",
       "\n",
       "     ad+     as      as+     ar    ar+    mr    mr+   ms  rng  \n",
       "0     +5  0.651    +2.5%     38  +3.25  32.1  +1.25  345  175  \n",
       "1     +3  0.668      +2%  20.88   +3.5    30   +0.5  330  550  \n",
       "2   +3.3  0.625    +3.2%     23   +3.5    37  +1.25  345  125  \n",
       "3  +3.62  0.625  +2.125%     44   +3.5  32.1  +1.25  330  125  \n",
       "4   +3.8  0.638   +2.18%     33   +3.8  32.1  +1.25  335  125  "
      ]
     },
     "execution_count": 129,
     "metadata": {},
     "output_type": "execute_result"
    }
   ],
   "source": [
    "df_champions2.head()"
   ]
  },
  {
   "cell_type": "code",
   "execution_count": 130,
   "metadata": {},
   "outputs": [],
   "source": [
    "for column in df_champions2.columns[1:]:\n",
    "    df_champions2[column] = df_champions2[column].apply(lambda x: float(x.strip('+%')))"
   ]
  },
  {
   "cell_type": "code",
   "execution_count": 71,
   "metadata": {},
   "outputs": [
    {
     "data": {
      "text/html": [
       "<div>\n",
       "<style scoped>\n",
       "    .dataframe tbody tr th:only-of-type {\n",
       "        vertical-align: middle;\n",
       "    }\n",
       "\n",
       "    .dataframe tbody tr th {\n",
       "        vertical-align: top;\n",
       "    }\n",
       "\n",
       "    .dataframe thead th {\n",
       "        text-align: right;\n",
       "    }\n",
       "</style>\n",
       "<table border=\"1\" class=\"dataframe\">\n",
       "  <thead>\n",
       "    <tr style=\"text-align: right;\">\n",
       "      <th></th>\n",
       "      <th>name</th>\n",
       "      <th>hp</th>\n",
       "      <th>hp+</th>\n",
       "      <th>hp5</th>\n",
       "      <th>hp5+</th>\n",
       "      <th>mp</th>\n",
       "      <th>mp+</th>\n",
       "      <th>mp5</th>\n",
       "      <th>mp5+</th>\n",
       "      <th>ad</th>\n",
       "      <th>ad+</th>\n",
       "      <th>as</th>\n",
       "      <th>as+</th>\n",
       "      <th>ar</th>\n",
       "      <th>ar+</th>\n",
       "      <th>mr</th>\n",
       "      <th>mr+</th>\n",
       "      <th>ms</th>\n",
       "      <th>rng</th>\n",
       "    </tr>\n",
       "  </thead>\n",
       "  <tbody>\n",
       "    <tr>\n",
       "      <td>0</td>\n",
       "      <td>Aatrox</td>\n",
       "      <td>580.00</td>\n",
       "      <td>90.0</td>\n",
       "      <td>3.0</td>\n",
       "      <td>1.00</td>\n",
       "      <td>0.0</td>\n",
       "      <td>0.0</td>\n",
       "      <td>0.000</td>\n",
       "      <td>0.000</td>\n",
       "      <td>60.0000</td>\n",
       "      <td>5.00</td>\n",
       "      <td>0.651</td>\n",
       "      <td>2.500</td>\n",
       "      <td>38.00</td>\n",
       "      <td>3.25</td>\n",
       "      <td>32.1</td>\n",
       "      <td>1.25</td>\n",
       "      <td>345.0</td>\n",
       "      <td>175.0</td>\n",
       "    </tr>\n",
       "    <tr>\n",
       "      <td>1</td>\n",
       "      <td>Ahri</td>\n",
       "      <td>526.00</td>\n",
       "      <td>92.0</td>\n",
       "      <td>6.5</td>\n",
       "      <td>0.60</td>\n",
       "      <td>418.0</td>\n",
       "      <td>25.0</td>\n",
       "      <td>8.000</td>\n",
       "      <td>0.800</td>\n",
       "      <td>53.0400</td>\n",
       "      <td>3.00</td>\n",
       "      <td>0.668</td>\n",
       "      <td>2.000</td>\n",
       "      <td>20.88</td>\n",
       "      <td>3.50</td>\n",
       "      <td>30.0</td>\n",
       "      <td>0.50</td>\n",
       "      <td>330.0</td>\n",
       "      <td>550.0</td>\n",
       "    </tr>\n",
       "    <tr>\n",
       "      <td>2</td>\n",
       "      <td>Akali</td>\n",
       "      <td>575.00</td>\n",
       "      <td>95.0</td>\n",
       "      <td>8.0</td>\n",
       "      <td>0.50</td>\n",
       "      <td>200.0</td>\n",
       "      <td>0.0</td>\n",
       "      <td>50.000</td>\n",
       "      <td>0.000</td>\n",
       "      <td>62.4000</td>\n",
       "      <td>3.30</td>\n",
       "      <td>0.625</td>\n",
       "      <td>3.200</td>\n",
       "      <td>23.00</td>\n",
       "      <td>3.50</td>\n",
       "      <td>37.0</td>\n",
       "      <td>1.25</td>\n",
       "      <td>345.0</td>\n",
       "      <td>125.0</td>\n",
       "    </tr>\n",
       "    <tr>\n",
       "      <td>3</td>\n",
       "      <td>Alistar</td>\n",
       "      <td>573.36</td>\n",
       "      <td>106.0</td>\n",
       "      <td>8.5</td>\n",
       "      <td>0.85</td>\n",
       "      <td>350.0</td>\n",
       "      <td>40.0</td>\n",
       "      <td>8.500</td>\n",
       "      <td>0.800</td>\n",
       "      <td>61.1116</td>\n",
       "      <td>3.62</td>\n",
       "      <td>0.625</td>\n",
       "      <td>2.125</td>\n",
       "      <td>44.00</td>\n",
       "      <td>3.50</td>\n",
       "      <td>32.1</td>\n",
       "      <td>1.25</td>\n",
       "      <td>330.0</td>\n",
       "      <td>125.0</td>\n",
       "    </tr>\n",
       "    <tr>\n",
       "      <td>4</td>\n",
       "      <td>Amumu</td>\n",
       "      <td>613.12</td>\n",
       "      <td>84.0</td>\n",
       "      <td>9.0</td>\n",
       "      <td>0.85</td>\n",
       "      <td>287.2</td>\n",
       "      <td>40.0</td>\n",
       "      <td>7.382</td>\n",
       "      <td>0.525</td>\n",
       "      <td>53.3800</td>\n",
       "      <td>3.80</td>\n",
       "      <td>0.638</td>\n",
       "      <td>2.180</td>\n",
       "      <td>33.00</td>\n",
       "      <td>3.80</td>\n",
       "      <td>32.1</td>\n",
       "      <td>1.25</td>\n",
       "      <td>335.0</td>\n",
       "      <td>125.0</td>\n",
       "    </tr>\n",
       "  </tbody>\n",
       "</table>\n",
       "</div>"
      ],
      "text/plain": [
       "      name      hp    hp+  hp5  hp5+     mp   mp+     mp5   mp5+       ad  \\\n",
       "0   Aatrox  580.00   90.0  3.0  1.00    0.0   0.0   0.000  0.000  60.0000   \n",
       "1     Ahri  526.00   92.0  6.5  0.60  418.0  25.0   8.000  0.800  53.0400   \n",
       "2    Akali  575.00   95.0  8.0  0.50  200.0   0.0  50.000  0.000  62.4000   \n",
       "3  Alistar  573.36  106.0  8.5  0.85  350.0  40.0   8.500  0.800  61.1116   \n",
       "4    Amumu  613.12   84.0  9.0  0.85  287.2  40.0   7.382  0.525  53.3800   \n",
       "\n",
       "    ad+     as    as+     ar   ar+    mr   mr+     ms    rng  \n",
       "0  5.00  0.651  2.500  38.00  3.25  32.1  1.25  345.0  175.0  \n",
       "1  3.00  0.668  2.000  20.88  3.50  30.0  0.50  330.0  550.0  \n",
       "2  3.30  0.625  3.200  23.00  3.50  37.0  1.25  345.0  125.0  \n",
       "3  3.62  0.625  2.125  44.00  3.50  32.1  1.25  330.0  125.0  \n",
       "4  3.80  0.638  2.180  33.00  3.80  32.1  1.25  335.0  125.0  "
      ]
     },
     "execution_count": 71,
     "metadata": {},
     "output_type": "execute_result"
    }
   ],
   "source": [
    "df_champions2.head()"
   ]
  },
  {
   "cell_type": "code",
   "execution_count": 72,
   "metadata": {},
   "outputs": [
    {
     "data": {
      "text/html": [
       "<div>\n",
       "<style scoped>\n",
       "    .dataframe tbody tr th:only-of-type {\n",
       "        vertical-align: middle;\n",
       "    }\n",
       "\n",
       "    .dataframe tbody tr th {\n",
       "        vertical-align: top;\n",
       "    }\n",
       "\n",
       "    .dataframe thead th {\n",
       "        text-align: right;\n",
       "    }\n",
       "</style>\n",
       "<table border=\"1\" class=\"dataframe\">\n",
       "  <thead>\n",
       "    <tr style=\"text-align: right;\">\n",
       "      <th></th>\n",
       "      <th>hp</th>\n",
       "      <th>hp+</th>\n",
       "      <th>hp5</th>\n",
       "      <th>hp5+</th>\n",
       "      <th>mp</th>\n",
       "      <th>mp+</th>\n",
       "      <th>mp5</th>\n",
       "      <th>mp5+</th>\n",
       "      <th>ad</th>\n",
       "      <th>ad+</th>\n",
       "      <th>as</th>\n",
       "      <th>as+</th>\n",
       "      <th>ar</th>\n",
       "      <th>ar+</th>\n",
       "      <th>mr</th>\n",
       "      <th>mr+</th>\n",
       "      <th>ms</th>\n",
       "      <th>rng</th>\n",
       "    </tr>\n",
       "  </thead>\n",
       "  <tbody>\n",
       "    <tr>\n",
       "      <td>count</td>\n",
       "      <td>146.000000</td>\n",
       "      <td>146.000000</td>\n",
       "      <td>146.000000</td>\n",
       "      <td>146.000000</td>\n",
       "      <td>146.000000</td>\n",
       "      <td>146.000000</td>\n",
       "      <td>146.000000</td>\n",
       "      <td>146.000000</td>\n",
       "      <td>146.000000</td>\n",
       "      <td>146.000000</td>\n",
       "      <td>146.000000</td>\n",
       "      <td>146.000000</td>\n",
       "      <td>146.000000</td>\n",
       "      <td>146.000000</td>\n",
       "      <td>146.000000</td>\n",
       "      <td>146.000000</td>\n",
       "      <td>146.000000</td>\n",
       "      <td>146.000000</td>\n",
       "    </tr>\n",
       "    <tr>\n",
       "      <td>mean</td>\n",
       "      <td>556.350959</td>\n",
       "      <td>88.404110</td>\n",
       "      <td>6.621575</td>\n",
       "      <td>0.666096</td>\n",
       "      <td>308.427534</td>\n",
       "      <td>32.952055</td>\n",
       "      <td>8.439158</td>\n",
       "      <td>0.557021</td>\n",
       "      <td>59.351257</td>\n",
       "      <td>3.231758</td>\n",
       "      <td>0.636808</td>\n",
       "      <td>2.492993</td>\n",
       "      <td>30.073096</td>\n",
       "      <td>3.467808</td>\n",
       "      <td>31.166438</td>\n",
       "      <td>0.894178</td>\n",
       "      <td>336.356164</td>\n",
       "      <td>324.863014</td>\n",
       "    </tr>\n",
       "    <tr>\n",
       "      <td>std</td>\n",
       "      <td>35.380875</td>\n",
       "      <td>6.760513</td>\n",
       "      <td>1.762697</td>\n",
       "      <td>0.161665</td>\n",
       "      <td>116.991038</td>\n",
       "      <td>16.679776</td>\n",
       "      <td>8.357717</td>\n",
       "      <td>0.280759</td>\n",
       "      <td>6.204104</td>\n",
       "      <td>0.645140</td>\n",
       "      <td>0.044479</td>\n",
       "      <td>0.813023</td>\n",
       "      <td>6.737943</td>\n",
       "      <td>0.469657</td>\n",
       "      <td>1.659218</td>\n",
       "      <td>0.378678</td>\n",
       "      <td>7.568300</td>\n",
       "      <td>196.317780</td>\n",
       "    </tr>\n",
       "    <tr>\n",
       "      <td>min</td>\n",
       "      <td>400.000000</td>\n",
       "      <td>60.000000</td>\n",
       "      <td>2.500000</td>\n",
       "      <td>0.400000</td>\n",
       "      <td>0.000000</td>\n",
       "      <td>0.000000</td>\n",
       "      <td>0.000000</td>\n",
       "      <td>0.000000</td>\n",
       "      <td>40.368000</td>\n",
       "      <td>0.000000</td>\n",
       "      <td>0.200000</td>\n",
       "      <td>1.000000</td>\n",
       "      <td>17.040000</td>\n",
       "      <td>0.000000</td>\n",
       "      <td>25.000000</td>\n",
       "      <td>0.300000</td>\n",
       "      <td>315.000000</td>\n",
       "      <td>125.000000</td>\n",
       "    </tr>\n",
       "    <tr>\n",
       "      <td>25%</td>\n",
       "      <td>533.100000</td>\n",
       "      <td>85.000000</td>\n",
       "      <td>5.500000</td>\n",
       "      <td>0.550000</td>\n",
       "      <td>277.900000</td>\n",
       "      <td>25.000000</td>\n",
       "      <td>6.972000</td>\n",
       "      <td>0.412500</td>\n",
       "      <td>54.953425</td>\n",
       "      <td>3.000000</td>\n",
       "      <td>0.625000</td>\n",
       "      <td>2.000000</td>\n",
       "      <td>24.403000</td>\n",
       "      <td>3.262500</td>\n",
       "      <td>30.000000</td>\n",
       "      <td>0.500000</td>\n",
       "      <td>330.000000</td>\n",
       "      <td>125.000000</td>\n",
       "    </tr>\n",
       "    <tr>\n",
       "      <td>50%</td>\n",
       "      <td>563.240000</td>\n",
       "      <td>89.000000</td>\n",
       "      <td>7.000000</td>\n",
       "      <td>0.600000</td>\n",
       "      <td>325.000000</td>\n",
       "      <td>38.000000</td>\n",
       "      <td>7.720000</td>\n",
       "      <td>0.625000</td>\n",
       "      <td>60.000000</td>\n",
       "      <td>3.170800</td>\n",
       "      <td>0.636500</td>\n",
       "      <td>2.500000</td>\n",
       "      <td>30.000000</td>\n",
       "      <td>3.500000</td>\n",
       "      <td>32.000000</td>\n",
       "      <td>1.250000</td>\n",
       "      <td>335.000000</td>\n",
       "      <td>175.000000</td>\n",
       "    </tr>\n",
       "    <tr>\n",
       "      <td>75%</td>\n",
       "      <td>582.180000</td>\n",
       "      <td>92.000000</td>\n",
       "      <td>8.000000</td>\n",
       "      <td>0.750000</td>\n",
       "      <td>374.750000</td>\n",
       "      <td>43.750000</td>\n",
       "      <td>8.034000</td>\n",
       "      <td>0.800000</td>\n",
       "      <td>64.000000</td>\n",
       "      <td>3.500000</td>\n",
       "      <td>0.658000</td>\n",
       "      <td>3.000000</td>\n",
       "      <td>35.000000</td>\n",
       "      <td>3.750000</td>\n",
       "      <td>32.100000</td>\n",
       "      <td>1.250000</td>\n",
       "      <td>340.000000</td>\n",
       "      <td>525.000000</td>\n",
       "    </tr>\n",
       "    <tr>\n",
       "      <td>max</td>\n",
       "      <td>625.640000</td>\n",
       "      <td>112.000000</td>\n",
       "      <td>10.000000</td>\n",
       "      <td>1.750000</td>\n",
       "      <td>500.000000</td>\n",
       "      <td>67.000000</td>\n",
       "      <td>50.000000</td>\n",
       "      <td>1.000000</td>\n",
       "      <td>70.000000</td>\n",
       "      <td>5.000000</td>\n",
       "      <td>0.695000</td>\n",
       "      <td>6.000000</td>\n",
       "      <td>47.000000</td>\n",
       "      <td>5.000000</td>\n",
       "      <td>39.000000</td>\n",
       "      <td>1.500000</td>\n",
       "      <td>355.000000</td>\n",
       "      <td>650.000000</td>\n",
       "    </tr>\n",
       "  </tbody>\n",
       "</table>\n",
       "</div>"
      ],
      "text/plain": [
       "               hp         hp+         hp5        hp5+          mp         mp+  \\\n",
       "count  146.000000  146.000000  146.000000  146.000000  146.000000  146.000000   \n",
       "mean   556.350959   88.404110    6.621575    0.666096  308.427534   32.952055   \n",
       "std     35.380875    6.760513    1.762697    0.161665  116.991038   16.679776   \n",
       "min    400.000000   60.000000    2.500000    0.400000    0.000000    0.000000   \n",
       "25%    533.100000   85.000000    5.500000    0.550000  277.900000   25.000000   \n",
       "50%    563.240000   89.000000    7.000000    0.600000  325.000000   38.000000   \n",
       "75%    582.180000   92.000000    8.000000    0.750000  374.750000   43.750000   \n",
       "max    625.640000  112.000000   10.000000    1.750000  500.000000   67.000000   \n",
       "\n",
       "              mp5        mp5+          ad         ad+          as         as+  \\\n",
       "count  146.000000  146.000000  146.000000  146.000000  146.000000  146.000000   \n",
       "mean     8.439158    0.557021   59.351257    3.231758    0.636808    2.492993   \n",
       "std      8.357717    0.280759    6.204104    0.645140    0.044479    0.813023   \n",
       "min      0.000000    0.000000   40.368000    0.000000    0.200000    1.000000   \n",
       "25%      6.972000    0.412500   54.953425    3.000000    0.625000    2.000000   \n",
       "50%      7.720000    0.625000   60.000000    3.170800    0.636500    2.500000   \n",
       "75%      8.034000    0.800000   64.000000    3.500000    0.658000    3.000000   \n",
       "max     50.000000    1.000000   70.000000    5.000000    0.695000    6.000000   \n",
       "\n",
       "               ar         ar+          mr         mr+          ms         rng  \n",
       "count  146.000000  146.000000  146.000000  146.000000  146.000000  146.000000  \n",
       "mean    30.073096    3.467808   31.166438    0.894178  336.356164  324.863014  \n",
       "std      6.737943    0.469657    1.659218    0.378678    7.568300  196.317780  \n",
       "min     17.040000    0.000000   25.000000    0.300000  315.000000  125.000000  \n",
       "25%     24.403000    3.262500   30.000000    0.500000  330.000000  125.000000  \n",
       "50%     30.000000    3.500000   32.000000    1.250000  335.000000  175.000000  \n",
       "75%     35.000000    3.750000   32.100000    1.250000  340.000000  525.000000  \n",
       "max     47.000000    5.000000   39.000000    1.500000  355.000000  650.000000  "
      ]
     },
     "execution_count": 72,
     "metadata": {},
     "output_type": "execute_result"
    }
   ],
   "source": [
    "df_champions2.describe()"
   ]
  },
  {
   "cell_type": "markdown",
   "metadata": {},
   "source": [
    "## Clusterização"
   ]
  },
  {
   "cell_type": "markdown",
   "metadata": {},
   "source": [
    "Redefinindo cada personagem por um cluster ao invés das classes."
   ]
  },
  {
   "cell_type": "code",
   "execution_count": 73,
   "metadata": {},
   "outputs": [],
   "source": [
    "from sklearn.preprocessing import StandardScaler\n",
    "from sklearn.cluster import KMeans"
   ]
  },
  {
   "cell_type": "markdown",
   "metadata": {},
   "source": [
    "É importante clusterizar apenas personagens que já existiam na época em que os dados foram colhidos."
   ]
  },
  {
   "cell_type": "code",
   "execution_count": 74,
   "metadata": {},
   "outputs": [],
   "source": [
    "df_champions2_usable = df_champions2.loc[df_champions2['name'].isin(names)]"
   ]
  },
  {
   "cell_type": "code",
   "execution_count": 75,
   "metadata": {},
   "outputs": [],
   "source": [
    "scaler = StandardScaler()\n",
    "scaler.fit(df_champions2_usable[df_champions2.columns[1:]])\n",
    "df_champions2_scaled = pd.DataFrame(scaler.transform(df_champions2_usable[df_champions2.columns[1:]]),\n",
    "                                    columns=df_champions2.columns[1:])"
   ]
  },
  {
   "cell_type": "code",
   "execution_count": 76,
   "metadata": {},
   "outputs": [
    {
     "data": {
      "text/html": [
       "<div>\n",
       "<style scoped>\n",
       "    .dataframe tbody tr th:only-of-type {\n",
       "        vertical-align: middle;\n",
       "    }\n",
       "\n",
       "    .dataframe tbody tr th {\n",
       "        vertical-align: top;\n",
       "    }\n",
       "\n",
       "    .dataframe thead th {\n",
       "        text-align: right;\n",
       "    }\n",
       "</style>\n",
       "<table border=\"1\" class=\"dataframe\">\n",
       "  <thead>\n",
       "    <tr style=\"text-align: right;\">\n",
       "      <th></th>\n",
       "      <th>hp</th>\n",
       "      <th>hp+</th>\n",
       "      <th>hp5</th>\n",
       "      <th>hp5+</th>\n",
       "      <th>mp</th>\n",
       "      <th>mp+</th>\n",
       "      <th>mp5</th>\n",
       "      <th>mp5+</th>\n",
       "      <th>ad</th>\n",
       "      <th>ad+</th>\n",
       "      <th>as</th>\n",
       "      <th>as+</th>\n",
       "      <th>ar</th>\n",
       "      <th>ar+</th>\n",
       "      <th>mr</th>\n",
       "      <th>mr+</th>\n",
       "      <th>ms</th>\n",
       "      <th>rng</th>\n",
       "    </tr>\n",
       "  </thead>\n",
       "  <tbody>\n",
       "    <tr>\n",
       "      <td>0</td>\n",
       "      <td>0.672789</td>\n",
       "      <td>0.227994</td>\n",
       "      <td>-2.075962</td>\n",
       "      <td>2.039386</td>\n",
       "      <td>-2.579483</td>\n",
       "      <td>-1.929091</td>\n",
       "      <td>-0.985719</td>\n",
       "      <td>-1.951006</td>\n",
       "      <td>0.083776</td>\n",
       "      <td>3.004324</td>\n",
       "      <td>0.424107</td>\n",
       "      <td>0.012809</td>\n",
       "      <td>1.173705</td>\n",
       "      <td>-0.465661</td>\n",
       "      <td>0.634809</td>\n",
       "      <td>0.937545</td>\n",
       "      <td>1.115239</td>\n",
       "      <td>-0.745700</td>\n",
       "    </tr>\n",
       "    <tr>\n",
       "      <td>1</td>\n",
       "      <td>-0.865718</td>\n",
       "      <td>0.526223</td>\n",
       "      <td>-0.071585</td>\n",
       "      <td>-0.418564</td>\n",
       "      <td>0.959416</td>\n",
       "      <td>-0.442855</td>\n",
       "      <td>-0.051145</td>\n",
       "      <td>0.874721</td>\n",
       "      <td>-1.038209</td>\n",
       "      <td>-0.496400</td>\n",
       "      <td>1.078684</td>\n",
       "      <td>-0.608272</td>\n",
       "      <td>-1.391161</td>\n",
       "      <td>0.082643</td>\n",
       "      <td>-0.806944</td>\n",
       "      <td>-1.073562</td>\n",
       "      <td>-0.837845</td>\n",
       "      <td>1.176111</td>\n",
       "    </tr>\n",
       "    <tr>\n",
       "      <td>2</td>\n",
       "      <td>0.530335</td>\n",
       "      <td>0.973567</td>\n",
       "      <td>0.787434</td>\n",
       "      <td>-1.033051</td>\n",
       "      <td>-0.886230</td>\n",
       "      <td>-1.929091</td>\n",
       "      <td>4.855368</td>\n",
       "      <td>-1.951006</td>\n",
       "      <td>0.470667</td>\n",
       "      <td>0.028708</td>\n",
       "      <td>-0.577009</td>\n",
       "      <td>0.882321</td>\n",
       "      <td>-1.073549</td>\n",
       "      <td>0.082643</td>\n",
       "      <td>3.998900</td>\n",
       "      <td>0.937545</td>\n",
       "      <td>1.115239</td>\n",
       "      <td>-1.001941</td>\n",
       "    </tr>\n",
       "    <tr>\n",
       "      <td>3</td>\n",
       "      <td>0.483610</td>\n",
       "      <td>2.613828</td>\n",
       "      <td>1.073773</td>\n",
       "      <td>1.117655</td>\n",
       "      <td>0.383710</td>\n",
       "      <td>0.448886</td>\n",
       "      <td>0.007266</td>\n",
       "      <td>0.874721</td>\n",
       "      <td>0.262971</td>\n",
       "      <td>0.588824</td>\n",
       "      <td>-0.577009</td>\n",
       "      <td>-0.453001</td>\n",
       "      <td>2.072607</td>\n",
       "      <td>0.082643</td>\n",
       "      <td>0.634809</td>\n",
       "      <td>0.937545</td>\n",
       "      <td>-0.837845</td>\n",
       "      <td>-1.001941</td>\n",
       "    </tr>\n",
       "    <tr>\n",
       "      <td>4</td>\n",
       "      <td>1.616407</td>\n",
       "      <td>-0.666694</td>\n",
       "      <td>1.360113</td>\n",
       "      <td>1.117655</td>\n",
       "      <td>-0.147972</td>\n",
       "      <td>0.448886</td>\n",
       "      <td>-0.123341</td>\n",
       "      <td>-0.096622</td>\n",
       "      <td>-0.983399</td>\n",
       "      <td>0.903889</td>\n",
       "      <td>-0.076451</td>\n",
       "      <td>-0.384683</td>\n",
       "      <td>0.424620</td>\n",
       "      <td>0.740608</td>\n",
       "      <td>0.634809</td>\n",
       "      <td>0.937545</td>\n",
       "      <td>-0.186817</td>\n",
       "      <td>-1.001941</td>\n",
       "    </tr>\n",
       "  </tbody>\n",
       "</table>\n",
       "</div>"
      ],
      "text/plain": [
       "         hp       hp+       hp5      hp5+        mp       mp+       mp5  \\\n",
       "0  0.672789  0.227994 -2.075962  2.039386 -2.579483 -1.929091 -0.985719   \n",
       "1 -0.865718  0.526223 -0.071585 -0.418564  0.959416 -0.442855 -0.051145   \n",
       "2  0.530335  0.973567  0.787434 -1.033051 -0.886230 -1.929091  4.855368   \n",
       "3  0.483610  2.613828  1.073773  1.117655  0.383710  0.448886  0.007266   \n",
       "4  1.616407 -0.666694  1.360113  1.117655 -0.147972  0.448886 -0.123341   \n",
       "\n",
       "       mp5+        ad       ad+        as       as+        ar       ar+  \\\n",
       "0 -1.951006  0.083776  3.004324  0.424107  0.012809  1.173705 -0.465661   \n",
       "1  0.874721 -1.038209 -0.496400  1.078684 -0.608272 -1.391161  0.082643   \n",
       "2 -1.951006  0.470667  0.028708 -0.577009  0.882321 -1.073549  0.082643   \n",
       "3  0.874721  0.262971  0.588824 -0.577009 -0.453001  2.072607  0.082643   \n",
       "4 -0.096622 -0.983399  0.903889 -0.076451 -0.384683  0.424620  0.740608   \n",
       "\n",
       "         mr       mr+        ms       rng  \n",
       "0  0.634809  0.937545  1.115239 -0.745700  \n",
       "1 -0.806944 -1.073562 -0.837845  1.176111  \n",
       "2  3.998900  0.937545  1.115239 -1.001941  \n",
       "3  0.634809  0.937545 -0.837845 -1.001941  \n",
       "4  0.634809  0.937545 -0.186817 -1.001941  "
      ]
     },
     "execution_count": 76,
     "metadata": {},
     "output_type": "execute_result"
    }
   ],
   "source": [
    "df_champions2_scaled.head()"
   ]
  },
  {
   "cell_type": "code",
   "execution_count": 79,
   "metadata": {},
   "outputs": [
    {
     "data": {
      "text/plain": [
       "KMeans(algorithm='auto', copy_x=True, init='k-means++', max_iter=300,\n",
       "       n_clusters=7, n_init=10, n_jobs=None, precompute_distances='auto',\n",
       "       random_state=19, tol=0.0001, verbose=0)"
      ]
     },
     "execution_count": 79,
     "metadata": {},
     "output_type": "execute_result"
    }
   ],
   "source": [
    "champions_cluster = KMeans(7, random_state=19)\n",
    "champions_cluster.fit(df_champions2_scaled)"
   ]
  },
  {
   "cell_type": "code",
   "execution_count": 80,
   "metadata": {},
   "outputs": [
    {
     "name": "stderr",
     "output_type": "stream",
     "text": [
      "/usr/local/Cellar/ipython/7.7.0/libexec/vendor/lib/python3.7/site-packages/ipykernel_launcher.py:1: SettingWithCopyWarning: \n",
      "A value is trying to be set on a copy of a slice from a DataFrame.\n",
      "Try using .loc[row_indexer,col_indexer] = value instead\n",
      "\n",
      "See the caveats in the documentation: http://pandas.pydata.org/pandas-docs/stable/user_guide/indexing.html#returning-a-view-versus-a-copy\n",
      "  \"\"\"Entry point for launching an IPython kernel.\n"
     ]
    },
    {
     "data": {
      "text/html": [
       "<div>\n",
       "<style scoped>\n",
       "    .dataframe tbody tr th:only-of-type {\n",
       "        vertical-align: middle;\n",
       "    }\n",
       "\n",
       "    .dataframe tbody tr th {\n",
       "        vertical-align: top;\n",
       "    }\n",
       "\n",
       "    .dataframe thead th {\n",
       "        text-align: right;\n",
       "    }\n",
       "</style>\n",
       "<table border=\"1\" class=\"dataframe\">\n",
       "  <thead>\n",
       "    <tr style=\"text-align: right;\">\n",
       "      <th></th>\n",
       "      <th>name</th>\n",
       "      <th>hp</th>\n",
       "      <th>hp+</th>\n",
       "      <th>hp5</th>\n",
       "      <th>hp5+</th>\n",
       "      <th>mp</th>\n",
       "      <th>mp+</th>\n",
       "      <th>mp5</th>\n",
       "      <th>mp5+</th>\n",
       "      <th>ad</th>\n",
       "      <th>ad+</th>\n",
       "      <th>as</th>\n",
       "      <th>as+</th>\n",
       "      <th>ar</th>\n",
       "      <th>ar+</th>\n",
       "      <th>mr</th>\n",
       "      <th>mr+</th>\n",
       "      <th>ms</th>\n",
       "      <th>rng</th>\n",
       "      <th>cluster</th>\n",
       "    </tr>\n",
       "  </thead>\n",
       "  <tbody>\n",
       "    <tr>\n",
       "      <td>0</td>\n",
       "      <td>Aatrox</td>\n",
       "      <td>580.00</td>\n",
       "      <td>90.0</td>\n",
       "      <td>3.0</td>\n",
       "      <td>1.00</td>\n",
       "      <td>0.0</td>\n",
       "      <td>0.0</td>\n",
       "      <td>0.000</td>\n",
       "      <td>0.000</td>\n",
       "      <td>60.0000</td>\n",
       "      <td>5.00</td>\n",
       "      <td>0.651</td>\n",
       "      <td>2.500</td>\n",
       "      <td>38.00</td>\n",
       "      <td>3.25</td>\n",
       "      <td>32.1</td>\n",
       "      <td>1.25</td>\n",
       "      <td>345.0</td>\n",
       "      <td>175.0</td>\n",
       "      <td>2</td>\n",
       "    </tr>\n",
       "    <tr>\n",
       "      <td>1</td>\n",
       "      <td>Ahri</td>\n",
       "      <td>526.00</td>\n",
       "      <td>92.0</td>\n",
       "      <td>6.5</td>\n",
       "      <td>0.60</td>\n",
       "      <td>418.0</td>\n",
       "      <td>25.0</td>\n",
       "      <td>8.000</td>\n",
       "      <td>0.800</td>\n",
       "      <td>53.0400</td>\n",
       "      <td>3.00</td>\n",
       "      <td>0.668</td>\n",
       "      <td>2.000</td>\n",
       "      <td>20.88</td>\n",
       "      <td>3.50</td>\n",
       "      <td>30.0</td>\n",
       "      <td>0.50</td>\n",
       "      <td>330.0</td>\n",
       "      <td>550.0</td>\n",
       "      <td>4</td>\n",
       "    </tr>\n",
       "    <tr>\n",
       "      <td>2</td>\n",
       "      <td>Akali</td>\n",
       "      <td>575.00</td>\n",
       "      <td>95.0</td>\n",
       "      <td>8.0</td>\n",
       "      <td>0.50</td>\n",
       "      <td>200.0</td>\n",
       "      <td>0.0</td>\n",
       "      <td>50.000</td>\n",
       "      <td>0.000</td>\n",
       "      <td>62.4000</td>\n",
       "      <td>3.30</td>\n",
       "      <td>0.625</td>\n",
       "      <td>3.200</td>\n",
       "      <td>23.00</td>\n",
       "      <td>3.50</td>\n",
       "      <td>37.0</td>\n",
       "      <td>1.25</td>\n",
       "      <td>345.0</td>\n",
       "      <td>125.0</td>\n",
       "      <td>5</td>\n",
       "    </tr>\n",
       "    <tr>\n",
       "      <td>3</td>\n",
       "      <td>Alistar</td>\n",
       "      <td>573.36</td>\n",
       "      <td>106.0</td>\n",
       "      <td>8.5</td>\n",
       "      <td>0.85</td>\n",
       "      <td>350.0</td>\n",
       "      <td>40.0</td>\n",
       "      <td>8.500</td>\n",
       "      <td>0.800</td>\n",
       "      <td>61.1116</td>\n",
       "      <td>3.62</td>\n",
       "      <td>0.625</td>\n",
       "      <td>2.125</td>\n",
       "      <td>44.00</td>\n",
       "      <td>3.50</td>\n",
       "      <td>32.1</td>\n",
       "      <td>1.25</td>\n",
       "      <td>330.0</td>\n",
       "      <td>125.0</td>\n",
       "      <td>0</td>\n",
       "    </tr>\n",
       "    <tr>\n",
       "      <td>4</td>\n",
       "      <td>Amumu</td>\n",
       "      <td>613.12</td>\n",
       "      <td>84.0</td>\n",
       "      <td>9.0</td>\n",
       "      <td>0.85</td>\n",
       "      <td>287.2</td>\n",
       "      <td>40.0</td>\n",
       "      <td>7.382</td>\n",
       "      <td>0.525</td>\n",
       "      <td>53.3800</td>\n",
       "      <td>3.80</td>\n",
       "      <td>0.638</td>\n",
       "      <td>2.180</td>\n",
       "      <td>33.00</td>\n",
       "      <td>3.80</td>\n",
       "      <td>32.1</td>\n",
       "      <td>1.25</td>\n",
       "      <td>335.0</td>\n",
       "      <td>125.0</td>\n",
       "      <td>3</td>\n",
       "    </tr>\n",
       "  </tbody>\n",
       "</table>\n",
       "</div>"
      ],
      "text/plain": [
       "      name      hp    hp+  hp5  hp5+     mp   mp+     mp5   mp5+       ad  \\\n",
       "0   Aatrox  580.00   90.0  3.0  1.00    0.0   0.0   0.000  0.000  60.0000   \n",
       "1     Ahri  526.00   92.0  6.5  0.60  418.0  25.0   8.000  0.800  53.0400   \n",
       "2    Akali  575.00   95.0  8.0  0.50  200.0   0.0  50.000  0.000  62.4000   \n",
       "3  Alistar  573.36  106.0  8.5  0.85  350.0  40.0   8.500  0.800  61.1116   \n",
       "4    Amumu  613.12   84.0  9.0  0.85  287.2  40.0   7.382  0.525  53.3800   \n",
       "\n",
       "    ad+     as    as+     ar   ar+    mr   mr+     ms    rng  cluster  \n",
       "0  5.00  0.651  2.500  38.00  3.25  32.1  1.25  345.0  175.0        2  \n",
       "1  3.00  0.668  2.000  20.88  3.50  30.0  0.50  330.0  550.0        4  \n",
       "2  3.30  0.625  3.200  23.00  3.50  37.0  1.25  345.0  125.0        5  \n",
       "3  3.62  0.625  2.125  44.00  3.50  32.1  1.25  330.0  125.0        0  \n",
       "4  3.80  0.638  2.180  33.00  3.80  32.1  1.25  335.0  125.0        3  "
      ]
     },
     "execution_count": 80,
     "metadata": {},
     "output_type": "execute_result"
    }
   ],
   "source": [
    "df_champions2_usable['cluster'] = champions_cluster.labels_\n",
    "df_champions2_usable.head()"
   ]
  },
  {
   "cell_type": "code",
   "execution_count": 81,
   "metadata": {},
   "outputs": [
    {
     "data": {
      "image/png": "[encoded data removed]",
      "text/plain": [
       "<Figure size 432x288 with 1 Axes>"
      ]
     },
     "metadata": {},
     "output_type": "display_data"
    }
   ],
   "source": [
    "sns.countplot(df_champions2_usable['cluster']);"
   ]
  },
  {
   "cell_type": "markdown",
   "metadata": {},
   "source": [
    "Verificando quais campeões estão em cada cluster."
   ]
  },
  {
   "cell_type": "code",
   "execution_count": 82,
   "metadata": {},
   "outputs": [
    {
     "data": {
      "text/plain": [
       "array(['Alistar', 'Blitzcrank', 'Darius', 'Galio', 'Illaoi', 'Irelia',\n",
       "       'Ornn', 'Sejuani', 'Skarner', 'Udyr', 'Urgot', 'Yorick'],\n",
       "      dtype=object)"
      ]
     },
     "execution_count": 82,
     "metadata": {},
     "output_type": "execute_result"
    }
   ],
   "source": [
    "df_champions2_usable[df_champions2_usable['cluster'] == 0]['name'].unique()"
   ]
  },
  {
   "cell_type": "code",
   "execution_count": 83,
   "metadata": {},
   "outputs": [
    {
     "data": {
      "text/plain": [
       "array(['Ashe', 'Bard', 'Corki', 'Draven', 'Elise', 'Ezreal', 'Janna',\n",
       "       'Jayce', 'Jhin', 'Jinx', 'Kalista', 'Karma', 'Kassadin', 'Kayle',\n",
       "       'Kindred', 'KogMaw', 'Lucian', 'Lulu', 'Miss Fortune', 'Morgana',\n",
       "       'Nami', 'Nidalee', 'Quinn', 'Sivir', 'Sona', 'Soraka', 'Teemo',\n",
       "       'Tristana', 'Twitch', 'Varus', 'Vayne', 'Xayah'], dtype=object)"
      ]
     },
     "execution_count": 83,
     "metadata": {},
     "output_type": "execute_result"
    }
   ],
   "source": [
    "df_champions2_usable[df_champions2_usable['cluster'] == 1]['name'].unique()"
   ]
  },
  {
   "cell_type": "code",
   "execution_count": 84,
   "metadata": {},
   "outputs": [
    {
     "data": {
      "text/plain": [
       "array(['Aatrox', 'DrMundo', 'Garen', 'Katarina', 'Kled', 'Mordekaiser',\n",
       "       'RekSai', 'Renekton', 'Rengar', 'Riven', 'Rumble', 'Shyvana',\n",
       "       'Tryndamere', 'Vladimir', 'Yasuo', 'Zac'], dtype=object)"
      ]
     },
     "execution_count": 84,
     "metadata": {},
     "output_type": "execute_result"
    }
   ],
   "source": [
    "df_champions2_usable[df_champions2_usable['cluster'] == 2]['name'].unique()"
   ]
  },
  {
   "cell_type": "code",
   "execution_count": 85,
   "metadata": {},
   "outputs": [
    {
     "data": {
      "text/plain": [
       "array(['Amumu', 'Braum', 'Camille', 'ChoGath', 'Diana', 'Ekko', 'Evelynn',\n",
       "       'Fiora', 'Fizz', 'Gangplank', 'Gragas', 'Hecarim', 'Ivern',\n",
       "       'Jarvan IV', 'Jax', 'Kayn', 'KhaZix', 'Leona', 'Malphite',\n",
       "       'Maokai', 'Master Yi', 'Nasus', 'Nautilus', 'Nocturne', 'Nunu',\n",
       "       'Olaf', 'Pantheon', 'Poppy', 'Rakan', 'Rammus', 'Shaco', 'Singed',\n",
       "       'Sion', 'Tahm Kench', 'Talon', 'Taric', 'Trundle', 'Vi',\n",
       "       'Volibear', 'Warwick', 'Wukong', 'Xin Zhao'], dtype=object)"
      ]
     },
     "execution_count": 85,
     "metadata": {},
     "output_type": "execute_result"
    }
   ],
   "source": [
    "df_champions2_usable[df_champions2_usable['cluster'] == 3]['name'].unique()"
   ]
  },
  {
   "cell_type": "code",
   "execution_count": 86,
   "metadata": {},
   "outputs": [
    {
     "data": {
      "text/plain": [
       "array(['Ahri', 'Anivia', 'Annie', 'Aurelion Sol', 'Azir', 'Brand',\n",
       "       'Cassiopeia', 'Fiddlesticks', 'Heimerdinger', 'Karthus', 'LeBlanc',\n",
       "       'Lissandra', 'Lux', 'Malzahar', 'Orianna', 'Ryze', 'Swain',\n",
       "       'Syndra', 'Taliyah', 'Twisted Fate', 'Veigar', 'VelKoz', 'Viktor',\n",
       "       'Xerath', 'Ziggs', 'Zilean', 'Zyra'], dtype=object)"
      ]
     },
     "execution_count": 86,
     "metadata": {},
     "output_type": "execute_result"
    }
   ],
   "source": [
    "df_champions2_usable[df_champions2_usable['cluster'] == 4]['name'].unique()"
   ]
  },
  {
   "cell_type": "code",
   "execution_count": 87,
   "metadata": {},
   "outputs": [
    {
     "data": {
      "text/plain": [
       "array(['Akali', 'Kennen', 'Lee Sin', 'Shen', 'Zed'], dtype=object)"
      ]
     },
     "execution_count": 87,
     "metadata": {},
     "output_type": "execute_result"
    }
   ],
   "source": [
    "df_champions2_usable[df_champions2_usable['cluster'] == 5]['name'].unique()"
   ]
  },
  {
   "cell_type": "code",
   "execution_count": 88,
   "metadata": {},
   "outputs": [
    {
     "data": {
      "text/plain": [
       "array(['Caitlyn', 'Gnar', 'Graves', 'Thresh'], dtype=object)"
      ]
     },
     "execution_count": 88,
     "metadata": {},
     "output_type": "execute_result"
    }
   ],
   "source": [
    "df_champions2_usable[df_champions2_usable['cluster'] == 6]['name'].unique()"
   ]
  },
  {
   "cell_type": "code",
   "execution_count": 89,
   "metadata": {},
   "outputs": [],
   "source": [
    "df_champions2_usable.to_csv('data/champscluster.csv', index=False)"
   ]
  },
  {
   "cell_type": "code",
   "execution_count": 90,
   "metadata": {},
   "outputs": [
    {
     "data": {
      "image/png": "[encoded data removed]",
      "text/plain": [
       "<Figure size 1440x1800 with 20 Axes>"
      ]
     },
     "metadata": {},
     "output_type": "display_data"
    }
   ],
   "source": [
    "fig, ax = plt.subplots(5, 4, figsize=(20, 25))\n",
    "k = 0\n",
    "j = 0\n",
    "\n",
    "for item in df_champions2_usable.columns[1:-1]:\n",
    "    sns.scatterplot(df_champions2_usable['cluster'], df_champions2_usable[item],\n",
    "                    df_champions2_usable['cluster'], palette='rainbow', legend=False, ax=ax[k][j]);\n",
    "    j += 1\n",
    "    if j == 4:\n",
    "        k += 1\n",
    "        j = 0"
   ]
  },
  {
   "cell_type": "code",
   "execution_count": 91,
   "metadata": {},
   "outputs": [],
   "source": [
    "from sklearn.decomposition import PCA"
   ]
  },
  {
   "cell_type": "code",
   "execution_count": 92,
   "metadata": {},
   "outputs": [],
   "source": [
    "pca = PCA(2).fit_transform(df_champions2_scaled)"
   ]
  },
  {
   "cell_type": "code",
   "execution_count": 93,
   "metadata": {},
   "outputs": [
    {
     "data": {
      "text/html": [
       "<div>\n",
       "<style scoped>\n",
       "    .dataframe tbody tr th:only-of-type {\n",
       "        vertical-align: middle;\n",
       "    }\n",
       "\n",
       "    .dataframe tbody tr th {\n",
       "        vertical-align: top;\n",
       "    }\n",
       "\n",
       "    .dataframe thead th {\n",
       "        text-align: right;\n",
       "    }\n",
       "</style>\n",
       "<table border=\"1\" class=\"dataframe\">\n",
       "  <thead>\n",
       "    <tr style=\"text-align: right;\">\n",
       "      <th></th>\n",
       "      <th>0</th>\n",
       "      <th>1</th>\n",
       "    </tr>\n",
       "  </thead>\n",
       "  <tbody>\n",
       "    <tr>\n",
       "      <td>0</td>\n",
       "      <td>-3.474382</td>\n",
       "      <td>2.613711</td>\n",
       "    </tr>\n",
       "    <tr>\n",
       "      <td>1</td>\n",
       "      <td>2.772543</td>\n",
       "      <td>-0.252142</td>\n",
       "    </tr>\n",
       "    <tr>\n",
       "      <td>2</td>\n",
       "      <td>-3.042331</td>\n",
       "      <td>1.561457</td>\n",
       "    </tr>\n",
       "    <tr>\n",
       "      <td>3</td>\n",
       "      <td>-2.023635</td>\n",
       "      <td>-2.611973</td>\n",
       "    </tr>\n",
       "    <tr>\n",
       "      <td>4</td>\n",
       "      <td>-1.852340</td>\n",
       "      <td>-1.090224</td>\n",
       "    </tr>\n",
       "  </tbody>\n",
       "</table>\n",
       "</div>"
      ],
      "text/plain": [
       "          0         1\n",
       "0 -3.474382  2.613711\n",
       "1  2.772543 -0.252142\n",
       "2 -3.042331  1.561457\n",
       "3 -2.023635 -2.611973\n",
       "4 -1.852340 -1.090224"
      ]
     },
     "execution_count": 93,
     "metadata": {},
     "output_type": "execute_result"
    }
   ],
   "source": [
    "df = pd.DataFrame(pca)\n",
    "df.head()"
   ]
  },
  {
   "cell_type": "code",
   "execution_count": 94,
   "metadata": {},
   "outputs": [],
   "source": [
    "df['cluster'] = df_champions2_usable['cluster']"
   ]
  },
  {
   "cell_type": "code",
   "execution_count": 95,
   "metadata": {},
   "outputs": [
    {
     "data": {
      "image/png": "[encoded data removed]",
      "text/plain": [
       "<Figure size 432x288 with 1 Axes>"
      ]
     },
     "metadata": {},
     "output_type": "display_data"
    }
   ],
   "source": [
    "sns.scatterplot(df[0], df[1], df['cluster'], palette='rainbow', legend=False);"
   ]
  },
  {
   "cell_type": "markdown",
   "metadata": {},
   "source": [
    "### Mescla de datasets"
   ]
  },
  {
   "cell_type": "markdown",
   "metadata": {},
   "source": [
    "Como os dados já foram anteriormente tratados basta apenas mesclar com o que já existe."
   ]
  },
  {
   "cell_type": "code",
   "execution_count": 96,
   "metadata": {},
   "outputs": [],
   "source": [
    "championsdata2 = df_champions2_usable.set_index('name')[['cluster']].join(championsdata.reset_index().set_index('name')['id'])"
   ]
  },
  {
   "cell_type": "code",
   "execution_count": 97,
   "metadata": {},
   "outputs": [
    {
     "data": {
      "text/html": [
       "<div>\n",
       "<style scoped>\n",
       "    .dataframe tbody tr th:only-of-type {\n",
       "        vertical-align: middle;\n",
       "    }\n",
       "\n",
       "    .dataframe tbody tr th {\n",
       "        vertical-align: top;\n",
       "    }\n",
       "\n",
       "    .dataframe thead th {\n",
       "        text-align: right;\n",
       "    }\n",
       "</style>\n",
       "<table border=\"1\" class=\"dataframe\">\n",
       "  <thead>\n",
       "    <tr style=\"text-align: right;\">\n",
       "      <th></th>\n",
       "      <th>cluster</th>\n",
       "      <th>id</th>\n",
       "      <th>0</th>\n",
       "      <th>1</th>\n",
       "      <th>2</th>\n",
       "      <th>3</th>\n",
       "      <th>4</th>\n",
       "      <th>5</th>\n",
       "      <th>6</th>\n",
       "    </tr>\n",
       "    <tr>\n",
       "      <th>name</th>\n",
       "      <th></th>\n",
       "      <th></th>\n",
       "      <th></th>\n",
       "      <th></th>\n",
       "      <th></th>\n",
       "      <th></th>\n",
       "      <th></th>\n",
       "      <th></th>\n",
       "      <th></th>\n",
       "    </tr>\n",
       "  </thead>\n",
       "  <tbody>\n",
       "    <tr>\n",
       "      <td>Aatrox</td>\n",
       "      <td>2</td>\n",
       "      <td>266</td>\n",
       "      <td>0</td>\n",
       "      <td>0</td>\n",
       "      <td>1</td>\n",
       "      <td>0</td>\n",
       "      <td>0</td>\n",
       "      <td>0</td>\n",
       "      <td>0</td>\n",
       "    </tr>\n",
       "    <tr>\n",
       "      <td>Ahri</td>\n",
       "      <td>4</td>\n",
       "      <td>103</td>\n",
       "      <td>0</td>\n",
       "      <td>0</td>\n",
       "      <td>0</td>\n",
       "      <td>0</td>\n",
       "      <td>1</td>\n",
       "      <td>0</td>\n",
       "      <td>0</td>\n",
       "    </tr>\n",
       "    <tr>\n",
       "      <td>Akali</td>\n",
       "      <td>5</td>\n",
       "      <td>84</td>\n",
       "      <td>0</td>\n",
       "      <td>0</td>\n",
       "      <td>0</td>\n",
       "      <td>0</td>\n",
       "      <td>0</td>\n",
       "      <td>1</td>\n",
       "      <td>0</td>\n",
       "    </tr>\n",
       "    <tr>\n",
       "      <td>Alistar</td>\n",
       "      <td>0</td>\n",
       "      <td>12</td>\n",
       "      <td>1</td>\n",
       "      <td>0</td>\n",
       "      <td>0</td>\n",
       "      <td>0</td>\n",
       "      <td>0</td>\n",
       "      <td>0</td>\n",
       "      <td>0</td>\n",
       "    </tr>\n",
       "    <tr>\n",
       "      <td>Amumu</td>\n",
       "      <td>3</td>\n",
       "      <td>32</td>\n",
       "      <td>0</td>\n",
       "      <td>0</td>\n",
       "      <td>0</td>\n",
       "      <td>1</td>\n",
       "      <td>0</td>\n",
       "      <td>0</td>\n",
       "      <td>0</td>\n",
       "    </tr>\n",
       "  </tbody>\n",
       "</table>\n",
       "</div>"
      ],
      "text/plain": [
       "         cluster   id  0  1  2  3  4  5  6\n",
       "name                                      \n",
       "Aatrox         2  266  0  0  1  0  0  0  0\n",
       "Ahri           4  103  0  0  0  0  1  0  0\n",
       "Akali          5   84  0  0  0  0  0  1  0\n",
       "Alistar        0   12  1  0  0  0  0  0  0\n",
       "Amumu          3   32  0  0  0  1  0  0  0"
      ]
     },
     "execution_count": 97,
     "metadata": {},
     "output_type": "execute_result"
    }
   ],
   "source": [
    "championsdata2 = championsdata2.join(championsdata2['cluster'].apply(lambda x: str(x)).str.get_dummies())\n",
    "championsdata2.head()"
   ]
  },
  {
   "cell_type": "code",
   "execution_count": 98,
   "metadata": {},
   "outputs": [
    {
     "data": {
      "text/html": [
       "<div>\n",
       "<style scoped>\n",
       "    .dataframe tbody tr th:only-of-type {\n",
       "        vertical-align: middle;\n",
       "    }\n",
       "\n",
       "    .dataframe tbody tr th {\n",
       "        vertical-align: top;\n",
       "    }\n",
       "\n",
       "    .dataframe thead th {\n",
       "        text-align: right;\n",
       "    }\n",
       "</style>\n",
       "<table border=\"1\" class=\"dataframe\">\n",
       "  <thead>\n",
       "    <tr style=\"text-align: right;\">\n",
       "      <th></th>\n",
       "      <th>win</th>\n",
       "      <th>absid</th>\n",
       "      <th>cluster</th>\n",
       "      <th>id</th>\n",
       "      <th>0</th>\n",
       "      <th>1</th>\n",
       "      <th>2</th>\n",
       "      <th>3</th>\n",
       "      <th>4</th>\n",
       "      <th>5</th>\n",
       "      <th>6</th>\n",
       "    </tr>\n",
       "    <tr>\n",
       "      <th>name</th>\n",
       "      <th></th>\n",
       "      <th></th>\n",
       "      <th></th>\n",
       "      <th></th>\n",
       "      <th></th>\n",
       "      <th></th>\n",
       "      <th></th>\n",
       "      <th></th>\n",
       "      <th></th>\n",
       "      <th></th>\n",
       "      <th></th>\n",
       "    </tr>\n",
       "  </thead>\n",
       "  <tbody>\n",
       "    <tr>\n",
       "      <td>Aatrox</td>\n",
       "      <td>1.0</td>\n",
       "      <td>92100</td>\n",
       "      <td>2</td>\n",
       "      <td>266</td>\n",
       "      <td>0</td>\n",
       "      <td>0</td>\n",
       "      <td>1</td>\n",
       "      <td>0</td>\n",
       "      <td>0</td>\n",
       "      <td>0</td>\n",
       "      <td>0</td>\n",
       "    </tr>\n",
       "    <tr>\n",
       "      <td>Aatrox</td>\n",
       "      <td>0.0</td>\n",
       "      <td>186200</td>\n",
       "      <td>2</td>\n",
       "      <td>266</td>\n",
       "      <td>0</td>\n",
       "      <td>0</td>\n",
       "      <td>1</td>\n",
       "      <td>0</td>\n",
       "      <td>0</td>\n",
       "      <td>0</td>\n",
       "      <td>0</td>\n",
       "    </tr>\n",
       "    <tr>\n",
       "      <td>Aatrox</td>\n",
       "      <td>0.0</td>\n",
       "      <td>205200</td>\n",
       "      <td>2</td>\n",
       "      <td>266</td>\n",
       "      <td>0</td>\n",
       "      <td>0</td>\n",
       "      <td>1</td>\n",
       "      <td>0</td>\n",
       "      <td>0</td>\n",
       "      <td>0</td>\n",
       "      <td>0</td>\n",
       "    </tr>\n",
       "    <tr>\n",
       "      <td>Aatrox</td>\n",
       "      <td>1.0</td>\n",
       "      <td>244200</td>\n",
       "      <td>2</td>\n",
       "      <td>266</td>\n",
       "      <td>0</td>\n",
       "      <td>0</td>\n",
       "      <td>1</td>\n",
       "      <td>0</td>\n",
       "      <td>0</td>\n",
       "      <td>0</td>\n",
       "      <td>0</td>\n",
       "    </tr>\n",
       "    <tr>\n",
       "      <td>Aatrox</td>\n",
       "      <td>1.0</td>\n",
       "      <td>252100</td>\n",
       "      <td>2</td>\n",
       "      <td>266</td>\n",
       "      <td>0</td>\n",
       "      <td>0</td>\n",
       "      <td>1</td>\n",
       "      <td>0</td>\n",
       "      <td>0</td>\n",
       "      <td>0</td>\n",
       "      <td>0</td>\n",
       "    </tr>\n",
       "  </tbody>\n",
       "</table>\n",
       "</div>"
      ],
      "text/plain": [
       "        win   absid  cluster   id  0  1  2  3  4  5  6\n",
       "name                                                  \n",
       "Aatrox  1.0   92100        2  266  0  0  1  0  0  0  0\n",
       "Aatrox  0.0  186200        2  266  0  0  1  0  0  0  0\n",
       "Aatrox  0.0  205200        2  266  0  0  1  0  0  0  0\n",
       "Aatrox  1.0  244200        2  266  0  0  1  0  0  0  0\n",
       "Aatrox  1.0  252100        2  266  0  0  1  0  0  0  0"
      ]
     },
     "execution_count": 98,
     "metadata": {},
     "output_type": "execute_result"
    }
   ],
   "source": [
    "playerdata2 = playerdata.set_index('name')[['win', 'absid']].join(championsdata2)\n",
    "playerdata2.head()"
   ]
  },
  {
   "cell_type": "code",
   "execution_count": 99,
   "metadata": {},
   "outputs": [
    {
     "data": {
      "text/html": [
       "<div>\n",
       "<style scoped>\n",
       "    .dataframe tbody tr th:only-of-type {\n",
       "        vertical-align: middle;\n",
       "    }\n",
       "\n",
       "    .dataframe tbody tr th {\n",
       "        vertical-align: top;\n",
       "    }\n",
       "\n",
       "    .dataframe thead th {\n",
       "        text-align: right;\n",
       "    }\n",
       "</style>\n",
       "<table border=\"1\" class=\"dataframe\">\n",
       "  <thead>\n",
       "    <tr style=\"text-align: right;\">\n",
       "      <th></th>\n",
       "      <th>win</th>\n",
       "      <th>0</th>\n",
       "      <th>1</th>\n",
       "      <th>2</th>\n",
       "      <th>3</th>\n",
       "      <th>4</th>\n",
       "      <th>5</th>\n",
       "      <th>6</th>\n",
       "      <th>firstblood</th>\n",
       "      <th>firsttower</th>\n",
       "      <th>firstinhib</th>\n",
       "      <th>firstbaron</th>\n",
       "      <th>firstdragon</th>\n",
       "      <th>firstharry</th>\n",
       "      <th>towerkills</th>\n",
       "      <th>inhibkills</th>\n",
       "      <th>baronkills</th>\n",
       "      <th>dragonkills</th>\n",
       "      <th>harrykills</th>\n",
       "    </tr>\n",
       "    <tr>\n",
       "      <th>absid</th>\n",
       "      <th></th>\n",
       "      <th></th>\n",
       "      <th></th>\n",
       "      <th></th>\n",
       "      <th></th>\n",
       "      <th></th>\n",
       "      <th></th>\n",
       "      <th></th>\n",
       "      <th></th>\n",
       "      <th></th>\n",
       "      <th></th>\n",
       "      <th></th>\n",
       "      <th></th>\n",
       "      <th></th>\n",
       "      <th></th>\n",
       "      <th></th>\n",
       "      <th></th>\n",
       "      <th></th>\n",
       "      <th></th>\n",
       "    </tr>\n",
       "  </thead>\n",
       "  <tbody>\n",
       "    <tr>\n",
       "      <td>10100</td>\n",
       "      <td>0.0</td>\n",
       "      <td>0</td>\n",
       "      <td>2</td>\n",
       "      <td>0</td>\n",
       "      <td>2</td>\n",
       "      <td>1</td>\n",
       "      <td>0</td>\n",
       "      <td>0</td>\n",
       "      <td>0</td>\n",
       "      <td>1</td>\n",
       "      <td>0</td>\n",
       "      <td>0</td>\n",
       "      <td>0</td>\n",
       "      <td>0</td>\n",
       "      <td>5</td>\n",
       "      <td>0</td>\n",
       "      <td>0</td>\n",
       "      <td>0</td>\n",
       "      <td>0</td>\n",
       "    </tr>\n",
       "    <tr>\n",
       "      <td>10200</td>\n",
       "      <td>5.0</td>\n",
       "      <td>2</td>\n",
       "      <td>1</td>\n",
       "      <td>0</td>\n",
       "      <td>0</td>\n",
       "      <td>2</td>\n",
       "      <td>0</td>\n",
       "      <td>0</td>\n",
       "      <td>1</td>\n",
       "      <td>0</td>\n",
       "      <td>1</td>\n",
       "      <td>1</td>\n",
       "      <td>1</td>\n",
       "      <td>1</td>\n",
       "      <td>10</td>\n",
       "      <td>3</td>\n",
       "      <td>1</td>\n",
       "      <td>3</td>\n",
       "      <td>1</td>\n",
       "    </tr>\n",
       "    <tr>\n",
       "      <td>11100</td>\n",
       "      <td>0.0</td>\n",
       "      <td>0</td>\n",
       "      <td>0</td>\n",
       "      <td>1</td>\n",
       "      <td>1</td>\n",
       "      <td>3</td>\n",
       "      <td>0</td>\n",
       "      <td>0</td>\n",
       "      <td>1</td>\n",
       "      <td>0</td>\n",
       "      <td>0</td>\n",
       "      <td>0</td>\n",
       "      <td>0</td>\n",
       "      <td>0</td>\n",
       "      <td>2</td>\n",
       "      <td>0</td>\n",
       "      <td>0</td>\n",
       "      <td>0</td>\n",
       "      <td>0</td>\n",
       "    </tr>\n",
       "    <tr>\n",
       "      <td>11200</td>\n",
       "      <td>5.0</td>\n",
       "      <td>0</td>\n",
       "      <td>1</td>\n",
       "      <td>0</td>\n",
       "      <td>2</td>\n",
       "      <td>1</td>\n",
       "      <td>0</td>\n",
       "      <td>1</td>\n",
       "      <td>0</td>\n",
       "      <td>1</td>\n",
       "      <td>1</td>\n",
       "      <td>0</td>\n",
       "      <td>1</td>\n",
       "      <td>0</td>\n",
       "      <td>10</td>\n",
       "      <td>3</td>\n",
       "      <td>0</td>\n",
       "      <td>2</td>\n",
       "      <td>0</td>\n",
       "    </tr>\n",
       "    <tr>\n",
       "      <td>12100</td>\n",
       "      <td>0.0</td>\n",
       "      <td>0</td>\n",
       "      <td>3</td>\n",
       "      <td>0</td>\n",
       "      <td>1</td>\n",
       "      <td>1</td>\n",
       "      <td>0</td>\n",
       "      <td>0</td>\n",
       "      <td>1</td>\n",
       "      <td>0</td>\n",
       "      <td>0</td>\n",
       "      <td>0</td>\n",
       "      <td>0</td>\n",
       "      <td>0</td>\n",
       "      <td>1</td>\n",
       "      <td>0</td>\n",
       "      <td>0</td>\n",
       "      <td>0</td>\n",
       "      <td>0</td>\n",
       "    </tr>\n",
       "  </tbody>\n",
       "</table>\n",
       "</div>"
      ],
      "text/plain": [
       "       win  0  1  2  3  4  5  6  firstblood  firsttower  firstinhib  \\\n",
       "absid                                                                 \n",
       "10100  0.0  0  2  0  2  1  0  0           0           1           0   \n",
       "10200  5.0  2  1  0  0  2  0  0           1           0           1   \n",
       "11100  0.0  0  0  1  1  3  0  0           1           0           0   \n",
       "11200  5.0  0  1  0  2  1  0  1           0           1           1   \n",
       "12100  0.0  0  3  0  1  1  0  0           1           0           0   \n",
       "\n",
       "       firstbaron  firstdragon  firstharry  towerkills  inhibkills  \\\n",
       "absid                                                                \n",
       "10100           0            0           0           5           0   \n",
       "10200           1            1           1          10           3   \n",
       "11100           0            0           0           2           0   \n",
       "11200           0            1           0          10           3   \n",
       "12100           0            0           0           1           0   \n",
       "\n",
       "       baronkills  dragonkills  harrykills  \n",
       "absid                                       \n",
       "10100           0            0           0  \n",
       "10200           1            3           1  \n",
       "11100           0            0           0  \n",
       "11200           0            2           0  \n",
       "12100           0            0           0  "
      ]
     },
     "execution_count": 99,
     "metadata": {},
     "output_type": "execute_result"
    }
   ],
   "source": [
    "teamdata2 = playerdata2.groupby('absid').sum().drop(columns='id')\n",
    "teamdata2 = teamdata2.join(df_teamstats.drop(columns=['matchid', 'teamid'])).drop(columns='cluster')\n",
    "teamdata2.head()"
   ]
  },
  {
   "cell_type": "code",
   "execution_count": 100,
   "metadata": {},
   "outputs": [
    {
     "data": {
      "text/html": [
       "<div>\n",
       "<style scoped>\n",
       "    .dataframe tbody tr th:only-of-type {\n",
       "        vertical-align: middle;\n",
       "    }\n",
       "\n",
       "    .dataframe tbody tr th {\n",
       "        vertical-align: top;\n",
       "    }\n",
       "\n",
       "    .dataframe thead th {\n",
       "        text-align: right;\n",
       "    }\n",
       "</style>\n",
       "<table border=\"1\" class=\"dataframe\">\n",
       "  <thead>\n",
       "    <tr style=\"text-align: right;\">\n",
       "      <th></th>\n",
       "      <th>win</th>\n",
       "      <th>0</th>\n",
       "      <th>1</th>\n",
       "      <th>2</th>\n",
       "      <th>3</th>\n",
       "      <th>4</th>\n",
       "      <th>5</th>\n",
       "      <th>6</th>\n",
       "      <th>firstblood</th>\n",
       "      <th>firsttower</th>\n",
       "      <th>firstinhib</th>\n",
       "      <th>firstbaron</th>\n",
       "      <th>firstdragon</th>\n",
       "      <th>firstharry</th>\n",
       "      <th>towerkills</th>\n",
       "      <th>inhibkills</th>\n",
       "      <th>baronkills</th>\n",
       "      <th>dragonkills</th>\n",
       "      <th>harrykills</th>\n",
       "    </tr>\n",
       "    <tr>\n",
       "      <th>absid</th>\n",
       "      <th></th>\n",
       "      <th></th>\n",
       "      <th></th>\n",
       "      <th></th>\n",
       "      <th></th>\n",
       "      <th></th>\n",
       "      <th></th>\n",
       "      <th></th>\n",
       "      <th></th>\n",
       "      <th></th>\n",
       "      <th></th>\n",
       "      <th></th>\n",
       "      <th></th>\n",
       "      <th></th>\n",
       "      <th></th>\n",
       "      <th></th>\n",
       "      <th></th>\n",
       "      <th></th>\n",
       "      <th></th>\n",
       "    </tr>\n",
       "  </thead>\n",
       "  <tbody>\n",
       "    <tr>\n",
       "      <td>10100</td>\n",
       "      <td>0</td>\n",
       "      <td>0</td>\n",
       "      <td>1</td>\n",
       "      <td>0</td>\n",
       "      <td>1</td>\n",
       "      <td>1</td>\n",
       "      <td>0</td>\n",
       "      <td>0</td>\n",
       "      <td>0</td>\n",
       "      <td>1</td>\n",
       "      <td>0</td>\n",
       "      <td>0</td>\n",
       "      <td>0</td>\n",
       "      <td>0</td>\n",
       "      <td>5</td>\n",
       "      <td>0</td>\n",
       "      <td>0</td>\n",
       "      <td>0</td>\n",
       "      <td>0</td>\n",
       "    </tr>\n",
       "    <tr>\n",
       "      <td>10200</td>\n",
       "      <td>1</td>\n",
       "      <td>1</td>\n",
       "      <td>1</td>\n",
       "      <td>0</td>\n",
       "      <td>0</td>\n",
       "      <td>1</td>\n",
       "      <td>0</td>\n",
       "      <td>0</td>\n",
       "      <td>1</td>\n",
       "      <td>0</td>\n",
       "      <td>1</td>\n",
       "      <td>1</td>\n",
       "      <td>1</td>\n",
       "      <td>1</td>\n",
       "      <td>10</td>\n",
       "      <td>3</td>\n",
       "      <td>1</td>\n",
       "      <td>3</td>\n",
       "      <td>1</td>\n",
       "    </tr>\n",
       "    <tr>\n",
       "      <td>11100</td>\n",
       "      <td>0</td>\n",
       "      <td>0</td>\n",
       "      <td>0</td>\n",
       "      <td>1</td>\n",
       "      <td>1</td>\n",
       "      <td>1</td>\n",
       "      <td>0</td>\n",
       "      <td>0</td>\n",
       "      <td>1</td>\n",
       "      <td>0</td>\n",
       "      <td>0</td>\n",
       "      <td>0</td>\n",
       "      <td>0</td>\n",
       "      <td>0</td>\n",
       "      <td>2</td>\n",
       "      <td>0</td>\n",
       "      <td>0</td>\n",
       "      <td>0</td>\n",
       "      <td>0</td>\n",
       "    </tr>\n",
       "    <tr>\n",
       "      <td>11200</td>\n",
       "      <td>1</td>\n",
       "      <td>0</td>\n",
       "      <td>1</td>\n",
       "      <td>0</td>\n",
       "      <td>1</td>\n",
       "      <td>1</td>\n",
       "      <td>0</td>\n",
       "      <td>1</td>\n",
       "      <td>0</td>\n",
       "      <td>1</td>\n",
       "      <td>1</td>\n",
       "      <td>0</td>\n",
       "      <td>1</td>\n",
       "      <td>0</td>\n",
       "      <td>10</td>\n",
       "      <td>3</td>\n",
       "      <td>0</td>\n",
       "      <td>2</td>\n",
       "      <td>0</td>\n",
       "    </tr>\n",
       "    <tr>\n",
       "      <td>12100</td>\n",
       "      <td>0</td>\n",
       "      <td>0</td>\n",
       "      <td>1</td>\n",
       "      <td>0</td>\n",
       "      <td>1</td>\n",
       "      <td>1</td>\n",
       "      <td>0</td>\n",
       "      <td>0</td>\n",
       "      <td>1</td>\n",
       "      <td>0</td>\n",
       "      <td>0</td>\n",
       "      <td>0</td>\n",
       "      <td>0</td>\n",
       "      <td>0</td>\n",
       "      <td>1</td>\n",
       "      <td>0</td>\n",
       "      <td>0</td>\n",
       "      <td>0</td>\n",
       "      <td>0</td>\n",
       "    </tr>\n",
       "  </tbody>\n",
       "</table>\n",
       "</div>"
      ],
      "text/plain": [
       "       win  0  1  2  3  4  5  6  firstblood  firsttower  firstinhib  \\\n",
       "absid                                                                 \n",
       "10100    0  0  1  0  1  1  0  0           0           1           0   \n",
       "10200    1  1  1  0  0  1  0  0           1           0           1   \n",
       "11100    0  0  0  1  1  1  0  0           1           0           0   \n",
       "11200    1  0  1  0  1  1  0  1           0           1           1   \n",
       "12100    0  0  1  0  1  1  0  0           1           0           0   \n",
       "\n",
       "       firstbaron  firstdragon  firstharry  towerkills  inhibkills  \\\n",
       "absid                                                                \n",
       "10100           0            0           0           5           0   \n",
       "10200           1            1           1          10           3   \n",
       "11100           0            0           0           2           0   \n",
       "11200           0            1           0          10           3   \n",
       "12100           0            0           0           1           0   \n",
       "\n",
       "       baronkills  dragonkills  harrykills  \n",
       "absid                                       \n",
       "10100           0            0           0  \n",
       "10200           1            3           1  \n",
       "11100           0            0           0  \n",
       "11200           0            2           0  \n",
       "12100           0            0           0  "
      ]
     },
     "execution_count": 100,
     "metadata": {},
     "output_type": "execute_result"
    }
   ],
   "source": [
    "for item in range(0, 7):\n",
    "    teamdata2[str(item)] = teamdata2[str(item)].apply(lambda x: 1 if x > 0 else 0)\n",
    "\n",
    "teamdata2['win'] = teamdata2['win'].apply(lambda x: 1 if x > 0 else 0)\n",
    "teamdata2.head()"
   ]
  },
  {
   "cell_type": "markdown",
   "metadata": {},
   "source": [
    "# Visualização de Dados"
   ]
  },
  {
   "cell_type": "code",
   "execution_count": 101,
   "metadata": {},
   "outputs": [
    {
     "data": {
      "image/png": "[encoded data removed]",
      "text/plain": [
       "<Figure size 1440x720 with 8 Axes>"
      ]
     },
     "metadata": {},
     "output_type": "display_data"
    }
   ],
   "source": [
    "fig, ax = plt.subplots(2, 4, figsize=(20, 10))\n",
    "k = 0\n",
    "j = 0\n",
    "for item in range(0, 7):\n",
    "    sns.countplot(teamdata2[str(item)].replace([0, 1], ['No', 'Yes']), order=['No', 'Yes'],\n",
    "                  ax=ax[k][j]);\n",
    "    ax[k][j].set_ylabel('')\n",
    "    j += 1\n",
    "    if j == 4:\n",
    "        k += 1\n",
    "        j = 0"
   ]
  },
  {
   "cell_type": "code",
   "execution_count": 102,
   "metadata": {},
   "outputs": [
    {
     "data": {
      "image/png": "[encoded data removed]",
      "text/plain": [
       "<Figure size 1440x720 with 8 Axes>"
      ]
     },
     "metadata": {},
     "output_type": "display_data"
    }
   ],
   "source": [
    "fig, ax = plt.subplots(2, 4, figsize=(20, 10))\n",
    "k = 0\n",
    "j = 0\n",
    "for item in range(0, 7):\n",
    "    sns.countplot(teamdata2[str(item)].replace([0, 1], ['No', 'Yes']), order=['No', 'Yes'],\n",
    "                  hue=teamdata2['win'].replace([0, 1], ['Lost', 'Won']), ax=ax[k][j]);\n",
    "    ax[k][j].set_ylabel('')\n",
    "    j += 1\n",
    "    if j == 4:\n",
    "        k += 1\n",
    "        j = 0"
   ]
  },
  {
   "cell_type": "markdown",
   "metadata": {},
   "source": [
    "# Modelagem e Ajuste"
   ]
  },
  {
   "cell_type": "markdown",
   "metadata": {},
   "source": [
    "Repetindo o que já foi realizado antes para as novas classificações."
   ]
  },
  {
   "cell_type": "code",
   "execution_count": 103,
   "metadata": {},
   "outputs": [],
   "source": [
    "clusters = [str(x) for x in range(0, 7)]\n",
    "attributes = ['firstblood', 'firsttower', 'firstinhib', 'firstbaron', 'firstdragon', 'firstharry']\n",
    "booleans = clusters+attributes"
   ]
  },
  {
   "cell_type": "code",
   "execution_count": 104,
   "metadata": {},
   "outputs": [],
   "source": [
    "xtrainb, xtestb, ytrainb, ytestb = tts(teamdata2[booleans], teamdata2['win'], test_size=0.25)\n",
    "xtrainc, xtestc, ytrainc, ytestc = tts(teamdata2[clusters], teamdata2['win'], test_size=0.25)\n",
    "xtraini, xtesti, ytraini, ytesti = tts(teamdata2[booleans[:-4]], teamdata2['win'], test_size=0.25)"
   ]
  },
  {
   "cell_type": "markdown",
   "metadata": {},
   "source": [
    "## Regressão Logística"
   ]
  },
  {
   "cell_type": "markdown",
   "metadata": {},
   "source": [
    "### Todas as variáveis booleanas"
   ]
  },
  {
   "cell_type": "code",
   "execution_count": 105,
   "metadata": {},
   "outputs": [
    {
     "name": "stderr",
     "output_type": "stream",
     "text": [
      "/usr/local/lib/python3.7/site-packages/sklearn/linear_model/logistic.py:432: FutureWarning: Default solver will be changed to 'lbfgs' in 0.22. Specify a solver to silence this warning.\n",
      "  FutureWarning)\n"
     ]
    }
   ],
   "source": [
    "teammodelb = LogisticRegression(random_state=19)\n",
    "teammodelb.fit(xtrainb, ytrainb)\n",
    "ypredb = teammodelb.predict(xtestb)"
   ]
  },
  {
   "cell_type": "code",
   "execution_count": 106,
   "metadata": {},
   "outputs": [
    {
     "data": {
      "text/plain": [
       "array([[42134,  3831],\n",
       "       [ 7265, 38804]])"
      ]
     },
     "execution_count": 106,
     "metadata": {},
     "output_type": "execute_result"
    }
   ],
   "source": [
    "confusion_matrix(ytestb, ypredb)"
   ]
  },
  {
   "cell_type": "code",
   "execution_count": 107,
   "metadata": {},
   "outputs": [
    {
     "data": {
      "text/plain": [
       "0.8794358606601907"
      ]
     },
     "execution_count": 107,
     "metadata": {},
     "output_type": "execute_result"
    }
   ],
   "source": [
    "accuracy_score(ytestb, ypredb)"
   ]
  },
  {
   "cell_type": "markdown",
   "metadata": {},
   "source": [
    "### Apenas indicadores de classe"
   ]
  },
  {
   "cell_type": "code",
   "execution_count": 108,
   "metadata": {},
   "outputs": [
    {
     "name": "stderr",
     "output_type": "stream",
     "text": [
      "/usr/local/lib/python3.7/site-packages/sklearn/linear_model/logistic.py:432: FutureWarning: Default solver will be changed to 'lbfgs' in 0.22. Specify a solver to silence this warning.\n",
      "  FutureWarning)\n"
     ]
    }
   ],
   "source": [
    "teammodelc = LogisticRegression(random_state=19)\n",
    "teammodelc.fit(xtrainc, ytrainc)\n",
    "ypredc = teammodelc.predict(xtestc)"
   ]
  },
  {
   "cell_type": "code",
   "execution_count": 109,
   "metadata": {},
   "outputs": [
    {
     "data": {
      "text/plain": [
       "array([[15539, 30336],\n",
       "       [14998, 31161]])"
      ]
     },
     "execution_count": 109,
     "metadata": {},
     "output_type": "execute_result"
    }
   ],
   "source": [
    "confusion_matrix(ytestc, ypredc)"
   ]
  },
  {
   "cell_type": "code",
   "execution_count": 110,
   "metadata": {},
   "outputs": [
    {
     "data": {
      "text/plain": [
       "0.5074211704370124"
      ]
     },
     "execution_count": 110,
     "metadata": {},
     "output_type": "execute_result"
    }
   ],
   "source": [
    "accuracy_score(ytestc, ypredc)"
   ]
  },
  {
   "cell_type": "markdown",
   "metadata": {},
   "source": [
    "### Indicadores de classe e conquistas de começo de partida"
   ]
  },
  {
   "cell_type": "code",
   "execution_count": 111,
   "metadata": {},
   "outputs": [
    {
     "name": "stderr",
     "output_type": "stream",
     "text": [
      "/usr/local/lib/python3.7/site-packages/sklearn/linear_model/logistic.py:432: FutureWarning: Default solver will be changed to 'lbfgs' in 0.22. Specify a solver to silence this warning.\n",
      "  FutureWarning)\n"
     ]
    }
   ],
   "source": [
    "teammodeli = LogisticRegression(random_state=19)\n",
    "teammodeli.fit(xtraini, ytraini)\n",
    "ypredi = teammodeli.predict(xtesti)"
   ]
  },
  {
   "cell_type": "code",
   "execution_count": 112,
   "metadata": {},
   "outputs": [
    {
     "data": {
      "text/plain": [
       "array([[33143, 12643],\n",
       "       [14147, 32101]])"
      ]
     },
     "execution_count": 112,
     "metadata": {},
     "output_type": "execute_result"
    }
   ],
   "source": [
    "confusion_matrix(ytesti, ypredi)"
   ]
  },
  {
   "cell_type": "code",
   "execution_count": 113,
   "metadata": {},
   "outputs": [
    {
     "data": {
      "text/plain": [
       "0.7089119238542277"
      ]
     },
     "execution_count": 113,
     "metadata": {},
     "output_type": "execute_result"
    }
   ],
   "source": [
    "accuracy_score(ytesti, ypredi)"
   ]
  }
 ],
 "metadata": {
  "kernelspec": {
   "display_name": "Python 3",
   "language": "python",
   "name": "python3"
  },
  "language_info": {
   "codemirror_mode": {
    "name": "ipython",
    "version": 3
   },
   "file_extension": ".py",
   "mimetype": "text/x-python",
   "name": "python",
   "nbconvert_exporter": "python",
   "pygments_lexer": "ipython3",
   "version": "3.7.4"
  }
 },
 "nbformat": 4,
 "nbformat_minor": 2
}
